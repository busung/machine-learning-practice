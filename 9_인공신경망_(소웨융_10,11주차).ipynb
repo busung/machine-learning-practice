{
  "nbformat": 4,
  "nbformat_minor": 0,
  "metadata": {
    "colab": {
      "name": "9.인공신경망 (소웨융 10,11주차).ipynb",
      "provenance": [],
      "collapsed_sections": [
        "iI5tXxCNuUDm",
        "QXx9t03GuwMd",
        "KY39AbBU1EEy",
        "Aqi-tTJez71M"
      ],
      "authorship_tag": "ABX9TyN96ZO2p3QNvj7PmBgq09RB",
      "include_colab_link": true
    },
    "kernelspec": {
      "name": "python3",
      "display_name": "Python 3"
    },
    "language_info": {
      "name": "python"
    }
  },
  "cells": [
    {
      "cell_type": "markdown",
      "metadata": {
        "id": "view-in-github",
        "colab_type": "text"
      },
      "source": [
        "<a href=\"https://colab.research.google.com/github/busung/machine-learning-practice/blob/main/9_%EC%9D%B8%EA%B3%B5%EC%8B%A0%EA%B2%BD%EB%A7%9D_(%EC%86%8C%EC%9B%A8%EC%9C%B5_10%2C11%EC%A3%BC%EC%B0%A8).ipynb\" target=\"_parent\"><img src=\"https://colab.research.google.com/assets/colab-badge.svg\" alt=\"Open In Colab\"/></a>"
      ]
    },
    {
      "cell_type": "markdown",
      "source": [
        "# 인공신경망\n",
        "* 텐서플로우"
      ],
      "metadata": {
        "id": "01gFxZEAnx-4"
      }
    },
    {
      "cell_type": "code",
      "source": [
        "import numpy as np\n",
        "import matplotlib.pyplot as plt\n",
        "import tensorflow as tf"
      ],
      "metadata": {
        "id": "Lj0oZSsZox1K"
      },
      "execution_count": null,
      "outputs": []
    },
    {
      "cell_type": "markdown",
      "source": [
        "## AND,OR,NOT,XOR"
      ],
      "metadata": {
        "id": "780W0Jain7O_"
      }
    },
    {
      "cell_type": "markdown",
      "source": [
        "## And"
      ],
      "metadata": {
        "id": "BnyWDWNGt9hS"
      }
    },
    {
      "cell_type": "markdown",
      "source": [
        "### Data 준비"
      ],
      "metadata": {
        "id": "pLcIWg2ep307"
      }
    },
    {
      "cell_type": "code",
      "source": [
        "def sigmoid(x):\n",
        "  return(1/(1+np.exp(-x)))"
      ],
      "metadata": {
        "id": "wOEabxGLsAlB"
      },
      "execution_count": null,
      "outputs": []
    },
    {
      "cell_type": "code",
      "source": [
        "X = np.array([[1,1],[1,0],[0,1],[0,0]])\n",
        "Y = np.array([[1],[0],[0],[0]])\n",
        "\n",
        "W = tf.random.normal([2],0,1)#기울기는 2개\n",
        "b = tf.random.normal([1],0,1)#절편은 1개\n",
        "b_x = 1"
      ],
      "metadata": {
        "id": "d6S4eBQ6pSs5"
      },
      "execution_count": null,
      "outputs": []
    },
    {
      "cell_type": "markdown",
      "source": [
        "### 모델 생성"
      ],
      "metadata": {
        "id": "CoBThf_Zp6Gl"
      }
    },
    {
      "cell_type": "code",
      "source": [
        "for i in range(10000):\n",
        "  error_sum = 0\n",
        "\n",
        "  for j in range(4):\n",
        "    output = sigmoid(np.sum(X[j]*W)+b_x+b)\n",
        "    error = Y[j][0] - output\n",
        "    W = W + X[j] * 0.1 * error\n",
        "    b = b + b_x * 0.1 * error\n",
        "    error_sum += error\n",
        "\n",
        "  if i % 100 == 0:\n",
        "    print(f\"Epoch{i} \\t Error {error_sum}\")\n",
        "\n",
        "print(W,b)"
      ],
      "metadata": {
        "colab": {
          "base_uri": "https://localhost:8080/"
        },
        "id": "AptfPrsDp3Qc",
        "outputId": "bcdded6d-27c1-4aeb-e6b4-7e23e8432a35"
      },
      "execution_count": null,
      "outputs": [
        {
          "output_type": "stream",
          "name": "stdout",
          "text": [
            "Epoch0 \t Error [-0.01010695]\n",
            "Epoch100 \t Error [-0.00978233]\n",
            "Epoch200 \t Error [-0.00947768]\n",
            "Epoch300 \t Error [-0.00919127]\n",
            "Epoch400 \t Error [-0.00892171]\n",
            "Epoch500 \t Error [-0.00866989]\n",
            "Epoch600 \t Error [-0.00843066]\n",
            "Epoch700 \t Error [-0.00820385]\n",
            "Epoch800 \t Error [-0.00798842]\n",
            "Epoch900 \t Error [-0.00778413]\n",
            "tf.Tensor([8.374796 8.376383], shape=(2,), dtype=float32) tf.Tensor([-13.735756], shape=(1,), dtype=float32)\n"
          ]
        }
      ]
    },
    {
      "cell_type": "code",
      "source": [
        "for i in range(4):\n",
        "  print(f\"X: {X[i]}, Y: {Y[i]}, output: {sigmoid(np.sum(X[i]*W)+b)}\")"
      ],
      "metadata": {
        "colab": {
          "base_uri": "https://localhost:8080/"
        },
        "id": "ePUxsg01tIhL",
        "outputId": "a9401d1f-87b2-4927-9c6e-c1f96797b1e9"
      },
      "execution_count": null,
      "outputs": [
        {
          "output_type": "stream",
          "name": "stdout",
          "text": [
            "X: [1 1], Y: [1], output: [0.9532661]\n",
            "X: [1 0], Y: [0], output: [0.00467444]\n",
            "X: [0 1], Y: [0], output: [0.00468183]\n",
            "X: [0 0], Y: [0], output: [1.0830202e-06]\n"
          ]
        }
      ]
    },
    {
      "cell_type": "markdown",
      "source": [
        "## OR"
      ],
      "metadata": {
        "id": "9SLl8ZdnuBq4"
      }
    },
    {
      "cell_type": "markdown",
      "source": [
        "### Data 준비"
      ],
      "metadata": {
        "id": "-Lx9cvT1uIFH"
      }
    },
    {
      "cell_type": "code",
      "source": [
        "def sigmoid(x):\n",
        "  return(1/(1+np.exp(-x)))"
      ],
      "metadata": {
        "id": "nqavZogfuIFK"
      },
      "execution_count": null,
      "outputs": []
    },
    {
      "cell_type": "code",
      "source": [
        "X = np.array([[1,1],[1,0],[0,1],[0,0]])\n",
        "Y = np.array([[1],[1],[1],[0]])\n",
        "\n",
        "W = tf.random.normal([2],0,1)#기울기는 2개\n",
        "b = tf.random.normal([1],0,1)#절편은 1개\n",
        "b_x = 1"
      ],
      "metadata": {
        "id": "KyJnZCEPuIFL"
      },
      "execution_count": null,
      "outputs": []
    },
    {
      "cell_type": "markdown",
      "source": [
        "### 모델 생성"
      ],
      "metadata": {
        "id": "l-ak-FCXuIFM"
      }
    },
    {
      "cell_type": "code",
      "source": [
        "for i in range(10000):\n",
        "  error_sum = 0\n",
        "\n",
        "  for j in range(4):\n",
        "    output = sigmoid(np.sum(X[j]*W)+b_x+b)\n",
        "    error = Y[j][0] - output\n",
        "    W = W + X[j] * 0.1 * error\n",
        "    b = b + b_x * 0.1 * error\n",
        "    error_sum += error\n",
        "\n",
        "  if i % 100 == 0:\n",
        "    print(f\"Epoch{i} \\t Error {error_sum}\")\n",
        "\n",
        "print(W,b)"
      ],
      "metadata": {
        "colab": {
          "base_uri": "https://localhost:8080/"
        },
        "outputId": "f174136e-14ca-49b4-b50f-64e389096348",
        "id": "R3cg3fUnuIFM"
      },
      "execution_count": null,
      "outputs": [
        {
          "output_type": "stream",
          "name": "stdout",
          "text": [
            "Epoch0 \t Error [1.9433886]\n",
            "Epoch100 \t Error [-0.10519868]\n",
            "Epoch200 \t Error [-0.05375105]\n",
            "Epoch300 \t Error [-0.03603707]\n",
            "Epoch400 \t Error [-0.02703032]\n",
            "Epoch500 \t Error [-0.0215751]\n",
            "Epoch600 \t Error [-0.01792385]\n",
            "Epoch700 \t Error [-0.01531295]\n",
            "Epoch800 \t Error [-0.01335604]\n",
            "Epoch900 \t Error [-0.01183644]\n",
            "Epoch1000 \t Error [-0.01062302]\n",
            "Epoch1100 \t Error [-0.00963221]\n",
            "Epoch1200 \t Error [-0.00880836]\n",
            "Epoch1300 \t Error [-0.00811327]\n",
            "Epoch1400 \t Error [-0.00751853]\n",
            "Epoch1500 \t Error [-0.00700556]\n",
            "Epoch1600 \t Error [-0.00655489]\n",
            "Epoch1700 \t Error [-0.00615937]\n",
            "Epoch1800 \t Error [-0.00580907]\n",
            "Epoch1900 \t Error [-0.00549573]\n",
            "Epoch2000 \t Error [-0.00521455]\n",
            "Epoch2100 \t Error [-0.00496045]\n",
            "Epoch2200 \t Error [-0.00472893]\n",
            "Epoch2300 \t Error [-0.0045177]\n",
            "Epoch2400 \t Error [-0.00432473]\n",
            "Epoch2500 \t Error [-0.00414777]\n",
            "Epoch2600 \t Error [-0.00398459]\n",
            "Epoch2700 \t Error [-0.00383367]\n",
            "Epoch2800 \t Error [-0.00369387]\n",
            "Epoch2900 \t Error [-0.00356384]\n",
            "Epoch3000 \t Error [-0.00344267]\n",
            "Epoch3100 \t Error [-0.00332939]\n",
            "Epoch3200 \t Error [-0.00322321]\n",
            "Epoch3300 \t Error [-0.00312363]\n",
            "Epoch3400 \t Error [-0.00302976]\n",
            "Epoch3500 \t Error [-0.00294178]\n",
            "Epoch3600 \t Error [-0.00285851]\n",
            "Epoch3700 \t Error [-0.00277972]\n",
            "Epoch3800 \t Error [-0.00270536]\n",
            "Epoch3900 \t Error [-0.00263475]\n",
            "Epoch4000 \t Error [-0.00256763]\n",
            "Epoch4100 \t Error [-0.00250396]\n",
            "Epoch4200 \t Error [-0.00244329]\n",
            "Epoch4300 \t Error [-0.0023856]\n",
            "Epoch4400 \t Error [-0.00233041]\n",
            "Epoch4500 \t Error [-0.00227767]\n",
            "Epoch4600 \t Error [-0.00222745]\n",
            "Epoch4700 \t Error [-0.00217908]\n",
            "Epoch4800 \t Error [-0.00213304]\n",
            "Epoch4900 \t Error [-0.00208871]\n",
            "Epoch5000 \t Error [-0.0020466]\n",
            "Epoch5100 \t Error [-0.00200564]\n",
            "Epoch5200 \t Error [-0.00196648]\n",
            "Epoch5300 \t Error [-0.00192874]\n",
            "Epoch5400 \t Error [-0.00189252]\n",
            "Epoch5500 \t Error [-0.00185758]\n",
            "Epoch5600 \t Error [-0.0018239]\n",
            "Epoch5700 \t Error [-0.00179151]\n",
            "Epoch5800 \t Error [-0.00176022]\n",
            "Epoch5900 \t Error [-0.00172996]\n",
            "Epoch6000 \t Error [-0.00170063]\n",
            "Epoch6100 \t Error [-0.00167236]\n",
            "Epoch6200 \t Error [-0.00164487]\n",
            "Epoch6300 \t Error [-0.00161859]\n",
            "Epoch6400 \t Error [-0.00159289]\n",
            "Epoch6500 \t Error [-0.00156804]\n",
            "Epoch6600 \t Error [-0.00154388]\n",
            "Epoch6700 \t Error [-0.0015206]\n",
            "Epoch6800 \t Error [-0.00149791]\n",
            "Epoch6900 \t Error [-0.00147589]\n",
            "Epoch7000 \t Error [-0.00145453]\n",
            "Epoch7100 \t Error [-0.00143394]\n",
            "Epoch7200 \t Error [-0.00141374]\n",
            "Epoch7300 \t Error [-0.00139418]\n",
            "Epoch7400 \t Error [-0.00137501]\n",
            "Epoch7500 \t Error [-0.00135638]\n",
            "Epoch7600 \t Error [-0.00133841]\n",
            "Epoch7700 \t Error [-0.00132079]\n",
            "Epoch7800 \t Error [-0.00130364]\n",
            "Epoch7900 \t Error [-0.00128701]\n",
            "Epoch8000 \t Error [-0.00127055]\n",
            "Epoch8100 \t Error [-0.0012548]\n",
            "Epoch8200 \t Error [-0.00123934]\n",
            "Epoch8300 \t Error [-0.00122416]\n",
            "Epoch8400 \t Error [-0.00120947]\n",
            "Epoch8500 \t Error [-0.00119504]\n",
            "Epoch8600 \t Error [-0.00118103]\n",
            "Epoch8700 \t Error [-0.0011672]\n",
            "Epoch8800 \t Error [-0.00115382]\n",
            "Epoch8900 \t Error [-0.00114077]\n",
            "Epoch9000 \t Error [-0.00112787]\n",
            "Epoch9100 \t Error [-0.00111543]\n",
            "Epoch9200 \t Error [-0.00110316]\n",
            "Epoch9300 \t Error [-0.00109115]\n",
            "Epoch9400 \t Error [-0.00107935]\n",
            "Epoch9500 \t Error [-0.00106784]\n",
            "Epoch9600 \t Error [-0.00105671]\n",
            "Epoch9700 \t Error [-0.00104564]\n",
            "Epoch9800 \t Error [-0.0010349]\n",
            "Epoch9900 \t Error [-0.00102427]\n",
            "tf.Tensor([11.481063 11.480672], shape=(2,), dtype=float32) tf.Tensor([-6.2808757], shape=(1,), dtype=float32)\n"
          ]
        }
      ]
    },
    {
      "cell_type": "code",
      "source": [
        "for i in range(4):\n",
        "  print(f\"X: {X[i]}, Y: {Y[i]}, output: {sigmoid(np.sum(X[i]*W)+b)}\")"
      ],
      "metadata": {
        "colab": {
          "base_uri": "https://localhost:8080/"
        },
        "outputId": "e0e0f135-fcf0-4085-97a9-a47268bd9ea8",
        "id": "kyO76wvmuIFN"
      },
      "execution_count": null,
      "outputs": [
        {
          "output_type": "stream",
          "name": "stdout",
          "text": [
            "X: [1 1], Y: [1], output: [1.]\n",
            "X: [1 0], Y: [1], output: [0.9945147]\n",
            "X: [0 1], Y: [1], output: [0.99451256]\n",
            "X: [0 0], Y: [0], output: [0.00186826]\n"
          ]
        }
      ]
    },
    {
      "cell_type": "markdown",
      "source": [
        "## XOR\n",
        "* 분리 못 하는 것을 확인 할 수 있음"
      ],
      "metadata": {
        "id": "avm_HX4huSLU"
      }
    },
    {
      "cell_type": "markdown",
      "source": [
        "### Data 준비"
      ],
      "metadata": {
        "id": "iI5tXxCNuUDm"
      }
    },
    {
      "cell_type": "code",
      "source": [
        "def sigmoid(x):\n",
        "  return(1/(1+np.exp(-x)))"
      ],
      "metadata": {
        "id": "v1qAQiR5uUDn"
      },
      "execution_count": null,
      "outputs": []
    },
    {
      "cell_type": "code",
      "source": [
        "X = np.array([[1,1],[1,0],[0,1],[0,0]])\n",
        "Y = np.array([[0],[1],[1],[0]])\n",
        "\n",
        "W = tf.random.normal([2],0,1)#기울기는 2개\n",
        "b = tf.random.normal([1],0,1)#절편은 1개\n",
        "b_x = 1"
      ],
      "metadata": {
        "id": "GWC6Tf7auUDo"
      },
      "execution_count": null,
      "outputs": []
    },
    {
      "cell_type": "markdown",
      "source": [
        "### 모델 생성"
      ],
      "metadata": {
        "id": "GhvdlaaPuUDo"
      }
    },
    {
      "cell_type": "code",
      "source": [
        "for i in range(10000):\n",
        "  error_sum = 0\n",
        "\n",
        "  for j in range(4):\n",
        "    output = sigmoid(np.sum(X[j]*W)+b_x+b)\n",
        "    error = Y[j][0] - output\n",
        "    W = W + X[j] * 0.1 * error\n",
        "    b = b + b_x * 0.1 * error\n",
        "    error_sum += error\n",
        "\n",
        "  if i % 100 == 0:\n",
        "    print(f\"Epoch{i} \\t Error {error_sum}\")\n",
        "\n",
        "print(W,b)"
      ],
      "metadata": {
        "colab": {
          "base_uri": "https://localhost:8080/"
        },
        "outputId": "26b28145-1f34-4cdf-945c-4964e69fb5d7",
        "id": "rYy49cMGuUDo"
      },
      "execution_count": null,
      "outputs": [
        {
          "output_type": "stream",
          "name": "stdout",
          "text": [
            "Epoch0 \t Error [-0.3721192]\n",
            "Epoch100 \t Error [-0.02099544]\n",
            "Epoch200 \t Error [-0.00424212]\n",
            "Epoch300 \t Error [-0.00085545]\n",
            "Epoch400 \t Error [-0.00017232]\n",
            "Epoch500 \t Error [-3.4928322e-05]\n",
            "Epoch600 \t Error [-7.212162e-06]\n",
            "Epoch700 \t Error [-1.6093254e-06]\n",
            "Epoch800 \t Error [-9.536743e-07]\n",
            "Epoch900 \t Error [-1.013279e-06]\n",
            "Epoch1000 \t Error [-1.013279e-06]\n",
            "Epoch1100 \t Error [-1.013279e-06]\n",
            "Epoch1200 \t Error [-1.013279e-06]\n",
            "Epoch1300 \t Error [-1.013279e-06]\n",
            "Epoch1400 \t Error [-1.013279e-06]\n",
            "Epoch1500 \t Error [-1.013279e-06]\n",
            "Epoch1600 \t Error [-1.013279e-06]\n",
            "Epoch1700 \t Error [-1.013279e-06]\n",
            "Epoch1800 \t Error [-1.013279e-06]\n",
            "Epoch1900 \t Error [-1.013279e-06]\n",
            "Epoch2000 \t Error [-1.013279e-06]\n",
            "Epoch2100 \t Error [-1.013279e-06]\n",
            "Epoch2200 \t Error [-1.013279e-06]\n",
            "Epoch2300 \t Error [-1.013279e-06]\n",
            "Epoch2400 \t Error [-1.013279e-06]\n",
            "Epoch2500 \t Error [-1.013279e-06]\n",
            "Epoch2600 \t Error [-1.013279e-06]\n",
            "Epoch2700 \t Error [-1.013279e-06]\n",
            "Epoch2800 \t Error [-1.013279e-06]\n",
            "Epoch2900 \t Error [-1.013279e-06]\n",
            "Epoch3000 \t Error [-1.013279e-06]\n",
            "Epoch3100 \t Error [-1.013279e-06]\n",
            "Epoch3200 \t Error [-1.013279e-06]\n",
            "Epoch3300 \t Error [-1.013279e-06]\n",
            "Epoch3400 \t Error [-1.013279e-06]\n",
            "Epoch3500 \t Error [-1.013279e-06]\n",
            "Epoch3600 \t Error [-1.013279e-06]\n",
            "Epoch3700 \t Error [-1.013279e-06]\n",
            "Epoch3800 \t Error [-1.013279e-06]\n",
            "Epoch3900 \t Error [-1.013279e-06]\n",
            "Epoch4000 \t Error [-1.013279e-06]\n",
            "Epoch4100 \t Error [-1.013279e-06]\n",
            "Epoch4200 \t Error [-1.013279e-06]\n",
            "Epoch4300 \t Error [-1.013279e-06]\n",
            "Epoch4400 \t Error [-1.013279e-06]\n",
            "Epoch4500 \t Error [-1.013279e-06]\n",
            "Epoch4600 \t Error [-1.013279e-06]\n",
            "Epoch4700 \t Error [-1.013279e-06]\n",
            "Epoch4800 \t Error [-1.013279e-06]\n",
            "Epoch4900 \t Error [-1.013279e-06]\n",
            "Epoch5000 \t Error [-1.013279e-06]\n",
            "Epoch5100 \t Error [-1.013279e-06]\n",
            "Epoch5200 \t Error [-1.013279e-06]\n",
            "Epoch5300 \t Error [-1.013279e-06]\n",
            "Epoch5400 \t Error [-1.013279e-06]\n",
            "Epoch5500 \t Error [-1.013279e-06]\n",
            "Epoch5600 \t Error [-1.013279e-06]\n",
            "Epoch5700 \t Error [-1.013279e-06]\n",
            "Epoch5800 \t Error [-1.013279e-06]\n",
            "Epoch5900 \t Error [-1.013279e-06]\n",
            "Epoch6000 \t Error [-1.013279e-06]\n",
            "Epoch6100 \t Error [-1.013279e-06]\n",
            "Epoch6200 \t Error [-1.013279e-06]\n",
            "Epoch6300 \t Error [-1.013279e-06]\n",
            "Epoch6400 \t Error [-1.013279e-06]\n",
            "Epoch6500 \t Error [-1.013279e-06]\n",
            "Epoch6600 \t Error [-1.013279e-06]\n",
            "Epoch6700 \t Error [-1.013279e-06]\n",
            "Epoch6800 \t Error [-1.013279e-06]\n",
            "Epoch6900 \t Error [-1.013279e-06]\n",
            "Epoch7000 \t Error [-1.013279e-06]\n",
            "Epoch7100 \t Error [-1.013279e-06]\n",
            "Epoch7200 \t Error [-1.013279e-06]\n",
            "Epoch7300 \t Error [-1.013279e-06]\n",
            "Epoch7400 \t Error [-1.013279e-06]\n",
            "Epoch7500 \t Error [-1.013279e-06]\n",
            "Epoch7600 \t Error [-1.013279e-06]\n",
            "Epoch7700 \t Error [-1.013279e-06]\n",
            "Epoch7800 \t Error [-1.013279e-06]\n",
            "Epoch7900 \t Error [-1.013279e-06]\n",
            "Epoch8000 \t Error [-1.013279e-06]\n",
            "Epoch8100 \t Error [-1.013279e-06]\n",
            "Epoch8200 \t Error [-1.013279e-06]\n",
            "Epoch8300 \t Error [-1.013279e-06]\n",
            "Epoch8400 \t Error [-1.013279e-06]\n",
            "Epoch8500 \t Error [-1.013279e-06]\n",
            "Epoch8600 \t Error [-1.013279e-06]\n",
            "Epoch8700 \t Error [-1.013279e-06]\n",
            "Epoch8800 \t Error [-1.013279e-06]\n",
            "Epoch8900 \t Error [-1.013279e-06]\n",
            "Epoch9000 \t Error [-1.013279e-06]\n",
            "Epoch9100 \t Error [-1.013279e-06]\n",
            "Epoch9200 \t Error [-1.013279e-06]\n",
            "Epoch9300 \t Error [-1.013279e-06]\n",
            "Epoch9400 \t Error [-1.013279e-06]\n",
            "Epoch9500 \t Error [-1.013279e-06]\n",
            "Epoch9600 \t Error [-1.013279e-06]\n",
            "Epoch9700 \t Error [-1.013279e-06]\n",
            "Epoch9800 \t Error [-1.013279e-06]\n",
            "Epoch9900 \t Error [-1.013279e-06]\n",
            "tf.Tensor([ 5.1279660e-02 -2.0749867e-06], shape=(2,), dtype=float32) tf.Tensor([-0.9999969], shape=(1,), dtype=float32)\n"
          ]
        }
      ]
    },
    {
      "cell_type": "code",
      "source": [
        "for i in range(4):\n",
        "  print(f\"X: {X[i]}, Y: {Y[i]}, output: {sigmoid(np.sum(X[i]*W)+b)}\")"
      ],
      "metadata": {
        "colab": {
          "base_uri": "https://localhost:8080/"
        },
        "outputId": "2aebe468-2e18-4da1-8f5f-838b2e27c5e8",
        "id": "zDygP5dluUDo"
      },
      "execution_count": null,
      "outputs": [
        {
          "output_type": "stream",
          "name": "stdout",
          "text": [
            "X: [1 1], Y: [0], output: [0.27914244]\n",
            "X: [1 0], Y: [1], output: [0.2791429]\n",
            "X: [0 1], Y: [1], output: [0.2689416]\n",
            "X: [0 0], Y: [0], output: [0.26894203]\n"
          ]
        }
      ]
    },
    {
      "cell_type": "markdown",
      "source": [
        "## AND,OR,XOR 함수"
      ],
      "metadata": {
        "id": "QXx9t03GuwMd"
      }
    },
    {
      "cell_type": "code",
      "source": [
        "def AND(x1, x2):\n",
        "  x = np.array([x1, x2])\n",
        "  w = np.array([0.5, 0.5])\n",
        "  b = -0.7\n",
        "  tmp = np.sum(w*x)+b\n",
        "  if tmp <= 0:\n",
        "    return 0\n",
        "  else:\n",
        "    return 1"
      ],
      "metadata": {
        "id": "77OmPGcAuyZy"
      },
      "execution_count": null,
      "outputs": []
    },
    {
      "cell_type": "code",
      "source": [
        "inputs = [(0,0), (1,0), (0,1), (1,1)]\n",
        "\n",
        "for x1, x2 in inputs:\n",
        "  y = AND(x1,x2)\n",
        "  print(f'{x1}, {x2} -> {y}')"
      ],
      "metadata": {
        "colab": {
          "base_uri": "https://localhost:8080/"
        },
        "id": "zh_26j5DvbBT",
        "outputId": "0431e278-5113-40a9-c071-2d2ddf359c96"
      },
      "execution_count": null,
      "outputs": [
        {
          "output_type": "stream",
          "name": "stdout",
          "text": [
            "0, 0 -> 0\n",
            "1, 0 -> 0\n",
            "0, 1 -> 0\n",
            "1, 1 -> 1\n"
          ]
        }
      ]
    },
    {
      "cell_type": "code",
      "source": [
        "def OR(x1, x2):\n",
        "  x = np.array([x1, x2])\n",
        "  w = np.array([0.5, 0.5])\n",
        "  b = -0.2\n",
        "  tmp = np.sum(w*x)+b\n",
        "  if tmp <= 0:\n",
        "    return 0\n",
        "  else:\n",
        "    return 1"
      ],
      "metadata": {
        "id": "12EmPkFNvRI8"
      },
      "execution_count": null,
      "outputs": []
    },
    {
      "cell_type": "code",
      "source": [
        "for x1, x2 in inputs:\n",
        "  y = OR(x1,x2)\n",
        "  print(f'{x1}, {x2} -> {y}')"
      ],
      "metadata": {
        "colab": {
          "base_uri": "https://localhost:8080/"
        },
        "id": "wHUOJ5Gqww8n",
        "outputId": "b293c65f-8ee7-473f-ce63-d801e2ec11ef"
      },
      "execution_count": null,
      "outputs": [
        {
          "output_type": "stream",
          "name": "stdout",
          "text": [
            "0, 0 -> 0\n",
            "1, 0 -> 1\n",
            "0, 1 -> 1\n",
            "1, 1 -> 1\n"
          ]
        }
      ]
    },
    {
      "cell_type": "code",
      "source": [
        "def NAND(x1, x2):\n",
        "  x = np.array([x1, x2])\n",
        "  w = np.array([-0.5, -0.5])\n",
        "  b = 0.7\n",
        "  tmp = np.sum(w*x)+b\n",
        "  if tmp <= 0:\n",
        "    return 0\n",
        "  else:\n",
        "    return 1"
      ],
      "metadata": {
        "id": "2Vfc4T_CvZrI"
      },
      "execution_count": null,
      "outputs": []
    },
    {
      "cell_type": "code",
      "source": [
        "for x1, x2 in inputs:\n",
        "  y = NAND(x1,x2)\n",
        "  print(f'{x1}, {x2} -> {y}')"
      ],
      "metadata": {
        "colab": {
          "base_uri": "https://localhost:8080/"
        },
        "id": "Ye3JKQGJwzII",
        "outputId": "05c45c89-0efd-478b-bcab-b51a302f45f9"
      },
      "execution_count": null,
      "outputs": [
        {
          "output_type": "stream",
          "name": "stdout",
          "text": [
            "0, 0 -> 1\n",
            "1, 0 -> 1\n",
            "0, 1 -> 1\n",
            "1, 1 -> 0\n"
          ]
        }
      ]
    },
    {
      "cell_type": "code",
      "source": [
        "def XOR(x1,x2):\n",
        "  s1 = NAND(x1, x2)\n",
        "  s2 = OR(x1, x2)\n",
        "  y = AND(s1, s2)\n",
        "  return y"
      ],
      "metadata": {
        "id": "2Oz_pzGpw2CY"
      },
      "execution_count": null,
      "outputs": []
    },
    {
      "cell_type": "code",
      "source": [
        "for x1, x2 in inputs:\n",
        "  y = XOR(x1,x2)\n",
        "  print(f'{x1}, {x2} -> {y}')"
      ],
      "metadata": {
        "colab": {
          "base_uri": "https://localhost:8080/"
        },
        "id": "SNSeoyNmw27Y",
        "outputId": "b2778462-ea89-4869-c121-3faa0c4bb36d"
      },
      "execution_count": null,
      "outputs": [
        {
          "output_type": "stream",
          "name": "stdout",
          "text": [
            "0, 0 -> 0\n",
            "1, 0 -> 1\n",
            "0, 1 -> 1\n",
            "1, 1 -> 0\n"
          ]
        }
      ]
    },
    {
      "cell_type": "markdown",
      "source": [
        "## Tensor를 활용하여 해결"
      ],
      "metadata": {
        "id": "KY39AbBU1EEy"
      }
    },
    {
      "cell_type": "code",
      "source": [
        "X = np.array([[1,1],[1,0],[0,1],[0,0]])\n",
        "Y = np.array([[0],[1],[1],[0]])\n",
        "\n",
        "from tensorflow.keras import Sequential\n",
        "from tensorflow.keras.layers import Dense\n",
        "\n",
        "model = Sequential([Dense(units = 2, activation = 'sigmoid', input_shape = (2,)),\n",
        "                    Dense(units=1,activation = 'sigmoid')])\n",
        "\n",
        "model.compile(optimizer=tf.keras.optimizers.SGD(lr=0.1),loss='mse')\n",
        "\n",
        "model.summary()\n",
        "\n",
        "history = model.fit(X,Y,epochs=2000,batch_size=1,verbose=0)"
      ],
      "metadata": {
        "colab": {
          "base_uri": "https://localhost:8080/"
        },
        "id": "KWia_KbX1G5C",
        "outputId": "3d3c19da-55fc-4412-c85f-334c8cdca149"
      },
      "execution_count": null,
      "outputs": [
        {
          "output_type": "stream",
          "name": "stderr",
          "text": [
            "/usr/local/lib/python3.7/dist-packages/keras/optimizer_v2/gradient_descent.py:102: UserWarning: The `lr` argument is deprecated, use `learning_rate` instead.\n",
            "  super(SGD, self).__init__(name, **kwargs)\n"
          ]
        },
        {
          "output_type": "stream",
          "name": "stdout",
          "text": [
            "Model: \"sequential_2\"\n",
            "_________________________________________________________________\n",
            " Layer (type)                Output Shape              Param #   \n",
            "=================================================================\n",
            " dense_4 (Dense)             (None, 2)                 6         \n",
            "                                                                 \n",
            " dense_5 (Dense)             (None, 1)                 3         \n",
            "                                                                 \n",
            "=================================================================\n",
            "Total params: 9\n",
            "Trainable params: 9\n",
            "Non-trainable params: 0\n",
            "_________________________________________________________________\n"
          ]
        }
      ]
    },
    {
      "cell_type": "code",
      "source": [
        "model.predict(X)"
      ],
      "metadata": {
        "colab": {
          "base_uri": "https://localhost:8080/"
        },
        "id": "e03uzOtl1xfP",
        "outputId": "3c3f26bd-0935-4fbb-82b7-794199c66350"
      },
      "execution_count": null,
      "outputs": [
        {
          "output_type": "execute_result",
          "data": {
            "text/plain": [
              "array([[0.5333592 ],\n",
              "       [0.8532063 ],\n",
              "       [0.50585383],\n",
              "       [0.10269192]], dtype=float32)"
            ]
          },
          "metadata": {},
          "execution_count": 43
        }
      ]
    },
    {
      "cell_type": "code",
      "source": [
        "plt.plot(history.history['loss'])"
      ],
      "metadata": {
        "colab": {
          "base_uri": "https://localhost:8080/",
          "height": 284
        },
        "id": "rQ5NHjEu13OF",
        "outputId": "b750acb1-cf92-4e82-805d-91bca0124bad"
      },
      "execution_count": null,
      "outputs": [
        {
          "output_type": "execute_result",
          "data": {
            "text/plain": [
              "[<matplotlib.lines.Line2D at 0x7f03eb955150>]"
            ]
          },
          "metadata": {},
          "execution_count": 45
        },
        {
          "output_type": "display_data",
          "data": {
            "image/png": "[encoded data removed]",
            "text/plain": [
              "<Figure size 432x288 with 1 Axes>"
            ]
          },
          "metadata": {
            "needs_background": "light"
          }
        }
      ]
    },
    {
      "cell_type": "markdown",
      "source": [
        "#패션 MNIST\n",
        "* 딥러닝의 Hello World"
      ],
      "metadata": {
        "id": "mPmVcKqDn-6A"
      }
    },
    {
      "cell_type": "markdown",
      "source": [
        "## 데이터 불러오기\n",
        "* 28*28 옷 사진\n",
        "* 종류는 10개\n",
        "* 옷은 총 6000개씩 10개 = 60000"
      ],
      "metadata": {
        "id": "elyfic8dnYXz"
      }
    },
    {
      "cell_type": "code",
      "source": [
        "from tensorflow import keras"
      ],
      "metadata": {
        "id": "CbGFMhLhpRjp"
      },
      "execution_count": null,
      "outputs": []
    },
    {
      "cell_type": "code",
      "source": [
        "(train_input,train_target),(test_input,test_target)=keras.datasets.fashion_mnist.load_data()"
      ],
      "metadata": {
        "id": "uT20FywImE9l"
      },
      "execution_count": null,
      "outputs": []
    },
    {
      "cell_type": "code",
      "source": [
        "print(train_input.shape,test_input.shape)"
      ],
      "metadata": {
        "colab": {
          "base_uri": "https://localhost:8080/"
        },
        "id": "TKpLv_QPmX41",
        "outputId": "d3604680-72ee-49a0-a234-f56d4b9ba2f2"
      },
      "execution_count": null,
      "outputs": [
        {
          "output_type": "stream",
          "name": "stdout",
          "text": [
            "(60000, 28, 28) (10000, 28, 28)\n"
          ]
        }
      ]
    },
    {
      "cell_type": "code",
      "source": [
        "print(train_target.shape,test_target.shape)"
      ],
      "metadata": {
        "colab": {
          "base_uri": "https://localhost:8080/"
        },
        "id": "cPQhULYEnLa7",
        "outputId": "4434cacb-20ce-4c71-f263-9b659eb2de22"
      },
      "execution_count": null,
      "outputs": [
        {
          "output_type": "stream",
          "name": "stdout",
          "text": [
            "(60000,) (10000,)\n"
          ]
        }
      ]
    },
    {
      "cell_type": "markdown",
      "source": [
        "## 데이터 보기"
      ],
      "metadata": {
        "id": "Z485xfmfnbop"
      }
    },
    {
      "cell_type": "code",
      "source": [
        "import matplotlib.pyplot as plt\n",
        "\n",
        "fig, axs = plt.subplots(1,10,figsize=(10,10))#1행 10열로 그림을 배열\n",
        "\n",
        "for i in range(10):\n",
        "  axs[i].imshow(train_input[i],cmap='gray_r')# 회색으로 표현\n",
        "  axs[i].axis('off')#없으면 축인 숫자가 나타남\n",
        "plt.show()"
      ],
      "metadata": {
        "colab": {
          "base_uri": "https://localhost:8080/",
          "height": 78
        },
        "id": "oA0Fkr_fnRUT",
        "outputId": "02535e9b-dfec-4c73-c76d-b72569dd0953"
      },
      "execution_count": null,
      "outputs": [
        {
          "output_type": "display_data",
          "data": {
            "image/png": "[encoded data removed]",
            "text/plain": [
              "<Figure size 720x720 with 10 Axes>"
            ]
          },
          "metadata": {
            "needs_background": "light"
          }
        }
      ]
    },
    {
      "cell_type": "code",
      "source": [
        "train_target[0:10]"
      ],
      "metadata": {
        "colab": {
          "base_uri": "https://localhost:8080/"
        },
        "id": "Ox70CO5Ro0TT",
        "outputId": "95d98aef-53d2-49e2-9a46-b5f138d24aae"
      },
      "execution_count": null,
      "outputs": [
        {
          "output_type": "execute_result",
          "data": {
            "text/plain": [
              "array([9, 0, 0, 3, 0, 2, 7, 2, 5, 5], dtype=uint8)"
            ]
          },
          "metadata": {},
          "execution_count": 21
        }
      ]
    },
    {
      "cell_type": "code",
      "source": [
        "import numpy as np\n",
        "\n",
        "print(np.unique(train_target))"
      ],
      "metadata": {
        "colab": {
          "base_uri": "https://localhost:8080/"
        },
        "id": "JqjLpGAyppoy",
        "outputId": "bf04ebf4-2585-4382-ce6a-7638aa9c8c22"
      },
      "execution_count": null,
      "outputs": [
        {
          "output_type": "stream",
          "name": "stdout",
          "text": [
            "[0 1 2 3 4 5 6 7 8 9]\n"
          ]
        }
      ]
    },
    {
      "cell_type": "markdown",
      "source": [
        "## 로지스틱 회귀를 사용"
      ],
      "metadata": {
        "id": "3C1TsatuqM3z"
      }
    },
    {
      "cell_type": "code",
      "source": [
        "from sklearn.model_selection import cross_validate\n",
        "from sklearn.linear_model import SGDClassifier\n",
        "\n",
        "sc = SGDClassifier(loss='log')\n",
        "\n",
        "train_scaled = train_input/255.0 #이미지를 실수로 변환(이미지는 0~255값을 가지기 때문에 255로 나누어 0~1값을 가지게 해 줌) => 평활화 작업(히스토그램 평활화가 아닌 대충하는 평활화)\n",
        "train_scaled = train_input.reshape(-1,28*28)#로지스틱은 vector를 받으니까\n",
        "\n",
        "scores = cross_validate(sc,train_scaled,train_target,n_jobs=-1)\n",
        "print(np.mean(scores['test_score']))"
      ],
      "metadata": {
        "colab": {
          "base_uri": "https://localhost:8080/"
        },
        "id": "D0570CZKqP_n",
        "outputId": "98c55a64-b35b-4498-d5de-411e32250c5c"
      },
      "execution_count": null,
      "outputs": [
        {
          "output_type": "stream",
          "name": "stdout",
          "text": [
            "0.8106\n"
          ]
        }
      ]
    },
    {
      "cell_type": "markdown",
      "source": [
        "## 인공신경망으로 문제 해결\n",
        "* Activation Funcion\n",
        "  * 이진 분류 binary_crossentropy\n",
        "  * 다진 분류 categorical_crossentropy\n",
        "  * 다진 분류인데 target이 one-hot vector가 아닌 실수 일 때 sparse_categorical_crossentropy"
      ],
      "metadata": {
        "id": "rfbk1WaLx1Cv"
      }
    },
    {
      "cell_type": "code",
      "source": [
        "import tensorflow as tf\n",
        "from tensorflow import keras"
      ],
      "metadata": {
        "id": "_PoOjInrtsn7"
      },
      "execution_count": null,
      "outputs": []
    },
    {
      "cell_type": "code",
      "source": [
        "(train_input,train_target),(test_input,test_target)=keras.datasets.fashion_mnist.load_data()"
      ],
      "metadata": {
        "id": "7ONJ4CuTwyia"
      },
      "execution_count": null,
      "outputs": []
    },
    {
      "cell_type": "code",
      "source": [
        "train_scaled = train_input/255.0 \n",
        "train_scaled = train_input.reshape(-1,28*28)"
      ],
      "metadata": {
        "id": "KNSsshjgwkCQ"
      },
      "execution_count": null,
      "outputs": []
    },
    {
      "cell_type": "code",
      "source": [
        "from sklearn.model_selection import train_test_split\n",
        "train_scaled,val_scaled,train_target,val_target = train_test_split(train_scaled,train_target)"
      ],
      "metadata": {
        "id": "w1FDiTu_wY2t"
      },
      "execution_count": null,
      "outputs": []
    },
    {
      "cell_type": "code",
      "source": [
        "print(train_scaled.shape)"
      ],
      "metadata": {
        "colab": {
          "base_uri": "https://localhost:8080/"
        },
        "id": "eNMuk679xFdp",
        "outputId": "779cac3a-55a2-4f66-ecb9-25d1bc57dcf2"
      },
      "execution_count": null,
      "outputs": [
        {
          "output_type": "stream",
          "name": "stdout",
          "text": [
            "(45000, 784)\n"
          ]
        }
      ]
    },
    {
      "cell_type": "code",
      "source": [
        "dense1 = keras.layers.Dense(100,activation='sigmoid',input_shape=(28*28,))#(output node의 수,활성화 함수,input_size)\n",
        "dense2 = keras.layers.Dense(10,activation='softmax')"
      ],
      "metadata": {
        "id": "o4Zk0pQrwxUC"
      },
      "execution_count": null,
      "outputs": []
    },
    {
      "cell_type": "code",
      "source": [
        "model = keras.Sequential([dense1,dense2])"
      ],
      "metadata": {
        "id": "6G33_0N3xEqw"
      },
      "execution_count": null,
      "outputs": []
    },
    {
      "cell_type": "code",
      "source": [
        "model.summary()"
      ],
      "metadata": {
        "colab": {
          "base_uri": "https://localhost:8080/"
        },
        "id": "C5bNycy34NMT",
        "outputId": "18148709-1588-4727-eccc-0c8e52ddb6de"
      },
      "execution_count": null,
      "outputs": [
        {
          "output_type": "stream",
          "name": "stdout",
          "text": [
            "Model: \"sequential_2\"\n",
            "_________________________________________________________________\n",
            " Layer (type)                Output Shape              Param #   \n",
            "=================================================================\n",
            " dense_4 (Dense)             (None, 100)               78500     \n",
            "                                                                 \n",
            " dense_5 (Dense)             (None, 10)                1010      \n",
            "                                                                 \n",
            "=================================================================\n",
            "Total params: 79,510\n",
            "Trainable params: 79,510\n",
            "Non-trainable params: 0\n",
            "_________________________________________________________________\n"
          ]
        }
      ]
    },
    {
      "cell_type": "code",
      "source": [
        "model.compile(loss = \"sparse_categorical_crossentropy\",metrics = \"accuracy\")\n",
        "#이진 분류 binary_crossentropy\n",
        "#다진 분류 categorical_crossentropy"
      ],
      "metadata": {
        "id": "noxfMeAHzaDw"
      },
      "execution_count": null,
      "outputs": []
    },
    {
      "cell_type": "code",
      "source": [
        "model.fit(train_scaled,train_target,epochs=5)"
      ],
      "metadata": {
        "colab": {
          "base_uri": "https://localhost:8080/"
        },
        "id": "cwoSaKlfzrSW",
        "outputId": "62241aa7-4001-479c-fffd-eb2ddec328ce"
      },
      "execution_count": null,
      "outputs": [
        {
          "output_type": "stream",
          "name": "stdout",
          "text": [
            "Epoch 1/5\n",
            "1407/1407 [==============================] - 5s 3ms/step - loss: 0.8129 - accuracy: 0.7147\n",
            "Epoch 2/5\n",
            "1407/1407 [==============================] - 4s 3ms/step - loss: 0.6025 - accuracy: 0.7734\n",
            "Epoch 3/5\n",
            "1407/1407 [==============================] - 4s 3ms/step - loss: 0.5760 - accuracy: 0.7888\n",
            "Epoch 4/5\n",
            "1407/1407 [==============================] - 4s 3ms/step - loss: 0.5549 - accuracy: 0.8008\n",
            "Epoch 5/5\n",
            "1407/1407 [==============================] - 4s 3ms/step - loss: 0.5601 - accuracy: 0.8007\n"
          ]
        },
        {
          "output_type": "execute_result",
          "data": {
            "text/plain": [
              "<keras.callbacks.History at 0x7f5735d10e90>"
            ]
          },
          "metadata": {},
          "execution_count": 55
        }
      ]
    },
    {
      "cell_type": "code",
      "source": [
        "model.evaluate(val_scaled,val_target)"
      ],
      "metadata": {
        "colab": {
          "base_uri": "https://localhost:8080/"
        },
        "id": "Rk8f_v8xz0gB",
        "outputId": "4719f326-5966-4335-c9f4-32635a541271"
      },
      "execution_count": null,
      "outputs": [
        {
          "output_type": "stream",
          "name": "stdout",
          "text": [
            "469/469 [==============================] - 1s 2ms/step - loss: 0.5687 - accuracy: 0.8039\n"
          ]
        },
        {
          "output_type": "execute_result",
          "data": {
            "text/plain": [
              "[0.5687188506126404, 0.8038666844367981]"
            ]
          },
          "metadata": {},
          "execution_count": 56
        }
      ]
    },
    {
      "cell_type": "markdown",
      "source": [
        "### Relu의 활용\n",
        "* 은닉층에서 사용되는 활성 함수"
      ],
      "metadata": {
        "id": "Aqi-tTJez71M"
      }
    },
    {
      "cell_type": "code",
      "source": [
        "dense1 = keras.layers.Dense(100,activation='relu',input_shape=(28*28,))#(output node의 수,활성화 함수,input_size)\n",
        "dense2 = keras.layers.Dense(10,activation='softmax')"
      ],
      "metadata": {
        "id": "JDp3lh5d95hu"
      },
      "execution_count": null,
      "outputs": []
    },
    {
      "cell_type": "code",
      "source": [
        "model = keras.Sequential([dense1,dense2])"
      ],
      "metadata": {
        "id": "EYWhlsGM95hw"
      },
      "execution_count": null,
      "outputs": []
    },
    {
      "cell_type": "code",
      "source": [
        "model.summary()"
      ],
      "metadata": {
        "colab": {
          "base_uri": "https://localhost:8080/"
        },
        "outputId": "83159633-41f2-4337-8b3e-1a48f92d5cd1",
        "id": "C9V_q_8e95hx"
      },
      "execution_count": null,
      "outputs": [
        {
          "output_type": "stream",
          "name": "stdout",
          "text": [
            "Model: \"sequential_4\"\n",
            "_________________________________________________________________\n",
            " Layer (type)                Output Shape              Param #   \n",
            "=================================================================\n",
            " dense_7 (Dense)             (None, 100)               78500     \n",
            "                                                                 \n",
            " dense_8 (Dense)             (None, 10)                1010      \n",
            "                                                                 \n",
            "=================================================================\n",
            "Total params: 79,510\n",
            "Trainable params: 79,510\n",
            "Non-trainable params: 0\n",
            "_________________________________________________________________\n"
          ]
        }
      ]
    },
    {
      "cell_type": "code",
      "source": [
        "model.compile(loss = \"sparse_categorical_crossentropy\",metrics = \"accuracy\")\n",
        "#이진 분류 binary_crossentropy\n",
        "#다진 분류 categorical_crossentropy"
      ],
      "metadata": {
        "id": "mMWbhl_b95hy"
      },
      "execution_count": null,
      "outputs": []
    },
    {
      "cell_type": "code",
      "source": [
        "model.fit(train_scaled,train_target,epochs=5)"
      ],
      "metadata": {
        "colab": {
          "base_uri": "https://localhost:8080/"
        },
        "outputId": "b4db0dc0-627c-4895-ad46-6a41530da8e6",
        "id": "XFNOW8Ou95hy"
      },
      "execution_count": null,
      "outputs": [
        {
          "output_type": "stream",
          "name": "stdout",
          "text": [
            "Epoch 1/5\n",
            "1407/1407 [==============================] - 4s 3ms/step - loss: 0.5494 - accuracy: 0.8046\n",
            "Epoch 2/5\n",
            "1407/1407 [==============================] - 4s 3ms/step - loss: 0.5397 - accuracy: 0.8100\n",
            "Epoch 3/5\n",
            "1407/1407 [==============================] - 4s 3ms/step - loss: 0.5293 - accuracy: 0.8134\n",
            "Epoch 4/5\n",
            "1407/1407 [==============================] - 4s 3ms/step - loss: 0.5242 - accuracy: 0.8154\n",
            "Epoch 5/5\n",
            "1407/1407 [==============================] - 4s 3ms/step - loss: 0.5312 - accuracy: 0.8180\n"
          ]
        },
        {
          "output_type": "execute_result",
          "data": {
            "text/plain": [
              "<keras.callbacks.History at 0x7f5735b4d190>"
            ]
          },
          "metadata": {},
          "execution_count": 61
        }
      ]
    },
    {
      "cell_type": "code",
      "source": [
        "model.evaluate(val_scaled,val_target)"
      ],
      "metadata": {
        "colab": {
          "base_uri": "https://localhost:8080/"
        },
        "outputId": "42afa98f-618f-46ed-f82b-d90e6efc147e",
        "id": "06tBhDo995hz"
      },
      "execution_count": null,
      "outputs": [
        {
          "output_type": "stream",
          "name": "stdout",
          "text": [
            "469/469 [==============================] - 1s 2ms/step - loss: 0.5584 - accuracy: 0.8136\n"
          ]
        },
        {
          "output_type": "execute_result",
          "data": {
            "text/plain": [
              "[0.5584131479263306, 0.8136000037193298]"
            ]
          },
          "metadata": {},
          "execution_count": 62
        }
      ]
    },
    {
      "cell_type": "markdown",
      "source": [
        "### 다르게 모델 만들기\n",
        "* add를 활용한 layer 쌓기"
      ],
      "metadata": {
        "id": "ja6tVRqi-Reg"
      }
    },
    {
      "cell_type": "code",
      "source": [
        "model = keras.Sequential()"
      ],
      "metadata": {
        "id": "FSNJKUdg-ULP"
      },
      "execution_count": null,
      "outputs": []
    },
    {
      "cell_type": "code",
      "source": [
        "model.add(keras.layers.Dense(100,activation='relu',input_shape=(28*28,)))\n",
        "model.add(keras.layers.Dense(10,activation='softmax'))"
      ],
      "metadata": {
        "id": "LiLc9cCu-WoW"
      },
      "execution_count": null,
      "outputs": []
    },
    {
      "cell_type": "code",
      "source": [
        "model.summary()"
      ],
      "metadata": {
        "colab": {
          "base_uri": "https://localhost:8080/"
        },
        "id": "mOx66bUQ-ris",
        "outputId": "84f2e56a-1351-4a2b-88e4-9b9af6c773b2"
      },
      "execution_count": null,
      "outputs": [
        {
          "output_type": "stream",
          "name": "stdout",
          "text": [
            "Model: \"sequential_9\"\n",
            "_________________________________________________________________\n",
            " Layer (type)                Output Shape              Param #   \n",
            "=================================================================\n",
            " dense_19 (Dense)            (None, 100)               78500     \n",
            "                                                                 \n",
            " dense_20 (Dense)            (None, 10)                1010      \n",
            "                                                                 \n",
            "=================================================================\n",
            "Total params: 79,510\n",
            "Trainable params: 79,510\n",
            "Non-trainable params: 0\n",
            "_________________________________________________________________\n"
          ]
        }
      ]
    },
    {
      "cell_type": "code",
      "source": [
        "model.compile(optimizer = 'adam',loss = \"sparse_categorical_crossentropy\",metrics = \"accuracy\")#optimizer 수정 => sgd = 여기선 미니 배치를 사용함,adam = 젤 많이 씀"
      ],
      "metadata": {
        "id": "YCsJEy8i-kji"
      },
      "execution_count": null,
      "outputs": []
    },
    {
      "cell_type": "code",
      "source": [
        "model.fit(train_scaled,train_target,epochs=5)"
      ],
      "metadata": {
        "colab": {
          "base_uri": "https://localhost:8080/"
        },
        "outputId": "ed8d627d-b23e-4f48-9c89-23dd8cd5b83f",
        "id": "XnIOPkXB-kjj"
      },
      "execution_count": null,
      "outputs": [
        {
          "output_type": "stream",
          "name": "stdout",
          "text": [
            "Epoch 1/5\n",
            "1407/1407 [==============================] - 4s 2ms/step - loss: 3.8564 - accuracy: 0.6710\n",
            "Epoch 2/5\n",
            "1407/1407 [==============================] - 3s 2ms/step - loss: 0.7980 - accuracy: 0.7022\n",
            "Epoch 3/5\n",
            "1407/1407 [==============================] - 3s 2ms/step - loss: 0.7089 - accuracy: 0.7217\n",
            "Epoch 4/5\n",
            "1407/1407 [==============================] - 3s 2ms/step - loss: 0.7196 - accuracy: 0.7143\n",
            "Epoch 5/5\n",
            "1407/1407 [==============================] - 3s 2ms/step - loss: 0.6611 - accuracy: 0.7417\n"
          ]
        },
        {
          "output_type": "execute_result",
          "data": {
            "text/plain": [
              "<keras.callbacks.History at 0x7f5735758cd0>"
            ]
          },
          "metadata": {},
          "execution_count": 90
        }
      ]
    },
    {
      "cell_type": "code",
      "source": [
        "model.evaluate(val_scaled,val_target)"
      ],
      "metadata": {
        "colab": {
          "base_uri": "https://localhost:8080/"
        },
        "outputId": "490e9b4d-b736-4c1c-f333-4ee579f7f834",
        "id": "yfZn7UNX-kjj"
      },
      "execution_count": null,
      "outputs": [
        {
          "output_type": "stream",
          "name": "stdout",
          "text": [
            "469/469 [==============================] - 1s 2ms/step - loss: 0.6404 - accuracy: 0.7667\n"
          ]
        },
        {
          "output_type": "execute_result",
          "data": {
            "text/plain": [
              "[0.6403716802597046, 0.7667333483695984]"
            ]
          },
          "metadata": {},
          "execution_count": 91
        }
      ]
    },
    {
      "cell_type": "markdown",
      "source": [
        "### history확인"
      ],
      "metadata": {
        "id": "FutC3JYEA3cI"
      }
    },
    {
      "cell_type": "code",
      "source": [
        "model = keras.Sequential()"
      ],
      "metadata": {
        "id": "LP0CATS3A9o6"
      },
      "execution_count": null,
      "outputs": []
    },
    {
      "cell_type": "code",
      "source": [
        "model.add(keras.layers.Dense(100,activation='relu',input_shape=(28*28,)))\n",
        "model.add(keras.layers.Dense(10,activation='softmax'))"
      ],
      "metadata": {
        "id": "00t3M6wAA9o7"
      },
      "execution_count": null,
      "outputs": []
    },
    {
      "cell_type": "code",
      "source": [
        "model.summary()"
      ],
      "metadata": {
        "colab": {
          "base_uri": "https://localhost:8080/"
        },
        "outputId": "bb7f1de9-0fd2-4683-c256-5073a921f647",
        "id": "shtjfsj6A9o7"
      },
      "execution_count": null,
      "outputs": [
        {
          "output_type": "stream",
          "name": "stdout",
          "text": [
            "Model: \"sequential_12\"\n",
            "_________________________________________________________________\n",
            " Layer (type)                Output Shape              Param #   \n",
            "=================================================================\n",
            " dense_25 (Dense)            (None, 100)               78500     \n",
            "                                                                 \n",
            " dense_26 (Dense)            (None, 10)                1010      \n",
            "                                                                 \n",
            "=================================================================\n",
            "Total params: 79,510\n",
            "Trainable params: 79,510\n",
            "Non-trainable params: 0\n",
            "_________________________________________________________________\n"
          ]
        }
      ]
    },
    {
      "cell_type": "code",
      "source": [
        "model.compile(optimizer = 'adam',loss = \"sparse_categorical_crossentropy\",metrics = \"accuracy\")#optimizer 수정 => sgd = 여기선 미니 배치를 사용함,adam = 젤 많이 씀"
      ],
      "metadata": {
        "id": "O7LcHzD-A9o7"
      },
      "execution_count": null,
      "outputs": []
    },
    {
      "cell_type": "code",
      "source": [
        "history = model.fit(train_scaled,\n",
        "                    train_target,\n",
        "                    epochs=5,\n",
        "                    validation_data = (val_scaled,val_target))"
      ],
      "metadata": {
        "colab": {
          "base_uri": "https://localhost:8080/"
        },
        "outputId": "d7d011b0-cb5e-4e2c-87e4-1450d8cda4fa",
        "id": "LIz2MiwMA9o8"
      },
      "execution_count": null,
      "outputs": [
        {
          "output_type": "stream",
          "name": "stdout",
          "text": [
            "Epoch 1/5\n",
            "1407/1407 [==============================] - 4s 3ms/step - loss: 3.4942 - accuracy: 0.6527 - val_loss: 0.9503 - val_accuracy: 0.6912\n",
            "Epoch 2/5\n",
            "1407/1407 [==============================] - 4s 3ms/step - loss: 0.7401 - accuracy: 0.7283 - val_loss: 0.7672 - val_accuracy: 0.7139\n",
            "Epoch 3/5\n",
            "1407/1407 [==============================] - 4s 3ms/step - loss: 0.6139 - accuracy: 0.7765 - val_loss: 0.6338 - val_accuracy: 0.7646\n",
            "Epoch 4/5\n",
            "1407/1407 [==============================] - 4s 3ms/step - loss: 0.5769 - accuracy: 0.7952 - val_loss: 0.5789 - val_accuracy: 0.8003\n",
            "Epoch 5/5\n",
            "1407/1407 [==============================] - 4s 3ms/step - loss: 0.5371 - accuracy: 0.8123 - val_loss: 0.5998 - val_accuracy: 0.8043\n"
          ]
        }
      ]
    },
    {
      "cell_type": "code",
      "source": [
        "model.evaluate(val_scaled,val_target)"
      ],
      "metadata": {
        "colab": {
          "base_uri": "https://localhost:8080/"
        },
        "outputId": "98e78d87-056a-4e4a-ff1c-5f73f1a846c5",
        "id": "5WVbrkk2A9o8"
      },
      "execution_count": null,
      "outputs": [
        {
          "output_type": "stream",
          "name": "stdout",
          "text": [
            "469/469 [==============================] - 1s 2ms/step - loss: 0.5998 - accuracy: 0.8043\n"
          ]
        },
        {
          "output_type": "execute_result",
          "data": {
            "text/plain": [
              "[0.599826455116272, 0.8043333292007446]"
            ]
          },
          "metadata": {},
          "execution_count": 111
        }
      ]
    },
    {
      "cell_type": "code",
      "source": [
        "import matplotlib.pyplot as plt\n",
        "\n",
        "plt.plot(history.history['loss'])\n",
        "plt.plot(history.history['val_loss'])\n",
        "plt.xlabel('epoch')\n",
        "plt.ylabel('loss')\n",
        "plt.legend(['train','val'])\n",
        "plt.show()"
      ],
      "metadata": {
        "colab": {
          "base_uri": "https://localhost:8080/",
          "height": 279
        },
        "id": "uuxrnnvQBTrt",
        "outputId": "40ea5bd1-9880-4425-8211-0aba792bb7e9"
      },
      "execution_count": null,
      "outputs": [
        {
          "output_type": "display_data",
          "data": {
            "image/png": "[encoded data removed]",
            "text/plain": [
              "<Figure size 432x288 with 1 Axes>"
            ]
          },
          "metadata": {
            "needs_background": "light"
          }
        }
      ]
    }
  ]
}