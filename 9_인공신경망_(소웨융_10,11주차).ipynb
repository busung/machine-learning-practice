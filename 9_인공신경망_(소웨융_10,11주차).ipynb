{
  "nbformat": 4,
  "nbformat_minor": 0,
  "metadata": {
    "colab": {
      "name": "9.인공신경망 (소웨융 10,11주차).ipynb",
      "provenance": [],
      "collapsed_sections": [
        "iI5tXxCNuUDm",
        "QXx9t03GuwMd",
        "KY39AbBU1EEy",
        "Aqi-tTJez71M"
      ],
      "authorship_tag": "ABX9TyNrF3QABVr5UmxrWTgfPujM",
      "include_colab_link": true
    },
    "kernelspec": {
      "name": "python3",
      "display_name": "Python 3"
    },
    "language_info": {
      "name": "python"
    }
  },
  "cells": [
    {
      "cell_type": "markdown",
      "metadata": {
        "id": "view-in-github",
        "colab_type": "text"
      },
      "source": [
        "<a href=\"https://colab.research.google.com/github/busung/machine-learning-practice/blob/main/9_%EC%9D%B8%EA%B3%B5%EC%8B%A0%EA%B2%BD%EB%A7%9D_(%EC%86%8C%EC%9B%A8%EC%9C%B5_10%2C11%EC%A3%BC%EC%B0%A8).ipynb\" target=\"_parent\"><img src=\"https://colab.research.google.com/assets/colab-badge.svg\" alt=\"Open In Colab\"/></a>"
      ]
    },
    {
      "cell_type": "markdown",
      "source": [
        "# 인공신경망\n",
        "* 텐서플로우"
      ],
      "metadata": {
        "id": "01gFxZEAnx-4"
      }
    },
    {
      "cell_type": "code",
      "source": [
        "import numpy as np\n",
        "import matplotlib.pyplot as plt\n",
        "import tensorflow as tf"
      ],
      "metadata": {
        "id": "Lj0oZSsZox1K"
      },
      "execution_count": 2,
      "outputs": []
    },
    {
      "cell_type": "markdown",
      "source": [
        "## AND,OR,NOT,XOR"
      ],
      "metadata": {
        "id": "780W0Jain7O_"
      }
    },
    {
      "cell_type": "markdown",
      "source": [
        "## And"
      ],
      "metadata": {
        "id": "BnyWDWNGt9hS"
      }
    },
    {
      "cell_type": "markdown",
      "source": [
        "### Data 준비"
      ],
      "metadata": {
        "id": "pLcIWg2ep307"
      }
    },
    {
      "cell_type": "code",
      "source": [
        "def sigmoid(x):\n",
        "  return(1/(1+np.exp(-x)))"
      ],
      "metadata": {
        "id": "wOEabxGLsAlB"
      },
      "execution_count": 3,
      "outputs": []
    },
    {
      "cell_type": "code",
      "source": [
        "X = np.array([[1,1],[1,0],[0,1],[0,0]])\n",
        "Y = np.array([[1],[0],[0],[0]])\n",
        "\n",
        "W = tf.random.normal([2],0,1)#기울기는 2개\n",
        "b = tf.random.normal([1],0,1)#절편은 1개\n",
        "b_x = 1"
      ],
      "metadata": {
        "id": "d6S4eBQ6pSs5"
      },
      "execution_count": 4,
      "outputs": []
    },
    {
      "cell_type": "markdown",
      "source": [
        "### 모델 생성"
      ],
      "metadata": {
        "id": "CoBThf_Zp6Gl"
      }
    },
    {
      "cell_type": "code",
      "source": [
        "for i in range(10000):\n",
        "  error_sum = 0\n",
        "\n",
        "  for j in range(4):\n",
        "    output = sigmoid(np.sum(X[j]*W)+b_x+b)\n",
        "    error = Y[j][0] - output\n",
        "    W = W + X[j] * 0.1 * error\n",
        "    b = b + b_x * 0.1 * error\n",
        "    error_sum += error\n",
        "\n",
        "  if i % 100 == 0:\n",
        "    print(f\"Epoch{i} \\t Error {error_sum}\")\n",
        "\n",
        "print(W,b)"
      ],
      "metadata": {
        "colab": {
          "base_uri": "https://localhost:8080/"
        },
        "id": "AptfPrsDp3Qc",
        "outputId": "f5439846-cf5b-4a52-9cf9-62efbda0719c"
      },
      "execution_count": 5,
      "outputs": [
        {
          "output_type": "stream",
          "name": "stdout",
          "text": [
            "Epoch0 \t Error [-2.833693]\n",
            "Epoch100 \t Error [-0.18553343]\n",
            "Epoch200 \t Error [-0.116218]\n",
            "Epoch300 \t Error [-0.08554017]\n",
            "Epoch400 \t Error [-0.06773651]\n",
            "Epoch500 \t Error [-0.0560171]\n",
            "Epoch600 \t Error [-0.0477058]\n",
            "Epoch700 \t Error [-0.04150769]\n",
            "Epoch800 \t Error [-0.03670905]\n",
            "Epoch900 \t Error [-0.03288847]\n",
            "Epoch1000 \t Error [-0.02977521]\n",
            "Epoch1100 \t Error [-0.02719244]\n",
            "Epoch1200 \t Error [-0.025015]\n",
            "Epoch1300 \t Error [-0.02315533]\n",
            "Epoch1400 \t Error [-0.02155017]\n",
            "Epoch1500 \t Error [-0.02015073]\n",
            "Epoch1600 \t Error [-0.01891926]\n",
            "Epoch1700 \t Error [-0.01782753]\n",
            "Epoch1800 \t Error [-0.01685232]\n",
            "Epoch1900 \t Error [-0.01597952]\n",
            "Epoch2000 \t Error [-0.01518911]\n",
            "Epoch2100 \t Error [-0.01447567]\n",
            "Epoch2200 \t Error [-0.01382339]\n",
            "Epoch2300 \t Error [-0.01322546]\n",
            "Epoch2400 \t Error [-0.01267802]\n",
            "Epoch2500 \t Error [-0.01217627]\n",
            "Epoch2600 \t Error [-0.01171034]\n",
            "Epoch2700 \t Error [-0.01127806]\n",
            "Epoch2800 \t Error [-0.01087597]\n",
            "Epoch2900 \t Error [-0.01050138]\n",
            "Epoch3000 \t Error [-0.01015152]\n",
            "Epoch3100 \t Error [-0.00982422]\n",
            "Epoch3200 \t Error [-0.00951695]\n",
            "Epoch3300 \t Error [-0.00922826]\n",
            "Epoch3400 \t Error [-0.00895634]\n",
            "Epoch3500 \t Error [-0.00870287]\n",
            "Epoch3600 \t Error [-0.00846205]\n",
            "Epoch3700 \t Error [-0.0082332]\n",
            "Epoch3800 \t Error [-0.00801621]\n",
            "Epoch3900 \t Error [-0.00781077]\n",
            "Epoch4000 \t Error [-0.00761478]\n",
            "Epoch4100 \t Error [-0.00742855]\n",
            "Epoch4200 \t Error [-0.00725134]\n",
            "Epoch4300 \t Error [-0.00708201]\n",
            "Epoch4400 \t Error [-0.00692054]\n",
            "Epoch4500 \t Error [-0.00676624]\n",
            "Epoch4600 \t Error [-0.00661851]\n",
            "Epoch4700 \t Error [-0.00647704]\n",
            "Epoch4800 \t Error [-0.00634177]\n",
            "Epoch4900 \t Error [-0.00621182]\n",
            "Epoch5000 \t Error [-0.00608715]\n",
            "Epoch5100 \t Error [-0.00596725]\n",
            "Epoch5200 \t Error [-0.00585209]\n",
            "Epoch5300 \t Error [-0.00574114]\n",
            "Epoch5400 \t Error [-0.00563434]\n",
            "Epoch5500 \t Error [-0.00553154]\n",
            "Epoch5600 \t Error [-0.00543229]\n",
            "Epoch5700 \t Error [-0.00533628]\n",
            "Epoch5800 \t Error [-0.00524393]\n",
            "Epoch5900 \t Error [-0.00515454]\n",
            "Epoch6000 \t Error [-0.00506824]\n",
            "Epoch6100 \t Error [-0.00498462]\n",
            "Epoch6200 \t Error [-0.00490384]\n",
            "Epoch6300 \t Error [-0.00482564]\n",
            "Epoch6400 \t Error [-0.0047499]\n",
            "Epoch6500 \t Error [-0.00467649]\n",
            "Epoch6600 \t Error [-0.00460553]\n",
            "Epoch6700 \t Error [-0.00453634]\n",
            "Epoch6800 \t Error [-0.00446936]\n",
            "Epoch6900 \t Error [-0.00440417]\n",
            "Epoch7000 \t Error [-0.00434086]\n",
            "Epoch7100 \t Error [-0.00427934]\n",
            "Epoch7200 \t Error [-0.00421938]\n",
            "Epoch7300 \t Error [-0.00416146]\n",
            "Epoch7400 \t Error [-0.00410495]\n",
            "Epoch7500 \t Error [-0.00404982]\n",
            "Epoch7600 \t Error [-0.00399616]\n",
            "Epoch7700 \t Error [-0.00394394]\n",
            "Epoch7800 \t Error [-0.00389309]\n",
            "Epoch7900 \t Error [-0.00384364]\n",
            "Epoch8000 \t Error [-0.0037951]\n",
            "Epoch8100 \t Error [-0.0037481]\n",
            "Epoch8200 \t Error [-0.00370221]\n",
            "Epoch8300 \t Error [-0.00365738]\n",
            "Epoch8400 \t Error [-0.0036136]\n",
            "Epoch8500 \t Error [-0.00357089]\n",
            "Epoch8600 \t Error [-0.00352904]\n",
            "Epoch8700 \t Error [-0.00348824]\n",
            "Epoch8800 \t Error [-0.00344828]\n",
            "Epoch8900 \t Error [-0.00340948]\n",
            "Epoch9000 \t Error [-0.00337122]\n",
            "Epoch9100 \t Error [-0.00333391]\n",
            "Epoch9200 \t Error [-0.00329772]\n",
            "Epoch9300 \t Error [-0.00326202]\n",
            "Epoch9400 \t Error [-0.00322715]\n",
            "Epoch9500 \t Error [-0.003193]\n",
            "Epoch9600 \t Error [-0.00315958]\n",
            "Epoch9700 \t Error [-0.00312667]\n",
            "Epoch9800 \t Error [-0.00309458]\n",
            "Epoch9900 \t Error [-0.00306312]\n",
            "tf.Tensor([10.226943 10.227573], shape=(2,), dtype=float32) tf.Tensor([-16.510769], shape=(1,), dtype=float32)\n"
          ]
        }
      ]
    },
    {
      "cell_type": "code",
      "source": [
        "for i in range(4):\n",
        "  print(f\"X: {X[i]}, Y: {Y[i]}, output: {sigmoid(np.sum(X[i]*W)+b)}\")"
      ],
      "metadata": {
        "colab": {
          "base_uri": "https://localhost:8080/"
        },
        "id": "ePUxsg01tIhL",
        "outputId": "2bc99e83-8120-4456-d46a-9909504886ee"
      },
      "execution_count": 6,
      "outputs": [
        {
          "output_type": "stream",
          "name": "stdout",
          "text": [
            "X: [1 1], Y: [1], output: [0.98099285]\n",
            "X: [1 0], Y: [0], output: [0.00186277]\n",
            "X: [0 1], Y: [0], output: [0.00186394]\n",
            "X: [0 0], Y: [0], output: [6.752493e-08]\n"
          ]
        }
      ]
    },
    {
      "cell_type": "markdown",
      "source": [
        "## OR"
      ],
      "metadata": {
        "id": "9SLl8ZdnuBq4"
      }
    },
    {
      "cell_type": "markdown",
      "source": [
        "### Data 준비"
      ],
      "metadata": {
        "id": "-Lx9cvT1uIFH"
      }
    },
    {
      "cell_type": "code",
      "source": [
        "def sigmoid(x):\n",
        "  return(1/(1+np.exp(-x)))"
      ],
      "metadata": {
        "id": "nqavZogfuIFK"
      },
      "execution_count": 7,
      "outputs": []
    },
    {
      "cell_type": "code",
      "source": [
        "X = np.array([[1,1],[1,0],[0,1],[0,0]])\n",
        "Y = np.array([[1],[1],[1],[0]])\n",
        "\n",
        "W = tf.random.normal([2],0,1)#기울기는 2개\n",
        "b = tf.random.normal([1],0,1)#절편은 1개\n",
        "b_x = 1"
      ],
      "metadata": {
        "id": "KyJnZCEPuIFL"
      },
      "execution_count": 8,
      "outputs": []
    },
    {
      "cell_type": "markdown",
      "source": [
        "### 모델 생성"
      ],
      "metadata": {
        "id": "l-ak-FCXuIFM"
      }
    },
    {
      "cell_type": "code",
      "source": [
        "for i in range(10000):\n",
        "  error_sum = 0\n",
        "\n",
        "  for j in range(4):\n",
        "    output = sigmoid(np.sum(X[j]*W)+b_x+b)\n",
        "    error = Y[j][0] - output\n",
        "    W = W + X[j] * 0.1 * error\n",
        "    b = b + b_x * 0.1 * error\n",
        "    error_sum += error\n",
        "\n",
        "  if i % 100 == 0:\n",
        "    print(f\"Epoch{i} \\t Error {error_sum}\")\n",
        "\n",
        "print(W,b)"
      ],
      "metadata": {
        "colab": {
          "base_uri": "https://localhost:8080/"
        },
        "outputId": "e1f53269-0978-4856-9129-0f01ad8bc4f7",
        "id": "R3cg3fUnuIFM"
      },
      "execution_count": 9,
      "outputs": [
        {
          "output_type": "stream",
          "name": "stdout",
          "text": [
            "Epoch0 \t Error [-0.49442017]\n",
            "Epoch100 \t Error [-0.132772]\n",
            "Epoch200 \t Error [-0.06009543]\n",
            "Epoch300 \t Error [-0.03879434]\n",
            "Epoch400 \t Error [-0.02857094]\n",
            "Epoch500 \t Error [-0.0225564]\n",
            "Epoch600 \t Error [-0.01860172]\n",
            "Epoch700 \t Error [-0.01580861]\n",
            "Epoch800 \t Error [-0.01373371]\n",
            "Epoch900 \t Error [-0.01213326]\n",
            "Epoch1000 \t Error [-0.01086237]\n",
            "Epoch1100 \t Error [-0.00982922]\n",
            "Epoch1200 \t Error [-0.0089732]\n",
            "Epoch1300 \t Error [-0.00825331]\n",
            "Epoch1400 \t Error [-0.00763844]\n",
            "Epoch1500 \t Error [-0.00710959]\n",
            "Epoch1600 \t Error [-0.00664631]\n",
            "Epoch1700 \t Error [-0.00623996]\n",
            "Epoch1800 \t Error [-0.00588074]\n",
            "Epoch1900 \t Error [-0.00556009]\n",
            "Epoch2000 \t Error [-0.00527225]\n",
            "Epoch2100 \t Error [-0.00501275]\n",
            "Epoch2200 \t Error [-0.00477659]\n",
            "Epoch2300 \t Error [-0.00456134]\n",
            "Epoch2400 \t Error [-0.00436478]\n",
            "Epoch2500 \t Error [-0.00418444]\n",
            "Epoch2600 \t Error [-0.0040186]\n",
            "Epoch2700 \t Error [-0.00386518]\n",
            "Epoch2800 \t Error [-0.00372307]\n",
            "Epoch2900 \t Error [-0.00359118]\n",
            "Epoch3000 \t Error [-0.00346806]\n",
            "Epoch3100 \t Error [-0.00335312]\n",
            "Epoch3200 \t Error [-0.00324557]\n",
            "Epoch3300 \t Error [-0.00314466]\n",
            "Epoch3400 \t Error [-0.00304991]\n",
            "Epoch3500 \t Error [-0.00296052]\n",
            "Epoch3600 \t Error [-0.00287619]\n",
            "Epoch3700 \t Error [-0.00279639]\n",
            "Epoch3800 \t Error [-0.0027212]\n",
            "Epoch3900 \t Error [-0.0026497]\n",
            "Epoch4000 \t Error [-0.00258187]\n",
            "Epoch4100 \t Error [-0.00251743]\n",
            "Epoch4200 \t Error [-0.00245602]\n",
            "Epoch4300 \t Error [-0.00239774]\n",
            "Epoch4400 \t Error [-0.0023421]\n",
            "Epoch4500 \t Error [-0.00228894]\n",
            "Epoch4600 \t Error [-0.00223804]\n",
            "Epoch4700 \t Error [-0.00218951]\n",
            "Epoch4800 \t Error [-0.002143]\n",
            "Epoch4900 \t Error [-0.00209824]\n",
            "Epoch5000 \t Error [-0.00205544]\n",
            "Epoch5100 \t Error [-0.00201445]\n",
            "Epoch5200 \t Error [-0.00197488]\n",
            "Epoch5300 \t Error [-0.00193689]\n",
            "Epoch5400 \t Error [-0.00190039]\n",
            "Epoch5500 \t Error [-0.00186512]\n",
            "Epoch5600 \t Error [-0.00183119]\n",
            "Epoch5700 \t Error [-0.00179839]\n",
            "Epoch5800 \t Error [-0.00176676]\n",
            "Epoch5900 \t Error [-0.00173635]\n",
            "Epoch6000 \t Error [-0.00170689]\n",
            "Epoch6100 \t Error [-0.00167849]\n",
            "Epoch6200 \t Error [-0.00165092]\n",
            "Epoch6300 \t Error [-0.00162418]\n",
            "Epoch6400 \t Error [-0.0015983]\n",
            "Epoch6500 \t Error [-0.00157334]\n",
            "Epoch6600 \t Error [-0.00154909]\n",
            "Epoch6700 \t Error [-0.00152553]\n",
            "Epoch6800 \t Error [-0.00150269]\n",
            "Epoch6900 \t Error [-0.00148058]\n",
            "Epoch7000 \t Error [-0.00145916]\n",
            "Epoch7100 \t Error [-0.00143829]\n",
            "Epoch7200 \t Error [-0.00141808]\n",
            "Epoch7300 \t Error [-0.00139829]\n",
            "Epoch7400 \t Error [-0.00137911]\n",
            "Epoch7500 \t Error [-0.00136047]\n",
            "Epoch7600 \t Error [-0.00134235]\n",
            "Epoch7700 \t Error [-0.00132458]\n",
            "Epoch7800 \t Error [-0.00130742]\n",
            "Epoch7900 \t Error [-0.00129056]\n",
            "Epoch8000 \t Error [-0.00127415]\n",
            "Epoch8100 \t Error [-0.00125822]\n",
            "Epoch8200 \t Error [-0.00124265]\n",
            "Epoch8300 \t Error [-0.00122741]\n",
            "Epoch8400 \t Error [-0.00121276]\n",
            "Epoch8500 \t Error [-0.00119819]\n",
            "Epoch8600 \t Error [-0.00118399]\n",
            "Epoch8700 \t Error [-0.00117025]\n",
            "Epoch8800 \t Error [-0.0011569]\n",
            "Epoch8900 \t Error [-0.00114364]\n",
            "Epoch9000 \t Error [-0.00113066]\n",
            "Epoch9100 \t Error [-0.00111815]\n",
            "Epoch9200 \t Error [-0.00110583]\n",
            "Epoch9300 \t Error [-0.00109366]\n",
            "Epoch9400 \t Error [-0.00108189]\n",
            "Epoch9500 \t Error [-0.00107042]\n",
            "Epoch9600 \t Error [-0.00105902]\n",
            "Epoch9700 \t Error [-0.00104806]\n",
            "Epoch9800 \t Error [-0.0010372]\n",
            "Epoch9900 \t Error [-0.00102658]\n",
            "tf.Tensor([11.476698 11.476311], shape=(2,), dtype=float32) tf.Tensor([-6.278691], shape=(1,), dtype=float32)\n"
          ]
        }
      ]
    },
    {
      "cell_type": "code",
      "source": [
        "for i in range(4):\n",
        "  print(f\"X: {X[i]}, Y: {Y[i]}, output: {sigmoid(np.sum(X[i]*W)+b)}\")"
      ],
      "metadata": {
        "colab": {
          "base_uri": "https://localhost:8080/"
        },
        "outputId": "e30bb64b-fac3-46a9-aeb1-9b7471219d16",
        "id": "kyO76wvmuIFN"
      },
      "execution_count": 10,
      "outputs": [
        {
          "output_type": "stream",
          "name": "stdout",
          "text": [
            "X: [1 1], Y: [1], output: [1.]\n",
            "X: [1 0], Y: [1], output: [0.9945028]\n",
            "X: [0 1], Y: [1], output: [0.99450064]\n",
            "X: [0 0], Y: [0], output: [0.00187234]\n"
          ]
        }
      ]
    },
    {
      "cell_type": "markdown",
      "source": [
        "## XOR\n",
        "* 분리 못 하는 것을 확인 할 수 있음"
      ],
      "metadata": {
        "id": "avm_HX4huSLU"
      }
    },
    {
      "cell_type": "markdown",
      "source": [
        "### Data 준비"
      ],
      "metadata": {
        "id": "iI5tXxCNuUDm"
      }
    },
    {
      "cell_type": "code",
      "source": [
        "def sigmoid(x):\n",
        "  return(1/(1+np.exp(-x)))"
      ],
      "metadata": {
        "id": "v1qAQiR5uUDn"
      },
      "execution_count": 11,
      "outputs": []
    },
    {
      "cell_type": "code",
      "source": [
        "X = np.array([[1,1],[1,0],[0,1],[0,0]])\n",
        "Y = np.array([[0],[1],[1],[0]])\n",
        "\n",
        "W = tf.random.normal([2],0,1)#기울기는 2개\n",
        "b = tf.random.normal([1],0,1)#절편은 1개\n",
        "b_x = 1"
      ],
      "metadata": {
        "id": "GWC6Tf7auUDo"
      },
      "execution_count": 12,
      "outputs": []
    },
    {
      "cell_type": "markdown",
      "source": [
        "### 모델 생성"
      ],
      "metadata": {
        "id": "GhvdlaaPuUDo"
      }
    },
    {
      "cell_type": "code",
      "source": [
        "for i in range(10000):\n",
        "  error_sum = 0\n",
        "\n",
        "  for j in range(4):\n",
        "    output = sigmoid(np.sum(X[j]*W)+b_x+b)\n",
        "    error = Y[j][0] - output\n",
        "    W = W + X[j] * 0.1 * error\n",
        "    b = b + b_x * 0.1 * error\n",
        "    error_sum += error\n",
        "\n",
        "  if i % 100 == 0:\n",
        "    print(f\"Epoch{i} \\t Error {error_sum}\")\n",
        "\n",
        "print(W,b)"
      ],
      "metadata": {
        "colab": {
          "base_uri": "https://localhost:8080/"
        },
        "outputId": "dc37e4b6-eaa0-426d-82be-26205f39d302",
        "id": "rYy49cMGuUDo"
      },
      "execution_count": 13,
      "outputs": [
        {
          "output_type": "stream",
          "name": "stdout",
          "text": [
            "Epoch0 \t Error [-1.3814597]\n",
            "Epoch100 \t Error [-0.03408355]\n",
            "Epoch200 \t Error [-0.00690705]\n",
            "Epoch300 \t Error [-0.00139296]\n",
            "Epoch400 \t Error [-0.0002808]\n",
            "Epoch500 \t Error [-5.6505203e-05]\n",
            "Epoch600 \t Error [-1.1444092e-05]\n",
            "Epoch700 \t Error [-2.503395e-06]\n",
            "Epoch800 \t Error [-4.172325e-07]\n",
            "Epoch900 \t Error [-1.013279e-06]\n",
            "Epoch1000 \t Error [-1.013279e-06]\n",
            "Epoch1100 \t Error [-1.013279e-06]\n",
            "Epoch1200 \t Error [-1.013279e-06]\n",
            "Epoch1300 \t Error [-1.013279e-06]\n",
            "Epoch1400 \t Error [-1.013279e-06]\n",
            "Epoch1500 \t Error [-1.013279e-06]\n",
            "Epoch1600 \t Error [-1.013279e-06]\n",
            "Epoch1700 \t Error [-1.013279e-06]\n",
            "Epoch1800 \t Error [-1.013279e-06]\n",
            "Epoch1900 \t Error [-1.013279e-06]\n",
            "Epoch2000 \t Error [-1.013279e-06]\n",
            "Epoch2100 \t Error [-1.013279e-06]\n",
            "Epoch2200 \t Error [-1.013279e-06]\n",
            "Epoch2300 \t Error [-1.013279e-06]\n",
            "Epoch2400 \t Error [-1.013279e-06]\n",
            "Epoch2500 \t Error [-1.013279e-06]\n",
            "Epoch2600 \t Error [-1.013279e-06]\n",
            "Epoch2700 \t Error [-1.013279e-06]\n",
            "Epoch2800 \t Error [-1.013279e-06]\n",
            "Epoch2900 \t Error [-1.013279e-06]\n",
            "Epoch3000 \t Error [-1.013279e-06]\n",
            "Epoch3100 \t Error [-1.013279e-06]\n",
            "Epoch3200 \t Error [-1.013279e-06]\n",
            "Epoch3300 \t Error [-1.013279e-06]\n",
            "Epoch3400 \t Error [-1.013279e-06]\n",
            "Epoch3500 \t Error [-1.013279e-06]\n",
            "Epoch3600 \t Error [-1.013279e-06]\n",
            "Epoch3700 \t Error [-1.013279e-06]\n",
            "Epoch3800 \t Error [-1.013279e-06]\n",
            "Epoch3900 \t Error [-1.013279e-06]\n",
            "Epoch4000 \t Error [-1.013279e-06]\n",
            "Epoch4100 \t Error [-1.013279e-06]\n",
            "Epoch4200 \t Error [-1.013279e-06]\n",
            "Epoch4300 \t Error [-1.013279e-06]\n",
            "Epoch4400 \t Error [-1.013279e-06]\n",
            "Epoch4500 \t Error [-1.013279e-06]\n",
            "Epoch4600 \t Error [-1.013279e-06]\n",
            "Epoch4700 \t Error [-1.013279e-06]\n",
            "Epoch4800 \t Error [-1.013279e-06]\n",
            "Epoch4900 \t Error [-1.013279e-06]\n",
            "Epoch5000 \t Error [-1.013279e-06]\n",
            "Epoch5100 \t Error [-1.013279e-06]\n",
            "Epoch5200 \t Error [-1.013279e-06]\n",
            "Epoch5300 \t Error [-1.013279e-06]\n",
            "Epoch5400 \t Error [-1.013279e-06]\n",
            "Epoch5500 \t Error [-1.013279e-06]\n",
            "Epoch5600 \t Error [-1.013279e-06]\n",
            "Epoch5700 \t Error [-1.013279e-06]\n",
            "Epoch5800 \t Error [-1.013279e-06]\n",
            "Epoch5900 \t Error [-1.013279e-06]\n",
            "Epoch6000 \t Error [-1.013279e-06]\n",
            "Epoch6100 \t Error [-1.013279e-06]\n",
            "Epoch6200 \t Error [-1.013279e-06]\n",
            "Epoch6300 \t Error [-1.013279e-06]\n",
            "Epoch6400 \t Error [-1.013279e-06]\n",
            "Epoch6500 \t Error [-1.013279e-06]\n",
            "Epoch6600 \t Error [-1.013279e-06]\n",
            "Epoch6700 \t Error [-1.013279e-06]\n",
            "Epoch6800 \t Error [-1.013279e-06]\n",
            "Epoch6900 \t Error [-1.013279e-06]\n",
            "Epoch7000 \t Error [-1.013279e-06]\n",
            "Epoch7100 \t Error [-1.013279e-06]\n",
            "Epoch7200 \t Error [-1.013279e-06]\n",
            "Epoch7300 \t Error [-1.013279e-06]\n",
            "Epoch7400 \t Error [-1.013279e-06]\n",
            "Epoch7500 \t Error [-1.013279e-06]\n",
            "Epoch7600 \t Error [-1.013279e-06]\n",
            "Epoch7700 \t Error [-1.013279e-06]\n",
            "Epoch7800 \t Error [-1.013279e-06]\n",
            "Epoch7900 \t Error [-1.013279e-06]\n",
            "Epoch8000 \t Error [-1.013279e-06]\n",
            "Epoch8100 \t Error [-1.013279e-06]\n",
            "Epoch8200 \t Error [-1.013279e-06]\n",
            "Epoch8300 \t Error [-1.013279e-06]\n",
            "Epoch8400 \t Error [-1.013279e-06]\n",
            "Epoch8500 \t Error [-1.013279e-06]\n",
            "Epoch8600 \t Error [-1.013279e-06]\n",
            "Epoch8700 \t Error [-1.013279e-06]\n",
            "Epoch8800 \t Error [-1.013279e-06]\n",
            "Epoch8900 \t Error [-1.013279e-06]\n",
            "Epoch9000 \t Error [-1.013279e-06]\n",
            "Epoch9100 \t Error [-1.013279e-06]\n",
            "Epoch9200 \t Error [-1.013279e-06]\n",
            "Epoch9300 \t Error [-1.013279e-06]\n",
            "Epoch9400 \t Error [-1.013279e-06]\n",
            "Epoch9500 \t Error [-1.013279e-06]\n",
            "Epoch9600 \t Error [-1.013279e-06]\n",
            "Epoch9700 \t Error [-1.013279e-06]\n",
            "Epoch9800 \t Error [-1.013279e-06]\n",
            "Epoch9900 \t Error [-1.013279e-06]\n",
            "tf.Tensor([ 5.1279657e-02 -2.0787120e-06], shape=(2,), dtype=float32) tf.Tensor([-0.9999969], shape=(1,), dtype=float32)\n"
          ]
        }
      ]
    },
    {
      "cell_type": "code",
      "source": [
        "for i in range(4):\n",
        "  print(f\"X: {X[i]}, Y: {Y[i]}, output: {sigmoid(np.sum(X[i]*W)+b)}\")"
      ],
      "metadata": {
        "colab": {
          "base_uri": "https://localhost:8080/"
        },
        "outputId": "cbf0a328-35f0-4256-efe9-a7e9f7f6178d",
        "id": "zDygP5dluUDo"
      },
      "execution_count": 14,
      "outputs": [
        {
          "output_type": "stream",
          "name": "stdout",
          "text": [
            "X: [1 1], Y: [0], output: [0.27914244]\n",
            "X: [1 0], Y: [1], output: [0.2791429]\n",
            "X: [0 1], Y: [1], output: [0.2689416]\n",
            "X: [0 0], Y: [0], output: [0.26894203]\n"
          ]
        }
      ]
    },
    {
      "cell_type": "markdown",
      "source": [
        "## AND,OR,XOR 함수"
      ],
      "metadata": {
        "id": "QXx9t03GuwMd"
      }
    },
    {
      "cell_type": "code",
      "source": [
        "def AND(x1, x2):\n",
        "  x = np.array([x1, x2])\n",
        "  w = np.array([0.5, 0.5])\n",
        "  b = -0.7\n",
        "  tmp = np.sum(w*x)+b\n",
        "  if tmp <= 0:\n",
        "    return 0\n",
        "  else:\n",
        "    return 1"
      ],
      "metadata": {
        "id": "77OmPGcAuyZy"
      },
      "execution_count": 15,
      "outputs": []
    },
    {
      "cell_type": "code",
      "source": [
        "inputs = [(0,0), (1,0), (0,1), (1,1)]\n",
        "\n",
        "for x1, x2 in inputs:\n",
        "  y = AND(x1,x2)\n",
        "  print(f'{x1}, {x2} -> {y}')"
      ],
      "metadata": {
        "colab": {
          "base_uri": "https://localhost:8080/"
        },
        "id": "zh_26j5DvbBT",
        "outputId": "1870c0f9-e7ce-405c-a43b-538bc60c16f5"
      },
      "execution_count": 16,
      "outputs": [
        {
          "output_type": "stream",
          "name": "stdout",
          "text": [
            "0, 0 -> 0\n",
            "1, 0 -> 0\n",
            "0, 1 -> 0\n",
            "1, 1 -> 1\n"
          ]
        }
      ]
    },
    {
      "cell_type": "code",
      "source": [
        "def OR(x1, x2):\n",
        "  x = np.array([x1, x2])\n",
        "  w = np.array([0.5, 0.5])\n",
        "  b = -0.2\n",
        "  tmp = np.sum(w*x)+b\n",
        "  if tmp <= 0:\n",
        "    return 0\n",
        "  else:\n",
        "    return 1"
      ],
      "metadata": {
        "id": "12EmPkFNvRI8"
      },
      "execution_count": 17,
      "outputs": []
    },
    {
      "cell_type": "code",
      "source": [
        "for x1, x2 in inputs:\n",
        "  y = OR(x1,x2)\n",
        "  print(f'{x1}, {x2} -> {y}')"
      ],
      "metadata": {
        "colab": {
          "base_uri": "https://localhost:8080/"
        },
        "id": "wHUOJ5Gqww8n",
        "outputId": "cda264fb-929e-4f69-c786-ae0867ddbc26"
      },
      "execution_count": 18,
      "outputs": [
        {
          "output_type": "stream",
          "name": "stdout",
          "text": [
            "0, 0 -> 0\n",
            "1, 0 -> 1\n",
            "0, 1 -> 1\n",
            "1, 1 -> 1\n"
          ]
        }
      ]
    },
    {
      "cell_type": "code",
      "source": [
        "def NAND(x1, x2):\n",
        "  x = np.array([x1, x2])\n",
        "  w = np.array([-0.5, -0.5])\n",
        "  b = 0.7\n",
        "  tmp = np.sum(w*x)+b\n",
        "  if tmp <= 0:\n",
        "    return 0\n",
        "  else:\n",
        "    return 1"
      ],
      "metadata": {
        "id": "2Vfc4T_CvZrI"
      },
      "execution_count": 19,
      "outputs": []
    },
    {
      "cell_type": "code",
      "source": [
        "for x1, x2 in inputs:\n",
        "  y = NAND(x1,x2)\n",
        "  print(f'{x1}, {x2} -> {y}')"
      ],
      "metadata": {
        "colab": {
          "base_uri": "https://localhost:8080/"
        },
        "id": "Ye3JKQGJwzII",
        "outputId": "94c6bf50-266a-41c1-d0ac-7c7628560d13"
      },
      "execution_count": 20,
      "outputs": [
        {
          "output_type": "stream",
          "name": "stdout",
          "text": [
            "0, 0 -> 1\n",
            "1, 0 -> 1\n",
            "0, 1 -> 1\n",
            "1, 1 -> 0\n"
          ]
        }
      ]
    },
    {
      "cell_type": "code",
      "source": [
        "def XOR(x1,x2):\n",
        "  s1 = NAND(x1, x2)\n",
        "  s2 = OR(x1, x2)\n",
        "  y = AND(s1, s2)\n",
        "  return y"
      ],
      "metadata": {
        "id": "2Oz_pzGpw2CY"
      },
      "execution_count": 21,
      "outputs": []
    },
    {
      "cell_type": "code",
      "source": [
        "for x1, x2 in inputs:\n",
        "  y = XOR(x1,x2)\n",
        "  print(f'{x1}, {x2} -> {y}')"
      ],
      "metadata": {
        "colab": {
          "base_uri": "https://localhost:8080/"
        },
        "id": "SNSeoyNmw27Y",
        "outputId": "40718e6a-6df5-4d26-b1a4-930e791b156a"
      },
      "execution_count": 22,
      "outputs": [
        {
          "output_type": "stream",
          "name": "stdout",
          "text": [
            "0, 0 -> 0\n",
            "1, 0 -> 1\n",
            "0, 1 -> 1\n",
            "1, 1 -> 0\n"
          ]
        }
      ]
    },
    {
      "cell_type": "markdown",
      "source": [
        "## Tensor를 활용하여 해결"
      ],
      "metadata": {
        "id": "KY39AbBU1EEy"
      }
    },
    {
      "cell_type": "code",
      "source": [
        "X = np.array([[1,1],[1,0],[0,1],[0,0]])\n",
        "Y = np.array([[0],[1],[1],[0]])\n",
        "\n",
        "from tensorflow.keras import Sequential\n",
        "from tensorflow.keras.layers import Dense\n",
        "\n",
        "model = Sequential([Dense(units = 2, activation = 'sigmoid', input_shape = (2,)),\n",
        "                    Dense(units=1,activation = 'sigmoid')])\n",
        "\n",
        "model.compile(optimizer=tf.keras.optimizers.SGD(lr=0.1),loss='mse')\n",
        "\n",
        "model.summary()\n",
        "\n",
        "history = model.fit(X,Y,epochs=2000,batch_size=1,verbose=0)"
      ],
      "metadata": {
        "colab": {
          "base_uri": "https://localhost:8080/"
        },
        "id": "KWia_KbX1G5C",
        "outputId": "86b99ace-b7ea-42b8-a721-03aabbac1968"
      },
      "execution_count": 23,
      "outputs": [
        {
          "output_type": "stream",
          "name": "stdout",
          "text": [
            "Model: \"sequential\"\n",
            "_________________________________________________________________\n",
            " Layer (type)                Output Shape              Param #   \n",
            "=================================================================\n",
            " dense (Dense)               (None, 2)                 6         \n",
            "                                                                 \n",
            " dense_1 (Dense)             (None, 1)                 3         \n",
            "                                                                 \n",
            "=================================================================\n",
            "Total params: 9\n",
            "Trainable params: 9\n",
            "Non-trainable params: 0\n",
            "_________________________________________________________________\n"
          ]
        },
        {
          "output_type": "stream",
          "name": "stderr",
          "text": [
            "/usr/local/lib/python3.7/dist-packages/keras/optimizer_v2/gradient_descent.py:102: UserWarning: The `lr` argument is deprecated, use `learning_rate` instead.\n",
            "  super(SGD, self).__init__(name, **kwargs)\n"
          ]
        }
      ]
    },
    {
      "cell_type": "code",
      "source": [
        "model.predict(X)"
      ],
      "metadata": {
        "colab": {
          "base_uri": "https://localhost:8080/"
        },
        "id": "e03uzOtl1xfP",
        "outputId": "c6bb4d85-2cb7-4a00-fd80-3cc429393779"
      },
      "execution_count": 24,
      "outputs": [
        {
          "output_type": "execute_result",
          "data": {
            "text/plain": [
              "array([[0.49568605],\n",
              "       [0.5045552 ],\n",
              "       [0.49462873],\n",
              "       [0.5034486 ]], dtype=float32)"
            ]
          },
          "metadata": {},
          "execution_count": 24
        }
      ]
    },
    {
      "cell_type": "code",
      "source": [
        "plt.plot(history.history['loss'])"
      ],
      "metadata": {
        "colab": {
          "base_uri": "https://localhost:8080/",
          "height": 284
        },
        "id": "rQ5NHjEu13OF",
        "outputId": "58c38fba-3132-4947-d596-c5070dd8e18e"
      },
      "execution_count": 25,
      "outputs": [
        {
          "output_type": "execute_result",
          "data": {
            "text/plain": [
              "[<matplotlib.lines.Line2D at 0x7fc0def98210>]"
            ]
          },
          "metadata": {},
          "execution_count": 25
        },
        {
          "output_type": "display_data",
          "data": {
            "image/png": "[encoded data removed]",
            "text/plain": [
              "<Figure size 432x288 with 1 Axes>"
            ]
          },
          "metadata": {
            "needs_background": "light"
          }
        }
      ]
    },
    {
      "cell_type": "markdown",
      "source": [
        "#패션 MNIST\n",
        "* 딥러닝의 Hello World"
      ],
      "metadata": {
        "id": "mPmVcKqDn-6A"
      }
    },
    {
      "cell_type": "markdown",
      "source": [
        "## 데이터 불러오기\n",
        "* 28*28 옷 사진\n",
        "* 종류는 10개\n",
        "* 옷은 총 6000개씩 10개 = 60000"
      ],
      "metadata": {
        "id": "elyfic8dnYXz"
      }
    },
    {
      "cell_type": "code",
      "source": [
        "from tensorflow import keras"
      ],
      "metadata": {
        "id": "CbGFMhLhpRjp"
      },
      "execution_count": 26,
      "outputs": []
    },
    {
      "cell_type": "code",
      "source": [
        "(train_input,train_target),(test_input,test_target)=keras.datasets.fashion_mnist.load_data()"
      ],
      "metadata": {
        "id": "uT20FywImE9l",
        "colab": {
          "base_uri": "https://localhost:8080/"
        },
        "outputId": "02862dad-195b-4f9a-e3fe-a439153ca4e1"
      },
      "execution_count": 27,
      "outputs": [
        {
          "output_type": "stream",
          "name": "stdout",
          "text": [
            "Downloading data from https://storage.googleapis.com/tensorflow/tf-keras-datasets/train-labels-idx1-ubyte.gz\n",
            "32768/29515 [=================================] - 0s 0us/step\n",
            "40960/29515 [=========================================] - 0s 0us/step\n",
            "Downloading data from https://storage.googleapis.com/tensorflow/tf-keras-datasets/train-images-idx3-ubyte.gz\n",
            "26427392/26421880 [==============================] - 0s 0us/step\n",
            "26435584/26421880 [==============================] - 0s 0us/step\n",
            "Downloading data from https://storage.googleapis.com/tensorflow/tf-keras-datasets/t10k-labels-idx1-ubyte.gz\n",
            "16384/5148 [===============================================================================================] - 0s 0us/step\n",
            "Downloading data from https://storage.googleapis.com/tensorflow/tf-keras-datasets/t10k-images-idx3-ubyte.gz\n",
            "4423680/4422102 [==============================] - 0s 0us/step\n",
            "4431872/4422102 [==============================] - 0s 0us/step\n"
          ]
        }
      ]
    },
    {
      "cell_type": "code",
      "source": [
        "print(train_input.shape,test_input.shape)"
      ],
      "metadata": {
        "colab": {
          "base_uri": "https://localhost:8080/"
        },
        "id": "TKpLv_QPmX41",
        "outputId": "2b048310-054c-420e-eddf-40a94e3c52f8"
      },
      "execution_count": 28,
      "outputs": [
        {
          "output_type": "stream",
          "name": "stdout",
          "text": [
            "(60000, 28, 28) (10000, 28, 28)\n"
          ]
        }
      ]
    },
    {
      "cell_type": "code",
      "source": [
        "print(train_target.shape,test_target.shape)"
      ],
      "metadata": {
        "colab": {
          "base_uri": "https://localhost:8080/"
        },
        "id": "cPQhULYEnLa7",
        "outputId": "66685dd6-a025-4897-87f2-3a7cc85b3b33"
      },
      "execution_count": 29,
      "outputs": [
        {
          "output_type": "stream",
          "name": "stdout",
          "text": [
            "(60000,) (10000,)\n"
          ]
        }
      ]
    },
    {
      "cell_type": "markdown",
      "source": [
        "## 데이터 보기"
      ],
      "metadata": {
        "id": "Z485xfmfnbop"
      }
    },
    {
      "cell_type": "code",
      "source": [
        "import matplotlib.pyplot as plt\n",
        "\n",
        "fig, axs = plt.subplots(1,10,figsize=(10,10))#1행 10열로 그림을 배열\n",
        "\n",
        "for i in range(10):\n",
        "  axs[i].imshow(train_input[i],cmap='gray_r')# 회색으로 표현\n",
        "  axs[i].axis('off')#없으면 축인 숫자가 나타남\n",
        "plt.show()"
      ],
      "metadata": {
        "colab": {
          "base_uri": "https://localhost:8080/",
          "height": 78
        },
        "id": "oA0Fkr_fnRUT",
        "outputId": "dd333eaa-518f-425e-8af0-879c66fd6693"
      },
      "execution_count": 30,
      "outputs": [
        {
          "output_type": "display_data",
          "data": {
            "image/png": "[encoded data removed]",
            "text/plain": [
              "<Figure size 720x720 with 10 Axes>"
            ]
          },
          "metadata": {
            "needs_background": "light"
          }
        }
      ]
    },
    {
      "cell_type": "code",
      "source": [
        "train_target[0:10]"
      ],
      "metadata": {
        "colab": {
          "base_uri": "https://localhost:8080/"
        },
        "id": "Ox70CO5Ro0TT",
        "outputId": "8039e97f-4f9c-41c4-cf21-c43de1b6b2ad"
      },
      "execution_count": 31,
      "outputs": [
        {
          "output_type": "execute_result",
          "data": {
            "text/plain": [
              "array([9, 0, 0, 3, 0, 2, 7, 2, 5, 5], dtype=uint8)"
            ]
          },
          "metadata": {},
          "execution_count": 31
        }
      ]
    },
    {
      "cell_type": "code",
      "source": [
        "import numpy as np\n",
        "\n",
        "print(np.unique(train_target))"
      ],
      "metadata": {
        "colab": {
          "base_uri": "https://localhost:8080/"
        },
        "id": "JqjLpGAyppoy",
        "outputId": "9e16576c-5d31-40c5-d75f-2b0609360cc0"
      },
      "execution_count": 32,
      "outputs": [
        {
          "output_type": "stream",
          "name": "stdout",
          "text": [
            "[0 1 2 3 4 5 6 7 8 9]\n"
          ]
        }
      ]
    },
    {
      "cell_type": "markdown",
      "source": [
        "## 로지스틱 회귀를 사용"
      ],
      "metadata": {
        "id": "3C1TsatuqM3z"
      }
    },
    {
      "cell_type": "code",
      "source": [
        "from sklearn.model_selection import cross_validate\n",
        "from sklearn.linear_model import SGDClassifier\n",
        "\n",
        "sc = SGDClassifier(loss='log')\n",
        "\n",
        "train_scaled = train_input/255.0 #이미지를 실수로 변환(이미지는 0~255값을 가지기 때문에 255로 나누어 0~1값을 가지게 해 줌) => 평활화 작업(히스토그램 평활화가 아닌 대충하는 평활화)\n",
        "train_scaled = train_input.reshape(-1,28*28)#로지스틱은 vector를 받으니까\n",
        "\n",
        "scores = cross_validate(sc,train_scaled,train_target,n_jobs=-1)\n",
        "print(np.mean(scores['test_score']))"
      ],
      "metadata": {
        "colab": {
          "base_uri": "https://localhost:8080/"
        },
        "id": "D0570CZKqP_n",
        "outputId": "a13dbbaa-b0f6-4131-b776-834a566d9b7b"
      },
      "execution_count": 33,
      "outputs": [
        {
          "output_type": "stream",
          "name": "stdout",
          "text": [
            "0.8080999999999999\n"
          ]
        }
      ]
    },
    {
      "cell_type": "markdown",
      "source": [
        "## 인공신경망으로 문제 해결\n",
        "* Activation Funcion\n",
        "  * 이진 분류 binary_crossentropy\n",
        "  * 다진 분류 categorical_crossentropy\n",
        "  * 다진 분류인데 target이 one-hot vector가 아닌 실수 일 때 sparse_categorical_crossentropy"
      ],
      "metadata": {
        "id": "rfbk1WaLx1Cv"
      }
    },
    {
      "cell_type": "code",
      "source": [
        "import tensorflow as tf\n",
        "from tensorflow import keras"
      ],
      "metadata": {
        "id": "_PoOjInrtsn7"
      },
      "execution_count": 34,
      "outputs": []
    },
    {
      "cell_type": "code",
      "source": [
        "(train_input,train_target),(test_input,test_target)=keras.datasets.fashion_mnist.load_data()"
      ],
      "metadata": {
        "id": "7ONJ4CuTwyia"
      },
      "execution_count": 35,
      "outputs": []
    },
    {
      "cell_type": "code",
      "source": [
        "train_scaled = train_input/255.0 \n",
        "train_scaled = train_input.reshape(-1,28*28)"
      ],
      "metadata": {
        "id": "KNSsshjgwkCQ"
      },
      "execution_count": 36,
      "outputs": []
    },
    {
      "cell_type": "code",
      "source": [
        "from sklearn.model_selection import train_test_split\n",
        "train_scaled,val_scaled,train_target,val_target = train_test_split(train_scaled,train_target)"
      ],
      "metadata": {
        "id": "w1FDiTu_wY2t"
      },
      "execution_count": 37,
      "outputs": []
    },
    {
      "cell_type": "code",
      "source": [
        "print(train_scaled.shape)"
      ],
      "metadata": {
        "colab": {
          "base_uri": "https://localhost:8080/"
        },
        "id": "eNMuk679xFdp",
        "outputId": "40fafd6f-c3e9-4dd0-9434-07b72d610326"
      },
      "execution_count": 38,
      "outputs": [
        {
          "output_type": "stream",
          "name": "stdout",
          "text": [
            "(45000, 784)\n"
          ]
        }
      ]
    },
    {
      "cell_type": "code",
      "source": [
        "dense1 = keras.layers.Dense(100,activation='sigmoid',input_shape=(28*28,))#(output node의 수,활성화 함수,input_size)\n",
        "dense2 = keras.layers.Dense(10,activation='softmax')"
      ],
      "metadata": {
        "id": "o4Zk0pQrwxUC"
      },
      "execution_count": 39,
      "outputs": []
    },
    {
      "cell_type": "code",
      "source": [
        "model = keras.Sequential([dense1,dense2])"
      ],
      "metadata": {
        "id": "6G33_0N3xEqw"
      },
      "execution_count": 40,
      "outputs": []
    },
    {
      "cell_type": "code",
      "source": [
        "model.summary()"
      ],
      "metadata": {
        "colab": {
          "base_uri": "https://localhost:8080/"
        },
        "id": "C5bNycy34NMT",
        "outputId": "a4ab591d-9819-4e6e-c5d4-6ceb9c66c514"
      },
      "execution_count": 41,
      "outputs": [
        {
          "output_type": "stream",
          "name": "stdout",
          "text": [
            "Model: \"sequential_1\"\n",
            "_________________________________________________________________\n",
            " Layer (type)                Output Shape              Param #   \n",
            "=================================================================\n",
            " dense_2 (Dense)             (None, 100)               78500     \n",
            "                                                                 \n",
            " dense_3 (Dense)             (None, 10)                1010      \n",
            "                                                                 \n",
            "=================================================================\n",
            "Total params: 79,510\n",
            "Trainable params: 79,510\n",
            "Non-trainable params: 0\n",
            "_________________________________________________________________\n"
          ]
        }
      ]
    },
    {
      "cell_type": "code",
      "source": [
        "model.compile(loss = \"sparse_categorical_crossentropy\",metrics = \"accuracy\")\n",
        "#이진 분류 binary_crossentropy\n",
        "#다진 분류 categorical_crossentropy"
      ],
      "metadata": {
        "id": "noxfMeAHzaDw"
      },
      "execution_count": 42,
      "outputs": []
    },
    {
      "cell_type": "code",
      "source": [
        "model.fit(train_scaled,train_target,epochs=5)"
      ],
      "metadata": {
        "colab": {
          "base_uri": "https://localhost:8080/"
        },
        "id": "cwoSaKlfzrSW",
        "outputId": "a4066fd6-563d-43d0-d98a-27a4e37127a1"
      },
      "execution_count": 43,
      "outputs": [
        {
          "output_type": "stream",
          "name": "stdout",
          "text": [
            "Epoch 1/5\n",
            "1407/1407 [==============================] - 4s 3ms/step - loss: 0.8323 - accuracy: 0.7120\n",
            "Epoch 2/5\n",
            "1407/1407 [==============================] - 4s 3ms/step - loss: 0.6097 - accuracy: 0.7715\n",
            "Epoch 3/5\n",
            "1407/1407 [==============================] - 3s 2ms/step - loss: 0.5770 - accuracy: 0.7906\n",
            "Epoch 4/5\n",
            "1407/1407 [==============================] - 4s 2ms/step - loss: 0.5604 - accuracy: 0.7981\n",
            "Epoch 5/5\n",
            "1407/1407 [==============================] - 4s 3ms/step - loss: 0.5476 - accuracy: 0.8034\n"
          ]
        },
        {
          "output_type": "execute_result",
          "data": {
            "text/plain": [
              "<keras.callbacks.History at 0x7fc0dcdde0d0>"
            ]
          },
          "metadata": {},
          "execution_count": 43
        }
      ]
    },
    {
      "cell_type": "code",
      "source": [
        "model.evaluate(val_scaled,val_target)"
      ],
      "metadata": {
        "colab": {
          "base_uri": "https://localhost:8080/"
        },
        "id": "Rk8f_v8xz0gB",
        "outputId": "8eae8d53-4c79-4b20-c7f7-eae1cbc77b1d"
      },
      "execution_count": 44,
      "outputs": [
        {
          "output_type": "stream",
          "name": "stdout",
          "text": [
            "469/469 [==============================] - 1s 2ms/step - loss: 0.5233 - accuracy: 0.8122\n"
          ]
        },
        {
          "output_type": "execute_result",
          "data": {
            "text/plain": [
              "[0.5233041644096375, 0.8122000098228455]"
            ]
          },
          "metadata": {},
          "execution_count": 44
        }
      ]
    },
    {
      "cell_type": "markdown",
      "source": [
        "### Relu의 활용\n",
        "* 은닉층에서 사용되는 활성 함수"
      ],
      "metadata": {
        "id": "Aqi-tTJez71M"
      }
    },
    {
      "cell_type": "code",
      "source": [
        "dense1 = keras.layers.Dense(100,activation='relu',input_shape=(28*28,))#(output node의 수,활성화 함수,input_size)\n",
        "dense2 = keras.layers.Dense(10,activation='softmax')"
      ],
      "metadata": {
        "id": "JDp3lh5d95hu"
      },
      "execution_count": 45,
      "outputs": []
    },
    {
      "cell_type": "code",
      "source": [
        "model = keras.Sequential([dense1,dense2])"
      ],
      "metadata": {
        "id": "EYWhlsGM95hw"
      },
      "execution_count": 46,
      "outputs": []
    },
    {
      "cell_type": "code",
      "source": [
        "model.summary()"
      ],
      "metadata": {
        "colab": {
          "base_uri": "https://localhost:8080/"
        },
        "outputId": "3f905641-8adb-47e4-eaaf-328c588ca5c1",
        "id": "C9V_q_8e95hx"
      },
      "execution_count": 47,
      "outputs": [
        {
          "output_type": "stream",
          "name": "stdout",
          "text": [
            "Model: \"sequential_2\"\n",
            "_________________________________________________________________\n",
            " Layer (type)                Output Shape              Param #   \n",
            "=================================================================\n",
            " dense_4 (Dense)             (None, 100)               78500     \n",
            "                                                                 \n",
            " dense_5 (Dense)             (None, 10)                1010      \n",
            "                                                                 \n",
            "=================================================================\n",
            "Total params: 79,510\n",
            "Trainable params: 79,510\n",
            "Non-trainable params: 0\n",
            "_________________________________________________________________\n"
          ]
        }
      ]
    },
    {
      "cell_type": "code",
      "source": [
        "model.compile(loss = \"sparse_categorical_crossentropy\",metrics = \"accuracy\")\n",
        "#이진 분류 binary_crossentropy\n",
        "#다진 분류 categorical_crossentropy"
      ],
      "metadata": {
        "id": "mMWbhl_b95hy"
      },
      "execution_count": 48,
      "outputs": []
    },
    {
      "cell_type": "code",
      "source": [
        "model.fit(train_scaled,train_target,epochs=5)"
      ],
      "metadata": {
        "colab": {
          "base_uri": "https://localhost:8080/"
        },
        "outputId": "bd09f3d9-08e3-4cfe-e5bf-14f145c9ec28",
        "id": "XFNOW8Ou95hy"
      },
      "execution_count": 49,
      "outputs": [
        {
          "output_type": "stream",
          "name": "stdout",
          "text": [
            "Epoch 1/5\n",
            "1407/1407 [==============================] - 4s 3ms/step - loss: 4.2977 - accuracy: 0.6568\n",
            "Epoch 2/5\n",
            "1407/1407 [==============================] - 4s 3ms/step - loss: 0.9525 - accuracy: 0.6967\n",
            "Epoch 3/5\n",
            "1407/1407 [==============================] - 4s 3ms/step - loss: 0.9189 - accuracy: 0.7157\n",
            "Epoch 4/5\n",
            "1407/1407 [==============================] - 3s 2ms/step - loss: 0.8341 - accuracy: 0.7547\n",
            "Epoch 5/5\n",
            "1407/1407 [==============================] - 4s 3ms/step - loss: 0.8164 - accuracy: 0.7648\n"
          ]
        },
        {
          "output_type": "execute_result",
          "data": {
            "text/plain": [
              "<keras.callbacks.History at 0x7fc0dcc70b10>"
            ]
          },
          "metadata": {},
          "execution_count": 49
        }
      ]
    },
    {
      "cell_type": "code",
      "source": [
        "model.evaluate(val_scaled,val_target)"
      ],
      "metadata": {
        "colab": {
          "base_uri": "https://localhost:8080/"
        },
        "outputId": "133709dc-6733-4048-9928-ac0346072e5d",
        "id": "06tBhDo995hz"
      },
      "execution_count": 50,
      "outputs": [
        {
          "output_type": "stream",
          "name": "stdout",
          "text": [
            "469/469 [==============================] - 1s 2ms/step - loss: 0.8356 - accuracy: 0.7610\n"
          ]
        },
        {
          "output_type": "execute_result",
          "data": {
            "text/plain": [
              "[0.8355661630630493, 0.7609999775886536]"
            ]
          },
          "metadata": {},
          "execution_count": 50
        }
      ]
    },
    {
      "cell_type": "markdown",
      "source": [
        "### 다르게 모델 만들기\n",
        "* add를 활용한 layer 쌓기"
      ],
      "metadata": {
        "id": "ja6tVRqi-Reg"
      }
    },
    {
      "cell_type": "code",
      "source": [
        "model = keras.Sequential()"
      ],
      "metadata": {
        "id": "FSNJKUdg-ULP"
      },
      "execution_count": 51,
      "outputs": []
    },
    {
      "cell_type": "code",
      "source": [
        "model.add(keras.layers.Dense(100,activation='relu',input_shape=(28*28,)))\n",
        "model.add(keras.layers.Dense(10,activation='softmax'))"
      ],
      "metadata": {
        "id": "LiLc9cCu-WoW"
      },
      "execution_count": 52,
      "outputs": []
    },
    {
      "cell_type": "code",
      "source": [
        "model.summary()"
      ],
      "metadata": {
        "colab": {
          "base_uri": "https://localhost:8080/"
        },
        "id": "mOx66bUQ-ris",
        "outputId": "eeed82e9-941e-4fe2-8142-95f37865e723"
      },
      "execution_count": 53,
      "outputs": [
        {
          "output_type": "stream",
          "name": "stdout",
          "text": [
            "Model: \"sequential_3\"\n",
            "_________________________________________________________________\n",
            " Layer (type)                Output Shape              Param #   \n",
            "=================================================================\n",
            " dense_6 (Dense)             (None, 100)               78500     \n",
            "                                                                 \n",
            " dense_7 (Dense)             (None, 10)                1010      \n",
            "                                                                 \n",
            "=================================================================\n",
            "Total params: 79,510\n",
            "Trainable params: 79,510\n",
            "Non-trainable params: 0\n",
            "_________________________________________________________________\n"
          ]
        }
      ]
    },
    {
      "cell_type": "code",
      "source": [
        "model.compile(optimizer = 'adam',loss = \"sparse_categorical_crossentropy\",metrics = \"accuracy\")#optimizer 수정 => sgd = 여기선 미니 배치를 사용함,adam = 젤 많이 씀"
      ],
      "metadata": {
        "id": "YCsJEy8i-kji"
      },
      "execution_count": 54,
      "outputs": []
    },
    {
      "cell_type": "code",
      "source": [
        "model.fit(train_scaled,train_target,epochs=5)"
      ],
      "metadata": {
        "colab": {
          "base_uri": "https://localhost:8080/"
        },
        "outputId": "4128d44f-e631-4d0e-9037-a309ce869649",
        "id": "XnIOPkXB-kjj"
      },
      "execution_count": 55,
      "outputs": [
        {
          "output_type": "stream",
          "name": "stdout",
          "text": [
            "Epoch 1/5\n",
            "1407/1407 [==============================] - 3s 2ms/step - loss: 3.3304 - accuracy: 0.6537\n",
            "Epoch 2/5\n",
            "1407/1407 [==============================] - 3s 2ms/step - loss: 0.7754 - accuracy: 0.7232\n",
            "Epoch 3/5\n",
            "1407/1407 [==============================] - 3s 2ms/step - loss: 0.6861 - accuracy: 0.7491\n",
            "Epoch 4/5\n",
            "1407/1407 [==============================] - 3s 2ms/step - loss: 0.6150 - accuracy: 0.7789\n",
            "Epoch 5/5\n",
            "1407/1407 [==============================] - 3s 2ms/step - loss: 0.5762 - accuracy: 0.7995\n"
          ]
        },
        {
          "output_type": "execute_result",
          "data": {
            "text/plain": [
              "<keras.callbacks.History at 0x7fc0dcb01790>"
            ]
          },
          "metadata": {},
          "execution_count": 55
        }
      ]
    },
    {
      "cell_type": "code",
      "source": [
        "model.evaluate(val_scaled,val_target)"
      ],
      "metadata": {
        "colab": {
          "base_uri": "https://localhost:8080/"
        },
        "outputId": "2f96f902-45b6-439a-866e-deb362e54367",
        "id": "yfZn7UNX-kjj"
      },
      "execution_count": 56,
      "outputs": [
        {
          "output_type": "stream",
          "name": "stdout",
          "text": [
            "469/469 [==============================] - 1s 2ms/step - loss: 0.5617 - accuracy: 0.8143\n"
          ]
        },
        {
          "output_type": "execute_result",
          "data": {
            "text/plain": [
              "[0.5617172718048096, 0.8143333196640015]"
            ]
          },
          "metadata": {},
          "execution_count": 56
        }
      ]
    },
    {
      "cell_type": "markdown",
      "source": [
        "### history확인"
      ],
      "metadata": {
        "id": "FutC3JYEA3cI"
      }
    },
    {
      "cell_type": "code",
      "source": [
        "model = keras.Sequential()"
      ],
      "metadata": {
        "id": "LP0CATS3A9o6"
      },
      "execution_count": 72,
      "outputs": []
    },
    {
      "cell_type": "code",
      "source": [
        "model.add(keras.layers.Dense(100,activation='relu',input_shape=(28*28,)))\n",
        "model.add(keras.layers.Dense(10,activation='softmax'))"
      ],
      "metadata": {
        "id": "00t3M6wAA9o7"
      },
      "execution_count": 73,
      "outputs": []
    },
    {
      "cell_type": "code",
      "source": [
        "model.summary()"
      ],
      "metadata": {
        "colab": {
          "base_uri": "https://localhost:8080/"
        },
        "outputId": "076ce836-2a46-47a3-8ca4-c44dd950c8ff",
        "id": "shtjfsj6A9o7"
      },
      "execution_count": 74,
      "outputs": [
        {
          "output_type": "stream",
          "name": "stdout",
          "text": [
            "Model: \"sequential_7\"\n",
            "_________________________________________________________________\n",
            " Layer (type)                Output Shape              Param #   \n",
            "=================================================================\n",
            " dense_14 (Dense)            (None, 100)               78500     \n",
            "                                                                 \n",
            " dense_15 (Dense)            (None, 10)                1010      \n",
            "                                                                 \n",
            "=================================================================\n",
            "Total params: 79,510\n",
            "Trainable params: 79,510\n",
            "Non-trainable params: 0\n",
            "_________________________________________________________________\n"
          ]
        }
      ]
    },
    {
      "cell_type": "code",
      "source": [
        "model.compile(optimizer = 'adam',loss = \"sparse_categorical_crossentropy\",metrics = \"accuracy\")#optimizer 수정 => sgd = 여기선 미니 배치를 사용함,adam = 젤 많이 씀"
      ],
      "metadata": {
        "id": "O7LcHzD-A9o7"
      },
      "execution_count": 60,
      "outputs": []
    },
    {
      "cell_type": "code",
      "source": [
        "history = model.fit(train_scaled,\n",
        "                    train_target,\n",
        "                    epochs=5,\n",
        "                    validation_data = (val_scaled,val_target))"
      ],
      "metadata": {
        "colab": {
          "base_uri": "https://localhost:8080/"
        },
        "outputId": "a79ec203-f8f5-43f2-93fa-e1018db48643",
        "id": "LIz2MiwMA9o8"
      },
      "execution_count": 61,
      "outputs": [
        {
          "output_type": "stream",
          "name": "stdout",
          "text": [
            "Epoch 1/5\n",
            "1407/1407 [==============================] - 4s 3ms/step - loss: 4.5600 - accuracy: 0.6710 - val_loss: 0.9500 - val_accuracy: 0.7045\n",
            "Epoch 2/5\n",
            "1407/1407 [==============================] - 4s 3ms/step - loss: 0.8048 - accuracy: 0.7095 - val_loss: 0.7332 - val_accuracy: 0.7467\n",
            "Epoch 3/5\n",
            "1407/1407 [==============================] - 4s 3ms/step - loss: 0.6958 - accuracy: 0.7434 - val_loss: 0.6728 - val_accuracy: 0.7547\n",
            "Epoch 4/5\n",
            "1407/1407 [==============================] - 4s 3ms/step - loss: 0.6295 - accuracy: 0.7692 - val_loss: 0.5994 - val_accuracy: 0.7869\n",
            "Epoch 5/5\n",
            "1407/1407 [==============================] - 4s 3ms/step - loss: 0.5797 - accuracy: 0.7942 - val_loss: 0.5475 - val_accuracy: 0.8148\n"
          ]
        }
      ]
    },
    {
      "cell_type": "code",
      "source": [
        "model.evaluate(val_scaled,val_target)"
      ],
      "metadata": {
        "colab": {
          "base_uri": "https://localhost:8080/"
        },
        "outputId": "f2310b37-ce86-4cd7-9092-21f4a5e1fb41",
        "id": "5WVbrkk2A9o8"
      },
      "execution_count": 62,
      "outputs": [
        {
          "output_type": "stream",
          "name": "stdout",
          "text": [
            "469/469 [==============================] - 1s 1ms/step - loss: 0.5475 - accuracy: 0.8148\n"
          ]
        },
        {
          "output_type": "execute_result",
          "data": {
            "text/plain": [
              "[0.5475120544433594, 0.8148000240325928]"
            ]
          },
          "metadata": {},
          "execution_count": 62
        }
      ]
    },
    {
      "cell_type": "code",
      "source": [
        "import matplotlib.pyplot as plt\n",
        "\n",
        "plt.plot(history.history['loss'])\n",
        "plt.plot(history.history['val_loss'])\n",
        "plt.xlabel('epoch')\n",
        "plt.ylabel('loss')\n",
        "plt.legend(['train','val'])\n",
        "plt.show()"
      ],
      "metadata": {
        "colab": {
          "base_uri": "https://localhost:8080/",
          "height": 279
        },
        "id": "uuxrnnvQBTrt",
        "outputId": "d4ef24a0-8507-4928-ae62-58f80423a9f3"
      },
      "execution_count": 63,
      "outputs": [
        {
          "output_type": "display_data",
          "data": {
            "image/png": "[encoded data removed]",
            "text/plain": [
              "<Figure size 432x288 with 1 Axes>"
            ]
          },
          "metadata": {
            "needs_background": "light"
          }
        }
      ]
    },
    {
      "cell_type": "markdown",
      "source": [
        "# 성능 향상"
      ],
      "metadata": {
        "id": "JSkBbKOB0f0y"
      }
    },
    {
      "cell_type": "markdown",
      "source": [
        "## Dropout\n",
        "* Fully connected이다보니 필요 이상으로 연산을 함\n",
        "  * 과대 적합이 발생\n",
        "* 일부 unit의 연결을 끊음으로써 과대 적합 방지"
      ],
      "metadata": {
        "id": "_TsZ3hNi0jAp"
      }
    },
    {
      "cell_type": "code",
      "source": [
        "model = keras.Sequential()"
      ],
      "metadata": {
        "id": "FC5vjzNVqcAK"
      },
      "execution_count": 85,
      "outputs": []
    },
    {
      "cell_type": "code",
      "source": [
        "model.add(keras.layers.Dense(100,activation='relu',input_shape=(28*28,)))\n",
        "model.add(keras.layers.Dropout(0.3))\n",
        "model.add(keras.layers.Dense(10,activation='softmax'))"
      ],
      "metadata": {
        "id": "T5wjN_GnqcAK"
      },
      "execution_count": 86,
      "outputs": []
    },
    {
      "cell_type": "code",
      "source": [
        "model.summary()"
      ],
      "metadata": {
        "colab": {
          "base_uri": "https://localhost:8080/"
        },
        "outputId": "1b8bd8f0-cf06-465b-f419-d856f5c9e855",
        "id": "uF3vY9YVqcAK"
      },
      "execution_count": 87,
      "outputs": [
        {
          "output_type": "stream",
          "name": "stdout",
          "text": [
            "Model: \"sequential_9\"\n",
            "_________________________________________________________________\n",
            " Layer (type)                Output Shape              Param #   \n",
            "=================================================================\n",
            " dense_18 (Dense)            (None, 100)               78500     \n",
            "                                                                 \n",
            " dropout_3 (Dropout)         (None, 100)               0         \n",
            "                                                                 \n",
            " dense_19 (Dense)            (None, 10)                1010      \n",
            "                                                                 \n",
            "=================================================================\n",
            "Total params: 79,510\n",
            "Trainable params: 79,510\n",
            "Non-trainable params: 0\n",
            "_________________________________________________________________\n"
          ]
        }
      ]
    },
    {
      "cell_type": "code",
      "source": [
        "model.compile(optimizer = 'adam',loss = \"sparse_categorical_crossentropy\",metrics = \"accuracy\")#optimizer 수정 => sgd = 여기선 미니 배치를 사용함,adam = 젤 많이 씀"
      ],
      "metadata": {
        "id": "BVogxzFwqcAK"
      },
      "execution_count": 88,
      "outputs": []
    },
    {
      "cell_type": "code",
      "source": [
        "history = model.fit(train_scaled,\n",
        "                    train_target,\n",
        "                    epochs=5,\n",
        "                    validation_data = (val_scaled,val_target))"
      ],
      "metadata": {
        "colab": {
          "base_uri": "https://localhost:8080/"
        },
        "outputId": "6caed6dd-33df-4231-ad06-f8117f8b99a7",
        "id": "SeS91jLJqcAK"
      },
      "execution_count": 89,
      "outputs": [
        {
          "output_type": "stream",
          "name": "stdout",
          "text": [
            "Epoch 1/5\n",
            "1407/1407 [==============================] - 5s 3ms/step - loss: 2.9291 - accuracy: 0.5058 - val_loss: 0.9682 - val_accuracy: 0.6696\n",
            "Epoch 2/5\n",
            "1407/1407 [==============================] - 4s 3ms/step - loss: 1.2036 - accuracy: 0.5681 - val_loss: 0.9497 - val_accuracy: 0.6987\n",
            "Epoch 3/5\n",
            "1407/1407 [==============================] - 4s 3ms/step - loss: 1.0965 - accuracy: 0.5928 - val_loss: 0.8454 - val_accuracy: 0.6763\n",
            "Epoch 4/5\n",
            "1407/1407 [==============================] - 4s 3ms/step - loss: 1.0305 - accuracy: 0.6146 - val_loss: 0.8458 - val_accuracy: 0.6806\n",
            "Epoch 5/5\n",
            "1407/1407 [==============================] - 4s 3ms/step - loss: 0.9935 - accuracy: 0.6199 - val_loss: 0.7497 - val_accuracy: 0.7199\n"
          ]
        }
      ]
    },
    {
      "cell_type": "code",
      "source": [
        "model.evaluate(val_scaled,val_target)"
      ],
      "metadata": {
        "colab": {
          "base_uri": "https://localhost:8080/"
        },
        "outputId": "ca902b56-665e-4f9c-96ab-e11109459ac6",
        "id": "DHRzLvF0qcAL"
      },
      "execution_count": 90,
      "outputs": [
        {
          "output_type": "stream",
          "name": "stdout",
          "text": [
            "469/469 [==============================] - 1s 1ms/step - loss: 0.7497 - accuracy: 0.7199\n"
          ]
        },
        {
          "output_type": "execute_result",
          "data": {
            "text/plain": [
              "[0.7497023344039917, 0.7198666930198669]"
            ]
          },
          "metadata": {},
          "execution_count": 90
        }
      ]
    },
    {
      "cell_type": "markdown",
      "source": [
        "## Call Back,Early Stopping\n",
        "* 모델의 epoch 중 가장 좋은 성능을 가진 model을 저장해 줌\n",
        "* 일정 횟수 이상 성능이 개선되지 않으면 학습을 멈춤(효율성 상승 + 과대 적합 방지)"
      ],
      "metadata": {
        "id": "1VfK3tkC1FRE"
      }
    },
    {
      "cell_type": "code",
      "source": [
        "model = keras.Sequential()"
      ],
      "metadata": {
        "id": "vxayH1bGs5cC"
      },
      "execution_count": 91,
      "outputs": []
    },
    {
      "cell_type": "code",
      "source": [
        "model.add(keras.layers.Dense(100,activation='relu',input_shape=(28*28,)))\n",
        "model.add(keras.layers.Dropout(0.3))\n",
        "model.add(keras.layers.Dense(10,activation='softmax'))"
      ],
      "metadata": {
        "id": "83MLXRvhs5cD"
      },
      "execution_count": 92,
      "outputs": []
    },
    {
      "cell_type": "code",
      "source": [
        "model.summary()"
      ],
      "metadata": {
        "colab": {
          "base_uri": "https://localhost:8080/"
        },
        "outputId": "7443d3e5-bb1c-4d45-c78e-2a15f4086290",
        "id": "zgmaz5Dts5cD"
      },
      "execution_count": 93,
      "outputs": [
        {
          "output_type": "stream",
          "name": "stdout",
          "text": [
            "Model: \"sequential_10\"\n",
            "_________________________________________________________________\n",
            " Layer (type)                Output Shape              Param #   \n",
            "=================================================================\n",
            " dense_20 (Dense)            (None, 100)               78500     \n",
            "                                                                 \n",
            " dropout_4 (Dropout)         (None, 100)               0         \n",
            "                                                                 \n",
            " dense_21 (Dense)            (None, 10)                1010      \n",
            "                                                                 \n",
            "=================================================================\n",
            "Total params: 79,510\n",
            "Trainable params: 79,510\n",
            "Non-trainable params: 0\n",
            "_________________________________________________________________\n"
          ]
        }
      ]
    },
    {
      "cell_type": "code",
      "source": [
        "model.compile(optimizer = 'adam',loss = \"sparse_categorical_crossentropy\",metrics = \"accuracy\")#optimizer 수정 => sgd = 여기선 미니 배치를 사용함,adam = 젤 많이 씀"
      ],
      "metadata": {
        "id": "utIXVNGbs5cD"
      },
      "execution_count": 94,
      "outputs": []
    },
    {
      "cell_type": "code",
      "source": [
        "checkpoint_cb = keras.callbacks.ModelCheckpoint('best-model.h5',save_best_only=True)\n",
        "early_stopping_cb = keras.callbacks.EarlyStopping(patience=2,restore_best_weights=True)"
      ],
      "metadata": {
        "id": "zDFwi0mLs9B_"
      },
      "execution_count": 95,
      "outputs": []
    },
    {
      "cell_type": "code",
      "source": [
        "history = model.fit(train_scaled,\n",
        "                    train_target,\n",
        "                    epochs=20,\n",
        "                    validation_data = (val_scaled,val_target),\n",
        "                    callbacks = [checkpoint_cb,early_stopping_cb])"
      ],
      "metadata": {
        "colab": {
          "base_uri": "https://localhost:8080/"
        },
        "outputId": "61fc5397-5fd3-4257-b38b-5d009dbecc7e",
        "id": "9tazbM01s5cD"
      },
      "execution_count": 96,
      "outputs": [
        {
          "output_type": "stream",
          "name": "stdout",
          "text": [
            "Epoch 1/20\n",
            "1407/1407 [==============================] - 4s 3ms/step - loss: 2.6660 - accuracy: 0.4823 - val_loss: 0.9940 - val_accuracy: 0.6461\n",
            "Epoch 2/20\n",
            "1407/1407 [==============================] - 4s 3ms/step - loss: 1.1983 - accuracy: 0.5502 - val_loss: 1.0073 - val_accuracy: 0.6104\n",
            "Epoch 3/20\n",
            "1407/1407 [==============================] - 4s 3ms/step - loss: 1.1038 - accuracy: 0.5742 - val_loss: 0.7963 - val_accuracy: 0.6939\n",
            "Epoch 4/20\n",
            "1407/1407 [==============================] - 4s 3ms/step - loss: 1.0633 - accuracy: 0.5928 - val_loss: 0.7614 - val_accuracy: 0.7131\n",
            "Epoch 5/20\n",
            "1407/1407 [==============================] - 4s 3ms/step - loss: 1.0337 - accuracy: 0.6095 - val_loss: 0.7293 - val_accuracy: 0.7221\n",
            "Epoch 6/20\n",
            "1407/1407 [==============================] - 4s 3ms/step - loss: 1.0250 - accuracy: 0.6116 - val_loss: 0.8354 - val_accuracy: 0.6711\n",
            "Epoch 7/20\n",
            "1407/1407 [==============================] - 4s 3ms/step - loss: 0.9944 - accuracy: 0.6200 - val_loss: 0.7094 - val_accuracy: 0.7301\n",
            "Epoch 8/20\n",
            "1407/1407 [==============================] - 4s 3ms/step - loss: 0.9931 - accuracy: 0.6225 - val_loss: 0.7396 - val_accuracy: 0.7167\n",
            "Epoch 9/20\n",
            "1407/1407 [==============================] - 4s 3ms/step - loss: 0.9909 - accuracy: 0.6202 - val_loss: 0.7586 - val_accuracy: 0.6871\n"
          ]
        }
      ]
    },
    {
      "cell_type": "code",
      "source": [
        "model.evaluate(val_scaled,val_target)"
      ],
      "metadata": {
        "colab": {
          "base_uri": "https://localhost:8080/"
        },
        "outputId": "c7a1ca1d-e163-40c3-8b3b-494532fcbdca",
        "id": "3RTwTx31s5cD"
      },
      "execution_count": 97,
      "outputs": [
        {
          "output_type": "stream",
          "name": "stdout",
          "text": [
            "469/469 [==============================] - 1s 1ms/step - loss: 0.7094 - accuracy: 0.7301\n"
          ]
        },
        {
          "output_type": "execute_result",
          "data": {
            "text/plain": [
              "[0.7094041705131531, 0.7301333546638489]"
            ]
          },
          "metadata": {},
          "execution_count": 97
        }
      ]
    },
    {
      "cell_type": "code",
      "source": [
        "print(early_stopping_cb.stopped_epoch)#8번째 epoch에서 학습을 멈춤 즉 patience가 2이기에 6번째가 best model임"
      ],
      "metadata": {
        "colab": {
          "base_uri": "https://localhost:8080/"
        },
        "id": "Ns9Icpy9tiRI",
        "outputId": "b272e724-4e17-4ea7-c128-0c670a80ded5"
      },
      "execution_count": 98,
      "outputs": [
        {
          "output_type": "stream",
          "name": "stdout",
          "text": [
            "8\n"
          ]
        }
      ]
    },
    {
      "cell_type": "code",
      "source": [
        "model = keras.models.load_model('best-model.h5')\n",
        "model.evaluate(val_scaled,val_target)"
      ],
      "metadata": {
        "colab": {
          "base_uri": "https://localhost:8080/"
        },
        "id": "C6WZDmVWy281",
        "outputId": "f76e0f02-ea92-4c3d-ed5d-8ba6384a9db9"
      },
      "execution_count": 101,
      "outputs": [
        {
          "output_type": "stream",
          "name": "stdout",
          "text": [
            "469/469 [==============================] - 1s 2ms/step - loss: 0.7094 - accuracy: 0.7301\n"
          ]
        },
        {
          "output_type": "execute_result",
          "data": {
            "text/plain": [
              "[0.7094041705131531, 0.7301333546638489]"
            ]
          },
          "metadata": {},
          "execution_count": 101
        }
      ]
    }
  ]
}