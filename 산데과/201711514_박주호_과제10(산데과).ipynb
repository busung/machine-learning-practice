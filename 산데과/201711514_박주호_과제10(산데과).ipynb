{
  "nbformat": 4,
  "nbformat_minor": 0,
  "metadata": {
    "colab": {
      "name": "201711514_박주호_과제10(산데과).ipynb",
      "provenance": [],
      "collapsed_sections": []
    },
    "kernelspec": {
      "name": "python3",
      "display_name": "Python 3"
    },
    "language_info": {
      "name": "python"
    },
    "accelerator": "GPU"
  },
  "cells": [
    {
      "cell_type": "code",
      "metadata": {
        "colab": {
          "base_uri": "https://localhost:8080/"
        },
        "id": "f0Jf8OPCAkqb",
        "outputId": "6656a2f0-70a6-47a4-aa10-741b58a2f03f"
      },
      "source": [
        "from PIL import Image\n",
        "import cv2\n",
        "import matplotlib.pyplot as plt\n",
        "\n",
        "from google.colab.patches import cv2_imshow\n",
        "\n",
        "import numpy as np\n",
        "\n",
        "import torch\n",
        "import torch.nn as nn\n",
        "from torch.utils.data import Dataset, DataLoader\n",
        "from torchvision.transforms import transforms\n",
        "\n",
        "from google.colab import drive\n",
        "drive._mount('/content/drive')"
      ],
      "execution_count": 1,
      "outputs": [
        {
          "output_type": "stream",
          "name": "stdout",
          "text": [
            "Mounted at /content/drive\n"
          ]
        }
      ]
    },
    {
      "cell_type": "code",
      "metadata": {
        "id": "FQRSeiR6BYby"
      },
      "source": [
        "import os\n",
        "data_path = \"/content/drive/MyDrive/산데과/gear\""
      ],
      "execution_count": 2,
      "outputs": []
    },
    {
      "cell_type": "code",
      "metadata": {
        "id": "n74X8lh4Hugi"
      },
      "source": [
        "# 학습 데이터 전처리 모듈\n",
        "\n",
        "class ImageLoader(Dataset):\n",
        "    \n",
        "    def read_data_set(self):\n",
        "        all_img_files = []      \n",
        "        all_labels = []\n",
        "        class_names = os.walk(self.data_set_path).__next__()[1]\n",
        "        print(class_names)\n",
        "\n",
        "        for index, class_name in enumerate(class_names):\n",
        "            \n",
        "            label = index\n",
        "            img_dir = os.path.join(self.data_set_path, class_name)\n",
        "            img_files = os.walk(img_dir).__next__()[2]\n",
        "\n",
        "            for img_file in img_files:\n",
        "                img_file = os.path.join(img_dir, img_file)\n",
        "                img = Image.open(img_file)\n",
        "                \n",
        "                if img is not None:\n",
        "                  all_img_files.append(img_file)\n",
        "                  all_labels.append(label)\n",
        "\n",
        "        return all_img_files, all_labels, len(all_img_files), len(class_names)\n",
        "\n",
        "    def __init__(self, data_set_path, transforms=None):\n",
        "        \n",
        "        self.data_set_path = data_set_path\n",
        "        self.image_files_path, self.labels, self.length, self.num_classes = self.read_data_set()\n",
        "        self.transforms = transforms\n",
        "\n",
        "    def __getitem__(self, index):\n",
        "        \n",
        "        image = Image.open(self.image_files_path[index])\n",
        "        #image = Image.convert(\"RGB\")\n",
        "\n",
        "        if self.transforms is not None:\n",
        "          image = self.transforms(image)\n",
        "\n",
        "        return {'image': image, 'label': self.labels[index]}\n",
        "\n",
        "    def __len__(self):\n",
        "        return self.length"
      ],
      "execution_count": 45,
      "outputs": []
    },
    {
      "cell_type": "code",
      "metadata": {
        "colab": {
          "base_uri": "https://localhost:8080/"
        },
        "id": "iVps0RX-Hyu2",
        "outputId": "48f83d6c-90dc-44d0-d8c6-407a258d204c"
      },
      "source": [
        "TransformsTrain = transforms.Compose([transforms.Resize((64, 64)),\n",
        "                                       transforms.RandomRotation(10.),\n",
        "                                       transforms.ToTensor(),\n",
        "                                       transforms.Normalize(mean=[0.5, 0.5, 0.5], std=[0.2, 0.2, 0.2])])\n",
        "   \n",
        "TransformsTest = transforms.Compose([transforms.Resize((64, 64)),\n",
        "                                     transforms.ToTensor(),\n",
        "                                     transforms.Normalize(mean=[0.5, 0.5, 0.5], std=[0.2, 0.2, 0.2])])\n",
        "\n",
        "TrainDataSet = ImageLoader(\"/content/drive/MyDrive/산데과/gear/train\", \n",
        "                                              transforms=TransformsTrain)\n",
        "\n",
        "TrainLoader = DataLoader(TrainDataSet, batch_size=8, shuffle=True)\n",
        "TestDataSet = ImageLoader(\"/content/drive/MyDrive/산데과/gear/test\", \n",
        "                                             transforms=TransformsTest)\n",
        "\n",
        "TestLoader = DataLoader(TestDataSet, batch_size=8, shuffle=True)"
      ],
      "execution_count": 46,
      "outputs": [
        {
          "output_type": "stream",
          "name": "stdout",
          "text": [
            "['good', 'error']\n",
            "['good', 'error']\n"
          ]
        }
      ]
    },
    {
      "cell_type": "code",
      "metadata": {
        "id": "muX8MrvgITTf"
      },
      "source": [
        "# CNN 네트워크 구조 정의\n",
        "\n",
        "class cnn(nn.Module):\n",
        "  \n",
        "  def __init__(self, input_dim, hid_dim, out_dim):\n",
        "    super(cnn, self).__init__()\n",
        "    self.input_dim = input_dim\n",
        "    self.hid_dim = hid_dim\n",
        "    self.out_dim = out_dim\n",
        "    self.conv_block1 = self.conv_block(input_dim, hid_dim)\n",
        "    self.conv_block2 = self.conv_block(hid_dim, hid_dim*2)\n",
        "    self.conv_block3 = self.conv_block(hid_dim*2, hid_dim*4)\n",
        "    self.conv_block4 = self.conv_block(hid_dim*4, hid_dim*8)\n",
        "    self.conv_block5 = self.conv_block(hid_dim*8, hid_dim*4)\n",
        "    self.conv_block6 = self.conv_block(hid_dim*4, hid_dim*2)\n",
        "    self.final_block = self.avg_block(hid_dim*2, out_dim)\n",
        "\n",
        "  def forward(self, x):\n",
        "    out = self.conv_block1(x)\n",
        "    out = self.conv_block2(out)\n",
        "    out = self.conv_block3(out)\n",
        "    out = self.conv_block4(out)\n",
        "    out = self.conv_block5(out)\n",
        "    out = self.conv_block6(out)\n",
        "    out = self.final_block(out)\n",
        "    out = out.view(-1, self.out_dim)\n",
        "    return out\n",
        "\n",
        "  def conv_block(self, in_size, out_size):\n",
        "    return nn.Sequential(\n",
        "        nn.Conv2d(in_size, out_size, kernel_size=3, stride=1, padding=1),\n",
        "        nn.BatchNorm2d(out_size),\n",
        "        nn.ReLU(),\n",
        "        nn.Dropout(),\n",
        "        nn.MaxPool2d(kernel_size=2, stride=2)\n",
        "    )\n",
        "\n",
        "  def avg_block(self, in_size, out_size):\n",
        "    return nn.Sequential(\n",
        "        nn.Conv2d(in_size, out_size, kernel_size=3, stride=1, padding=1),\n",
        "        nn.BatchNorm2d(out_size),\n",
        "        nn.ReLU(),\n",
        "        nn.AdaptiveAvgPool2d((1,1))\n",
        "    )"
      ],
      "execution_count": 69,
      "outputs": []
    },
    {
      "cell_type": "code",
      "metadata": {
        "id": "lNvPg2nRIrL0"
      },
      "source": [
        "model = cnn(3,32,2).cuda()#out은 good,bad 두 개이기에"
      ],
      "execution_count": 70,
      "outputs": []
    },
    {
      "cell_type": "code",
      "metadata": {
        "id": "07cVudhqI0eE"
      },
      "source": [
        "loss = nn.CrossEntropyLoss()#Binary_CrossEntropy를 쓰려면 final activation이 sigmoid가 되야함\n",
        "optimizer = torch.optim.Adam(model.parameters(),lr=0.001)"
      ],
      "execution_count": 71,
      "outputs": []
    },
    {
      "cell_type": "code",
      "metadata": {
        "colab": {
          "base_uri": "https://localhost:8080/"
        },
        "id": "_VwPhSFmKzR7",
        "outputId": "46cf9f61-3b85-460f-d181-c039a406f6f2"
      },
      "source": [
        "losses = []\n",
        "for e in range(1000):\n",
        "\n",
        "  for i_batch, item in enumerate(TrainLoader):\n",
        "    images = item['image'].cuda()\n",
        "    labels = item['label'].cuda()\n",
        "\n",
        "    outputs = model(images)\n",
        "    L = loss(outputs,labels)\n",
        "    losses.append(L.item())\n",
        "    optimizer.zero_grad()\n",
        "    L.backward()\n",
        "    optimizer.step()\n",
        "  if (e+1)%100 == 0:\n",
        "    print('[Epoch: {}/{}], [Loss: {:.4f}]'.format(e + 1, 1000, L.item()))"
      ],
      "execution_count": 72,
      "outputs": [
        {
          "output_type": "stream",
          "name": "stdout",
          "text": [
            "[Epoch: 100/1000], [Loss: 0.6529]\n",
            "[Epoch: 200/1000], [Loss: 0.4914]\n",
            "[Epoch: 300/1000], [Loss: 0.2122]\n",
            "[Epoch: 400/1000], [Loss: 0.3067]\n",
            "[Epoch: 500/1000], [Loss: 0.0594]\n",
            "[Epoch: 600/1000], [Loss: 0.2169]\n",
            "[Epoch: 700/1000], [Loss: 0.2072]\n",
            "[Epoch: 800/1000], [Loss: 0.5156]\n",
            "[Epoch: 900/1000], [Loss: 0.1915]\n",
            "[Epoch: 1000/1000], [Loss: 0.0146]\n"
          ]
        }
      ]
    },
    {
      "cell_type": "code",
      "metadata": {
        "colab": {
          "base_uri": "https://localhost:8080/",
          "height": 283
        },
        "id": "R2yNBjqAK0ry",
        "outputId": "28196cda-8567-469d-da90-9c9f10b41088"
      },
      "source": [
        "plt.plot(losses)"
      ],
      "execution_count": 74,
      "outputs": [
        {
          "output_type": "execute_result",
          "data": {
            "text/plain": [
              "[<matplotlib.lines.Line2D at 0x7fafc8553d50>]"
            ]
          },
          "metadata": {},
          "execution_count": 74
        },
        {
          "output_type": "display_data",
          "data": {
            "image/png": "[encoded data removed]",
            "text/plain": [
              "<Figure size 432x288 with 1 Axes>"
            ]
          },
          "metadata": {
            "needs_background": "light"
          }
        }
      ]
    },
    {
      "cell_type": "code",
      "metadata": {
        "colab": {
          "base_uri": "https://localhost:8080/"
        },
        "id": "gJcGWuAwK2mz",
        "outputId": "3de17d07-e5fb-4606-bc66-83ec1f9f1659"
      },
      "source": [
        "model.eval()  \n",
        "with torch.no_grad():\n",
        "    correct = 0\n",
        "    total = 0\n",
        "    for item in TestLoader:\n",
        "      images = item['image'].cuda()\n",
        "      labels = item['label'].cuda()\n",
        "      outputs = model(images)\n",
        "      _, predicted = torch.max(outputs.data, 1)\n",
        "      total += len(labels)\n",
        "      correct += (predicted == labels).sum().item()\n",
        "\n",
        "print('[Test Accuracy: {:4f}]'.format(100 * correct / total))\n",
        "#기존 50프로에서 52프로로 상승"
      ],
      "execution_count": 73,
      "outputs": [
        {
          "output_type": "stream",
          "name": "stdout",
          "text": [
            "[Test Accuracy: 52.272727]\n"
          ]
        }
      ]
    }
  ]
}