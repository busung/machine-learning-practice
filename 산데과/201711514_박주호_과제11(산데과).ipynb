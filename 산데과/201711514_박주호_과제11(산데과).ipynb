{
  "nbformat": 4,
  "nbformat_minor": 0,
  "metadata": {
    "colab": {
      "name": "201711514_박주호_과제11(산데과).ipynb",
      "provenance": []
    },
    "kernelspec": {
      "name": "python3",
      "display_name": "Python 3"
    },
    "language_info": {
      "name": "python"
    }
  },
  "cells": [
    {
      "cell_type": "markdown",
      "metadata": {
        "id": "1Ei6VgcL-WnG"
      },
      "source": [
        "#Data 전처리"
      ]
    },
    {
      "cell_type": "code",
      "metadata": {
        "colab": {
          "base_uri": "https://localhost:8080/"
        },
        "id": "Er3gKfIu9tRr",
        "outputId": "c0714ea6-555a-494d-994d-e436d2550198"
      },
      "source": [
        "import numpy as np\n",
        "import pandas as pd\n",
        "import matplotlib.pyplot as plt\n",
        "from sklearn.preprocessing import MinMaxScaler\n",
        "from google.colab import drive\n",
        "drive._mount('/content/gdriv')"
      ],
      "execution_count": 1,
      "outputs": [
        {
          "output_type": "stream",
          "name": "stdout",
          "text": [
            "Mounted at /content/gdriv\n"
          ]
        }
      ]
    },
    {
      "cell_type": "code",
      "metadata": {
        "colab": {
          "base_uri": "https://localhost:8080/",
          "height": 204
        },
        "id": "HBfkg3lh--5k",
        "outputId": "c38c92e3-4bc8-48dd-e23c-dec25572af48"
      },
      "source": [
        "import os\n",
        "data_path = \"/content/gdriv/MyDrive/산데과/\"\n",
        "data_list = os.listdir(data_path)\n",
        "bci = pd.read_csv(data_path + '/' + data_list[13])\n",
        "bci.head()"
      ],
      "execution_count": 34,
      "outputs": [
        {
          "output_type": "execute_result",
          "data": {
            "text/html": [
              "<div>\n",
              "<style scoped>\n",
              "    .dataframe tbody tr th:only-of-type {\n",
              "        vertical-align: middle;\n",
              "    }\n",
              "\n",
              "    .dataframe tbody tr th {\n",
              "        vertical-align: top;\n",
              "    }\n",
              "\n",
              "    .dataframe thead th {\n",
              "        text-align: right;\n",
              "    }\n",
              "</style>\n",
              "<table border=\"1\" class=\"dataframe\">\n",
              "  <thead>\n",
              "    <tr style=\"text-align: right;\">\n",
              "      <th></th>\n",
              "      <th>date</th>\n",
              "      <th>BCI</th>\n",
              "    </tr>\n",
              "  </thead>\n",
              "  <tbody>\n",
              "    <tr>\n",
              "      <th>0</th>\n",
              "      <td>1999-Mar-01</td>\n",
              "      <td>1000</td>\n",
              "    </tr>\n",
              "    <tr>\n",
              "      <th>1</th>\n",
              "      <td>1999-Mar-02</td>\n",
              "      <td>1009</td>\n",
              "    </tr>\n",
              "    <tr>\n",
              "      <th>2</th>\n",
              "      <td>1999-Mar-03</td>\n",
              "      <td>1014</td>\n",
              "    </tr>\n",
              "    <tr>\n",
              "      <th>3</th>\n",
              "      <td>1999-Mar-04</td>\n",
              "      <td>1013</td>\n",
              "    </tr>\n",
              "    <tr>\n",
              "      <th>4</th>\n",
              "      <td>1999-Mar-05</td>\n",
              "      <td>1005</td>\n",
              "    </tr>\n",
              "  </tbody>\n",
              "</table>\n",
              "</div>"
            ],
            "text/plain": [
              "          date   BCI\n",
              "0  1999-Mar-01  1000\n",
              "1  1999-Mar-02  1009\n",
              "2  1999-Mar-03  1014\n",
              "3  1999-Mar-04  1013\n",
              "4  1999-Mar-05  1005"
            ]
          },
          "metadata": {},
          "execution_count": 34
        }
      ]
    },
    {
      "cell_type": "markdown",
      "metadata": {
        "id": "qACW7Pw4CBgm"
      },
      "source": [
        "# Data 전처리"
      ]
    },
    {
      "cell_type": "code",
      "metadata": {
        "colab": {
          "base_uri": "https://localhost:8080/",
          "height": 283
        },
        "id": "W_D7Ww3K_Cxe",
        "outputId": "84c90283-e42a-4cee-d966-287b3991b273"
      },
      "source": [
        "plt.plot(bci['BCI'])"
      ],
      "execution_count": 19,
      "outputs": [
        {
          "output_type": "execute_result",
          "data": {
            "text/plain": [
              "[<matplotlib.lines.Line2D at 0x7f2a78589c50>]"
            ]
          },
          "metadata": {},
          "execution_count": 19
        },
        {
          "output_type": "display_data",
          "data": {
            "image/png": "[encoded data removed]",
            "text/plain": [
              "<Figure size 432x288 with 1 Axes>"
            ]
          },
          "metadata": {
            "needs_background": "light"
          }
        }
      ]
    },
    {
      "cell_type": "code",
      "metadata": {
        "colab": {
          "base_uri": "https://localhost:8080/",
          "height": 204
        },
        "id": "eGhxPzneAYGl",
        "outputId": "f70a9b45-8dae-4a98-8d3f-0aecb6aabfbf"
      },
      "source": [
        "bci=bci.iloc[3000:,]\n",
        "bci.head()"
      ],
      "execution_count": 35,
      "outputs": [
        {
          "output_type": "execute_result",
          "data": {
            "text/html": [
              "<div>\n",
              "<style scoped>\n",
              "    .dataframe tbody tr th:only-of-type {\n",
              "        vertical-align: middle;\n",
              "    }\n",
              "\n",
              "    .dataframe tbody tr th {\n",
              "        vertical-align: top;\n",
              "    }\n",
              "\n",
              "    .dataframe thead th {\n",
              "        text-align: right;\n",
              "    }\n",
              "</style>\n",
              "<table border=\"1\" class=\"dataframe\">\n",
              "  <thead>\n",
              "    <tr style=\"text-align: right;\">\n",
              "      <th></th>\n",
              "      <th>date</th>\n",
              "      <th>BCI</th>\n",
              "    </tr>\n",
              "  </thead>\n",
              "  <tbody>\n",
              "    <tr>\n",
              "      <th>3000</th>\n",
              "      <td>2011-Feb-25</td>\n",
              "      <td>1315</td>\n",
              "    </tr>\n",
              "    <tr>\n",
              "      <th>3001</th>\n",
              "      <td>2011-Feb-28</td>\n",
              "      <td>1310</td>\n",
              "    </tr>\n",
              "    <tr>\n",
              "      <th>3002</th>\n",
              "      <td>2011-Mar-01</td>\n",
              "      <td>1314</td>\n",
              "    </tr>\n",
              "    <tr>\n",
              "      <th>3003</th>\n",
              "      <td>2011-Mar-02</td>\n",
              "      <td>1337</td>\n",
              "    </tr>\n",
              "    <tr>\n",
              "      <th>3004</th>\n",
              "      <td>2011-Mar-03</td>\n",
              "      <td>1390</td>\n",
              "    </tr>\n",
              "  </tbody>\n",
              "</table>\n",
              "</div>"
            ],
            "text/plain": [
              "             date   BCI\n",
              "3000  2011-Feb-25  1315\n",
              "3001  2011-Feb-28  1310\n",
              "3002  2011-Mar-01  1314\n",
              "3003  2011-Mar-02  1337\n",
              "3004  2011-Mar-03  1390"
            ]
          },
          "metadata": {},
          "execution_count": 35
        }
      ]
    },
    {
      "cell_type": "code",
      "metadata": {
        "id": "5bgYSvULAcxM"
      },
      "source": [
        "scaler = MinMaxScaler()\n",
        "dt = bci.iloc[:,1:2]\n",
        "dt = scaler.fit_transform(dt)\n",
        "\n",
        "train_size = int(len(dt)*0.67)\n",
        "test_size = int(len(dt)-train_size)\n",
        "\n",
        "train = dt[0:train_size]\n",
        "test = dt[train_size:]"
      ],
      "execution_count": 37,
      "outputs": []
    },
    {
      "cell_type": "markdown",
      "metadata": {
        "id": "qo2KkjlbAubY"
      },
      "source": [
        "# ARIMA 모델"
      ]
    },
    {
      "cell_type": "code",
      "metadata": {
        "colab": {
          "base_uri": "https://localhost:8080/"
        },
        "id": "VJQd_LG4BO6B",
        "outputId": "fd65c145-5fb5-457c-8a7a-b2c5f0175457"
      },
      "source": [
        "!pip install pmdarima"
      ],
      "execution_count": 38,
      "outputs": [
        {
          "output_type": "stream",
          "name": "stdout",
          "text": [
            "Collecting pmdarima\n",
            "  Downloading pmdarima-1.8.4-cp37-cp37m-manylinux_2_17_x86_64.manylinux2014_x86_64.manylinux_2_24_x86_64.whl (1.4 MB)\n",
            "\u001b[K     |████████████████████████████████| 1.4 MB 5.2 MB/s \n",
            "\u001b[?25hRequirement already satisfied: joblib>=0.11 in /usr/local/lib/python3.7/dist-packages (from pmdarima) (1.1.0)\n",
            "Requirement already satisfied: Cython!=0.29.18,>=0.29 in /usr/local/lib/python3.7/dist-packages (from pmdarima) (0.29.24)\n",
            "Requirement already satisfied: urllib3 in /usr/local/lib/python3.7/dist-packages (from pmdarima) (1.24.3)\n",
            "Requirement already satisfied: setuptools!=50.0.0,>=38.6.0 in /usr/local/lib/python3.7/dist-packages (from pmdarima) (57.4.0)\n",
            "Requirement already satisfied: scikit-learn>=0.22 in /usr/local/lib/python3.7/dist-packages (from pmdarima) (1.0.1)\n",
            "Requirement already satisfied: scipy>=1.3.2 in /usr/local/lib/python3.7/dist-packages (from pmdarima) (1.4.1)\n",
            "Requirement already satisfied: pandas>=0.19 in /usr/local/lib/python3.7/dist-packages (from pmdarima) (1.1.5)\n",
            "Requirement already satisfied: numpy>=1.19.3 in /usr/local/lib/python3.7/dist-packages (from pmdarima) (1.19.5)\n",
            "Collecting statsmodels!=0.12.0,>=0.11\n",
            "  Downloading statsmodels-0.13.1-cp37-cp37m-manylinux_2_17_x86_64.manylinux2014_x86_64.whl (9.8 MB)\n",
            "\u001b[K     |████████████████████████████████| 9.8 MB 35.8 MB/s \n",
            "\u001b[?25hRequirement already satisfied: pytz>=2017.2 in /usr/local/lib/python3.7/dist-packages (from pandas>=0.19->pmdarima) (2018.9)\n",
            "Requirement already satisfied: python-dateutil>=2.7.3 in /usr/local/lib/python3.7/dist-packages (from pandas>=0.19->pmdarima) (2.8.2)\n",
            "Requirement already satisfied: six>=1.5 in /usr/local/lib/python3.7/dist-packages (from python-dateutil>=2.7.3->pandas>=0.19->pmdarima) (1.15.0)\n",
            "Requirement already satisfied: threadpoolctl>=2.0.0 in /usr/local/lib/python3.7/dist-packages (from scikit-learn>=0.22->pmdarima) (3.0.0)\n",
            "Requirement already satisfied: patsy>=0.5.2 in /usr/local/lib/python3.7/dist-packages (from statsmodels!=0.12.0,>=0.11->pmdarima) (0.5.2)\n",
            "Installing collected packages: statsmodels, pmdarima\n",
            "  Attempting uninstall: statsmodels\n",
            "    Found existing installation: statsmodels 0.10.2\n",
            "    Uninstalling statsmodels-0.10.2:\n",
            "      Successfully uninstalled statsmodels-0.10.2\n",
            "Successfully installed pmdarima-1.8.4 statsmodels-0.13.1\n"
          ]
        }
      ]
    },
    {
      "cell_type": "code",
      "metadata": {
        "colab": {
          "base_uri": "https://localhost:8080/"
        },
        "id": "k02SdMjaCE2b",
        "outputId": "3634def6-e64a-4dd9-ee5f-6b7e07f439ac"
      },
      "source": [
        "import pmdarima as pm\n",
        "model = pm.auto_arima(train,error_action = 'ignore',trace=1,suppress_warnings = True, seasonal=True)"
      ],
      "execution_count": 40,
      "outputs": [
        {
          "output_type": "stream",
          "name": "stdout",
          "text": [
            "Performing stepwise search to minimize aic\n",
            " ARIMA(2,1,2)(0,0,0)[0] intercept   : AIC=-3021.413, Time=0.38 sec\n",
            " ARIMA(0,1,0)(0,0,0)[0] intercept   : AIC=-2722.828, Time=0.16 sec\n",
            " ARIMA(1,1,0)(0,0,0)[0] intercept   : AIC=-3011.580, Time=0.26 sec\n",
            " ARIMA(0,1,1)(0,0,0)[0] intercept   : AIC=-2957.453, Time=0.27 sec\n",
            " ARIMA(0,1,0)(0,0,0)[0]             : AIC=-2724.826, Time=0.07 sec\n",
            " ARIMA(1,1,2)(0,0,0)[0] intercept   : AIC=-3024.430, Time=0.38 sec\n",
            " ARIMA(0,1,2)(0,0,0)[0] intercept   : AIC=-3020.562, Time=0.43 sec\n",
            " ARIMA(1,1,1)(0,0,0)[0] intercept   : AIC=-3022.960, Time=0.48 sec\n",
            " ARIMA(1,1,3)(0,0,0)[0] intercept   : AIC=-3024.384, Time=0.27 sec\n",
            " ARIMA(0,1,3)(0,0,0)[0] intercept   : AIC=-3023.983, Time=0.82 sec\n",
            " ARIMA(2,1,1)(0,0,0)[0] intercept   : AIC=-3022.688, Time=0.16 sec\n",
            " ARIMA(2,1,3)(0,0,0)[0] intercept   : AIC=-3020.984, Time=1.36 sec\n",
            " ARIMA(1,1,2)(0,0,0)[0]             : AIC=-3026.295, Time=0.12 sec\n",
            " ARIMA(0,1,2)(0,0,0)[0]             : AIC=-3022.590, Time=0.19 sec\n",
            " ARIMA(1,1,1)(0,0,0)[0]             : AIC=-3024.959, Time=0.17 sec\n",
            " ARIMA(2,1,2)(0,0,0)[0]             : AIC=-3023.386, Time=0.15 sec\n",
            " ARIMA(1,1,3)(0,0,0)[0]             : AIC=-3026.388, Time=0.10 sec\n",
            " ARIMA(0,1,3)(0,0,0)[0]             : AIC=-3025.982, Time=0.25 sec\n",
            " ARIMA(2,1,3)(0,0,0)[0]             : AIC=-3022.973, Time=0.47 sec\n",
            " ARIMA(1,1,4)(0,0,0)[0]             : AIC=-3025.267, Time=0.36 sec\n",
            " ARIMA(0,1,4)(0,0,0)[0]             : AIC=-3024.206, Time=0.25 sec\n",
            " ARIMA(2,1,4)(0,0,0)[0]             : AIC=-3023.250, Time=0.40 sec\n",
            "\n",
            "Best model:  ARIMA(1,1,3)(0,0,0)[0]          \n",
            "Total fit time: 7.561 seconds\n"
          ]
        }
      ]
    },
    {
      "cell_type": "code",
      "metadata": {
        "id": "5ZtQAiUUCVVW"
      },
      "source": [
        "n_periods = len(test)\n",
        "pred,confint = model.predict(n_periods = n_periods, return_conf_int=True)"
      ],
      "execution_count": 41,
      "outputs": []
    },
    {
      "cell_type": "code",
      "metadata": {
        "colab": {
          "base_uri": "https://localhost:8080/",
          "height": 294
        },
        "id": "rqb-OXKxCeMY",
        "outputId": "c47b430f-49bf-47bf-92b5-e4a977ed8173"
      },
      "source": [
        "#예측을 진짜 겁나 진짜 못 함\n",
        "pred = pd.concat([pd.DataFrame(train),pd.DataFrame(pred)])\n",
        "real = pd.concat([pd.DataFrame(train),pd.DataFrame(test)])\n",
        "data_predict = pred.values\n",
        "data_predict = scaler.inverse_transform(data_predict)\n",
        "real = scaler.inverse_transform(real.values)\n",
        "\n",
        "plt.axvline(x=train_size, c='r', linestyle='--')\n",
        "\n",
        "plt.plot(real)\n",
        "plt.plot(data_predict)\n",
        "plt.suptitle('Time-Series Prediction')\n",
        "plt.show()"
      ],
      "execution_count": 44,
      "outputs": [
        {
          "output_type": "display_data",
          "data": {
            "image/png": "[encoded data removed]",
            "text/plain": [
              "<Figure size 432x288 with 1 Axes>"
            ]
          },
          "metadata": {
            "needs_background": "light"
          }
        }
      ]
    },
    {
      "cell_type": "markdown",
      "metadata": {
        "id": "VTRS2E5oCrsT"
      },
      "source": [
        "#lstm"
      ]
    },
    {
      "cell_type": "code",
      "metadata": {
        "id": "D5q0BaJ5CyDX"
      },
      "source": [
        "import torch\n",
        "import torch.nn as nn\n",
        "from torch.autograd import Variable"
      ],
      "execution_count": 47,
      "outputs": []
    },
    {
      "cell_type": "code",
      "metadata": {
        "id": "iIvY9Fb-CrND"
      },
      "source": [
        "#window를 설정해주는 함수 여기선 seq_length만큼 이전 data를 이용\n",
        "def sliding_windows(data,seq_length):\n",
        "  x = []\n",
        "  y = []\n",
        "  for i in range(len(data)-seq_length-1):\n",
        "    _x = data[i:(i+seq_length)]\n",
        "    _y = data[i+seq_length]\n",
        "    x.append(_x)\n",
        "    y.append(_y)\n",
        "\n",
        "  return np.array(x),np.array(y)"
      ],
      "execution_count": 45,
      "outputs": []
    },
    {
      "cell_type": "code",
      "metadata": {
        "id": "X9VOAp-2Cuyb"
      },
      "source": [
        "class LSTM(nn.Module):\n",
        "\n",
        "    def __init__(self, output, input_size, hidden_size, num_layers):\n",
        "        super(LSTM, self).__init__()\n",
        "        \n",
        "        self.output = output\n",
        "        self.num_layers = num_layers#lstm의 층 개수\n",
        "        self.input_size = input_size#sliding된 window size를 넣음\n",
        "        self.hidden_size = hidden_size#hidden dimensiong을 얼마나 가져 갈 것 인가\n",
        "        self.seq_length = seq_length\n",
        "        \n",
        "        self.lstm = nn.LSTM(input_size=input_size, hidden_size=hidden_size,\n",
        "                            num_layers=num_layers, batch_first=True)\n",
        "        \n",
        "        self.fc = nn.Linear(hidden_size, output)\n",
        "\n",
        "    def forward(self, x):\n",
        "        h_0 = Variable(torch.zeros(\n",
        "            self.num_layers, x.size(0), self.hidden_size))\n",
        "        \n",
        "        c_0 = Variable(torch.zeros(\n",
        "            self.num_layers, x.size(0), self.hidden_size))\n",
        "        \n",
        "        # Propagate input through LSTM\n",
        "        ula, (h_out, _) = self.lstm(x, (h_0, c_0))\n",
        "        \n",
        "        h_out = h_out.view(-1, self.hidden_size)\n",
        "        \n",
        "        out = self.fc(h_out)\n",
        "        \n",
        "        return out"
      ],
      "execution_count": 48,
      "outputs": []
    },
    {
      "cell_type": "code",
      "metadata": {
        "id": "Ax_xAphtC6nr"
      },
      "source": [
        "seq_length = 90#해운운임지수가 3개월 별로 변하기에 90으로 설정\n",
        "x, y = sliding_windows(dt, seq_length)\n",
        "\n",
        "train_size = int(len(y) * 0.67)\n",
        "test_size = len(y) - train_size\n",
        "\n",
        "dataX = Variable(torch.Tensor(np.array(x)))\n",
        "dataY = Variable(torch.Tensor(np.array(y)))\n",
        "\n",
        "trainX = Variable(torch.Tensor(np.array(x[0:train_size])))\n",
        "trainY = Variable(torch.Tensor(np.array(y[0:train_size])))\n",
        "\n",
        "testX = Variable(torch.Tensor(np.array(x[train_size:len(x)])))\n",
        "testY = Variable(torch.Tensor(np.array(y[train_size:len(y)])))"
      ],
      "execution_count": 49,
      "outputs": []
    },
    {
      "cell_type": "code",
      "metadata": {
        "colab": {
          "base_uri": "https://localhost:8080/"
        },
        "id": "KBjPlDf7DCtQ",
        "outputId": "916338b0-bc8a-4622-e7e3-136e84c6cd35"
      },
      "source": [
        "num_epochs = 2000\n",
        "learning_rate = 0.01\n",
        "\n",
        "input_size = 1\n",
        "hidden_size = 2\n",
        "num_layers = 1\n",
        "output = 1\n",
        "\n",
        "lstm = LSTM(output, input_size, hidden_size, num_layers)\n",
        "\n",
        "criterion = torch.nn.MSELoss()    # mean-squared error for regression\n",
        "optimizer = torch.optim.Adam(lstm.parameters(), lr=learning_rate)\n",
        "\n",
        "# Train the model\n",
        "for epoch in range(num_epochs):\n",
        "    outputs = lstm(trainX)\n",
        "    optimizer.zero_grad()\n",
        "    \n",
        "    # obtain the loss function\n",
        "    loss = criterion(outputs, trainY)\n",
        "    \n",
        "    loss.backward()\n",
        "    \n",
        "    optimizer.step()\n",
        "    if epoch % 100 == 0:\n",
        "      print(\"Epoch: %d, loss: %1.5f\" % (epoch, loss.item()))"
      ],
      "execution_count": 50,
      "outputs": [
        {
          "output_type": "stream",
          "name": "stdout",
          "text": [
            "Epoch: 0, loss: 0.90160\n",
            "Epoch: 100, loss: 0.02253\n",
            "Epoch: 200, loss: 0.00199\n",
            "Epoch: 300, loss: 0.00153\n",
            "Epoch: 400, loss: 0.00130\n",
            "Epoch: 500, loss: 0.00107\n",
            "Epoch: 600, loss: 0.00085\n",
            "Epoch: 700, loss: 0.00068\n",
            "Epoch: 800, loss: 0.00058\n",
            "Epoch: 900, loss: 0.00052\n",
            "Epoch: 1000, loss: 0.00049\n",
            "Epoch: 1100, loss: 0.00045\n",
            "Epoch: 1200, loss: 0.00043\n",
            "Epoch: 1300, loss: 0.00040\n",
            "Epoch: 1400, loss: 0.00038\n",
            "Epoch: 1500, loss: 0.00036\n",
            "Epoch: 1600, loss: 0.00034\n",
            "Epoch: 1700, loss: 0.00033\n",
            "Epoch: 1800, loss: 0.00031\n",
            "Epoch: 1900, loss: 0.00030\n"
          ]
        }
      ]
    },
    {
      "cell_type": "code",
      "metadata": {
        "colab": {
          "base_uri": "https://localhost:8080/",
          "height": 294
        },
        "id": "epq0MiAVDEV-",
        "outputId": "52fcdae1-b42d-422e-921f-a00ae71c49fa"
      },
      "source": [
        "lstm.eval()\n",
        "train_predict = lstm(dataX)\n",
        "\n",
        "data_predict = train_predict.data.numpy()\n",
        "dataY_plot = dataY.data.numpy()\n",
        "\n",
        "data_predict = scaler.inverse_transform(data_predict)\n",
        "dataY_plot = scaler.inverse_transform(dataY_plot)\n",
        "\n",
        "plt.axvline(x=train_size, c='r', linestyle='--')\n",
        "\n",
        "plt.plot(dataY_plot)\n",
        "plt.plot(data_predict)\n",
        "plt.suptitle('Time-Series Prediction')\n",
        "plt.show()"
      ],
      "execution_count": 52,
      "outputs": [
        {
          "output_type": "display_data",
          "data": {
            "image/png": "[encoded data removed]",
            "text/plain": [
              "<Figure size 432x288 with 1 Axes>"
            ]
          },
          "metadata": {
            "needs_background": "light"
          }
        }
      ]
    }
  ]
}