{
  "nbformat": 4,
  "nbformat_minor": 0,
  "metadata": {
    "colab": {
      "name": "201711514 박주호 과제2.ipynb",
      "provenance": []
    },
    "kernelspec": {
      "name": "python3",
      "display_name": "Python 3"
    },
    "language_info": {
      "name": "python"
    }
  },
  "cells": [
    {
      "cell_type": "code",
      "metadata": {
        "id": "R1iDepqlhaJX"
      },
      "source": [
        "import numpy as np"
      ],
      "execution_count": 1,
      "outputs": []
    },
    {
      "cell_type": "code",
      "metadata": {
        "id": "g8Q33FGnh8PO"
      },
      "source": [
        "arr1 = np.array(np.random.rand(10)).reshape([-1,1])\n",
        "arr2 = np.array(np.random.randn(10)).reshape([-1,1])"
      ],
      "execution_count": 14,
      "outputs": []
    },
    {
      "cell_type": "code",
      "metadata": {
        "colab": {
          "base_uri": "https://localhost:8080/"
        },
        "id": "5PaBLGCjikjm",
        "outputId": "b608b0ef-0b48-4cb9-dc03-27817b92ed78"
      },
      "source": [
        "arr3=np.concatenate((arr1,arr2),axis=1)\n",
        "arr3.shape"
      ],
      "execution_count": 15,
      "outputs": [
        {
          "output_type": "execute_result",
          "data": {
            "text/plain": [
              "(10, 2)"
            ]
          },
          "metadata": {},
          "execution_count": 15
        }
      ]
    },
    {
      "cell_type": "code",
      "metadata": {
        "colab": {
          "base_uri": "https://localhost:8080/"
        },
        "id": "IGKeAGpZjEpT",
        "outputId": "85a50c49-28f6-42b9-809c-97aa4809b5f9"
      },
      "source": [
        "print(arr3.mean(axis=0))\n",
        "print(arr3.std(axis=0))"
      ],
      "execution_count": 16,
      "outputs": [
        {
          "output_type": "stream",
          "name": "stdout",
          "text": [
            "[ 0.53420581 -0.3768765 ]\n",
            "[0.22372028 1.11882571]\n"
          ]
        }
      ]
    }
  ]
}