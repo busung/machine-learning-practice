{
  "nbformat": 4,
  "nbformat_minor": 0,
  "metadata": {
    "colab": {
      "name": "201711514박주호 과제3(산데입).ipynb",
      "provenance": [],
      "collapsed_sections": []
    },
    "kernelspec": {
      "name": "python3",
      "display_name": "Python 3"
    },
    "language_info": {
      "name": "python"
    }
  },
  "cells": [
    {
      "cell_type": "code",
      "metadata": {
        "id": "jD-Fo6qt7_0a"
      },
      "source": [
        "import pandas as pd\n",
        "import numpy as np\n",
        "import seaborn as sns\n",
        "import matplotlib.pyplot as plt\n",
        "import scipy"
      ],
      "execution_count": null,
      "outputs": []
    },
    {
      "cell_type": "code",
      "metadata": {
        "colab": {
          "base_uri": "https://localhost:8080/"
        },
        "id": "Uo_vkuDI8WfJ",
        "outputId": "bd54f69f-7917-466b-a733-751780c9b7a5"
      },
      "source": [
        "from google.colab import drive\n",
        "drive.mount('/content/drive')"
      ],
      "execution_count": null,
      "outputs": [
        {
          "output_type": "stream",
          "name": "stdout",
          "text": [
            "Mounted at /content/drive\n"
          ]
        }
      ]
    },
    {
      "cell_type": "code",
      "metadata": {
        "colab": {
          "base_uri": "https://localhost:8080/",
          "height": 206
        },
        "id": "G-uwLOnT8dK2",
        "outputId": "56b687d8-8853-4488-ac7c-d98945861535"
      },
      "source": [
        "import os\n",
        "data_path = \"/content/drive/MyDrive/산데과\"\n",
        "data_list = os.listdir(data_path)\n",
        "iris = pd.read_csv(data_path +\"/\"+data_list[0])\n",
        "iris.head()"
      ],
      "execution_count": null,
      "outputs": [
        {
          "output_type": "execute_result",
          "data": {
            "text/html": [
              "<div>\n",
              "<style scoped>\n",
              "    .dataframe tbody tr th:only-of-type {\n",
              "        vertical-align: middle;\n",
              "    }\n",
              "\n",
              "    .dataframe tbody tr th {\n",
              "        vertical-align: top;\n",
              "    }\n",
              "\n",
              "    .dataframe thead th {\n",
              "        text-align: right;\n",
              "    }\n",
              "</style>\n",
              "<table border=\"1\" class=\"dataframe\">\n",
              "  <thead>\n",
              "    <tr style=\"text-align: right;\">\n",
              "      <th></th>\n",
              "      <th>Id</th>\n",
              "      <th>SepalLengthCm</th>\n",
              "      <th>SepalWidthCm</th>\n",
              "      <th>PetalLengthCm</th>\n",
              "      <th>PetalWidthCm</th>\n",
              "      <th>Species</th>\n",
              "    </tr>\n",
              "  </thead>\n",
              "  <tbody>\n",
              "    <tr>\n",
              "      <th>0</th>\n",
              "      <td>1</td>\n",
              "      <td>5.1</td>\n",
              "      <td>3.5</td>\n",
              "      <td>1.4</td>\n",
              "      <td>0.2</td>\n",
              "      <td>Iris-setosa</td>\n",
              "    </tr>\n",
              "    <tr>\n",
              "      <th>1</th>\n",
              "      <td>2</td>\n",
              "      <td>4.9</td>\n",
              "      <td>3.0</td>\n",
              "      <td>1.4</td>\n",
              "      <td>0.2</td>\n",
              "      <td>Iris-setosa</td>\n",
              "    </tr>\n",
              "    <tr>\n",
              "      <th>2</th>\n",
              "      <td>3</td>\n",
              "      <td>4.7</td>\n",
              "      <td>3.2</td>\n",
              "      <td>1.3</td>\n",
              "      <td>0.2</td>\n",
              "      <td>Iris-setosa</td>\n",
              "    </tr>\n",
              "    <tr>\n",
              "      <th>3</th>\n",
              "      <td>4</td>\n",
              "      <td>4.6</td>\n",
              "      <td>3.1</td>\n",
              "      <td>1.5</td>\n",
              "      <td>0.2</td>\n",
              "      <td>Iris-setosa</td>\n",
              "    </tr>\n",
              "    <tr>\n",
              "      <th>4</th>\n",
              "      <td>5</td>\n",
              "      <td>5.0</td>\n",
              "      <td>3.6</td>\n",
              "      <td>1.4</td>\n",
              "      <td>0.2</td>\n",
              "      <td>Iris-setosa</td>\n",
              "    </tr>\n",
              "  </tbody>\n",
              "</table>\n",
              "</div>"
            ],
            "text/plain": [
              "   Id  SepalLengthCm  SepalWidthCm  PetalLengthCm  PetalWidthCm      Species\n",
              "0   1            5.1           3.5            1.4           0.2  Iris-setosa\n",
              "1   2            4.9           3.0            1.4           0.2  Iris-setosa\n",
              "2   3            4.7           3.2            1.3           0.2  Iris-setosa\n",
              "3   4            4.6           3.1            1.5           0.2  Iris-setosa\n",
              "4   5            5.0           3.6            1.4           0.2  Iris-setosa"
            ]
          },
          "metadata": {},
          "execution_count": 6
        }
      ]
    },
    {
      "cell_type": "code",
      "metadata": {
        "id": "dlam4VyF81oz"
      },
      "source": [
        "species = iris['Species'].value_counts().index\n",
        "seto = iris[iris['Species']==species[0]]\n",
        "vir = iris[iris['Species']==species[1]]\n",
        "ver = iris[iris['Species']==species[2]]"
      ],
      "execution_count": null,
      "outputs": []
    },
    {
      "cell_type": "markdown",
      "metadata": {
        "id": "1RdtWXjr-yQP"
      },
      "source": [
        "# boxplot"
      ]
    },
    {
      "cell_type": "code",
      "metadata": {
        "colab": {
          "base_uri": "https://localhost:8080/",
          "height": 265
        },
        "id": "0F7InFlp-Bun",
        "outputId": "2107895f-053e-4733-f348-c1fde9f31cab"
      },
      "source": [
        "data = [seto,vir,ver]\n",
        "data_sepal=[]\n",
        "for i in data:\n",
        "  data_sepal.append(i['SepalLengthCm'])\n",
        "\n",
        "plt.boxplot(data_sepal)\n",
        "plt.show()"
      ],
      "execution_count": null,
      "outputs": [
        {
          "output_type": "display_data",
          "data": {
            "image/png": "[encoded data removed]",
            "text/plain": [
              "<Figure size 432x288 with 1 Axes>"
            ]
          },
          "metadata": {
            "needs_background": "light"
          }
        }
      ]
    },
    {
      "cell_type": "markdown",
      "metadata": {
        "id": "25rPXFil-0c4"
      },
      "source": [
        "# t-test"
      ]
    },
    {
      "cell_type": "code",
      "metadata": {
        "colab": {
          "base_uri": "https://localhost:8080/"
        },
        "id": "WaQeNI7M-s1R",
        "outputId": "1d6f41bd-87cc-4130-d816-261d50c77a11"
      },
      "source": [
        "for i in range(3):\n",
        "  if i==2:\n",
        "    a=0\n",
        "  else:\n",
        "    a=i+1\n",
        "  statistic,p_value = scipy.stats.ttest_ind(data_sepal[i],data_sepal[a])\n",
        "  if p_value < 0.05:\n",
        "    print(\"p_value:{} 가설기각:{}\".format(p_value,p_value<0.05))\n",
        "    print(\"가설이 기각되었으므로 {}와{}는 유의미한 차이가 있다\".format(species[i],species[a]))\n",
        "  else:\n",
        "    print(\"p_value:{} 가설기각:{}\".format(p_value,p_value<0.05))\n",
        "    print(\"가설이 기각되지 않았으므로 {}와{}는 유의미한 차이가 없다\".format(species[i],species[a]))\n",
        "    "
      ],
      "execution_count": null,
      "outputs": [
        {
          "output_type": "stream",
          "name": "stdout",
          "text": [
            "p_value:6.892546060674059e-28 가설기각:True\n",
            "가설이 기각되었으므로 Iris-setosa와Iris-virginica는 유의미한 차이가 있다\n",
            "p_value:1.7248563024547942e-07 가설기각:True\n",
            "가설이 기각되었으므로 Iris-virginica와Iris-versicolor는 유의미한 차이가 있다\n",
            "p_value:8.985235037487079e-18 가설기각:True\n",
            "가설이 기각되었으므로 Iris-versicolor와Iris-setosa는 유의미한 차이가 있다\n"
          ]
        }
      ]
    },
    {
      "cell_type": "markdown",
      "metadata": {
        "id": "hwB41k5BBXGv"
      },
      "source": [
        "# scatter plot"
      ]
    },
    {
      "cell_type": "code",
      "metadata": {
        "colab": {
          "base_uri": "https://localhost:8080/",
          "height": 268
        },
        "id": "tlKM1SWABWQf",
        "outputId": "714d0064-5ceb-45bf-b92c-d8e980879f25"
      },
      "source": [
        "data = []\n",
        "labels = []\n",
        "species = list(iris[\"Species\"].value_counts().index)\n",
        "\n",
        "for i in species:\n",
        "  data.append(iris[iris[\"Species\"]==i])\n",
        "  labels.append(i)\n",
        "\n",
        "color = [\"pink\",\"yellow\",\"skyblue\"]\n",
        "edgecolor = [\"green\",\"red\",\"blue\"]\n",
        "marker = [\"<\",\">\",\"s\"]\n",
        "a=0\n",
        "\n",
        "for i in data:\n",
        "  plt.scatter(i[\"SepalLengthCm\"],i[\"SepalWidthCm\"],marker=marker[a],c=color[a],edgecolor=edgecolor[a],s=50)\n",
        "  a+=1\n",
        "\n",
        "plt.legend(labels)\n",
        "plt.show()"
      ],
      "execution_count": null,
      "outputs": [
        {
          "output_type": "display_data",
          "data": {
            "image/png": "[encoded data removed]",
            "text/plain": [
              "<Figure size 432x288 with 1 Axes>"
            ]
          },
          "metadata": {
            "needs_background": "light"
          }
        }
      ]
    }
  ]
}