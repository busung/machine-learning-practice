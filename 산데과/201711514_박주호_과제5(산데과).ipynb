{
  "nbformat": 4,
  "nbformat_minor": 0,
  "metadata": {
    "colab": {
      "name": "201711514박주호 과제5(산데입).ipynb",
      "provenance": []
    },
    "kernelspec": {
      "name": "python3",
      "display_name": "Python 3"
    },
    "language_info": {
      "name": "python"
    }
  },
  "cells": [
    {
      "cell_type": "code",
      "metadata": {
        "id": "6-0iAjs8jCNN"
      },
      "source": [
        "import os\n",
        "import pandas as pd\n",
        "import numpy as np\n",
        "import matplotlib.pyplot as plt\n",
        "import scipy.stats as st\n",
        "from sklearn.metrics import mean_squared_error\n",
        "import sklearn.preprocessing\n",
        "from sklearn.model_selection import train_test_split\n",
        "from sklearn.linear_model import LinearRegression"
      ],
      "execution_count": 633,
      "outputs": []
    },
    {
      "cell_type": "code",
      "metadata": {
        "colab": {
          "base_uri": "https://localhost:8080/"
        },
        "id": "G_8S9tZdjEg5",
        "outputId": "c4556a26-16ac-4860-aba9-739a660851d2"
      },
      "source": [
        "from google.colab import drive\n",
        "drive.mount('/content/gdriv')"
      ],
      "execution_count": 634,
      "outputs": [
        {
          "output_type": "stream",
          "name": "stdout",
          "text": [
            "Drive already mounted at /content/gdriv; to attempt to forcibly remount, call drive.mount(\"/content/gdriv\", force_remount=True).\n"
          ]
        }
      ]
    },
    {
      "cell_type": "code",
      "metadata": {
        "colab": {
          "base_uri": "https://localhost:8080/",
          "height": 243
        },
        "id": "EzeKDlu1jQGK",
        "outputId": "908af277-e4db-4110-98e4-4870be5fa55d"
      },
      "source": [
        "data_path = \"/content/gdriv/MyDrive/산데과\"\n",
        "data_list = os.listdir(data_path)\n",
        "train_car = pd.read_csv(data_path + '/' + data_list[1])\n",
        "my_car = pd.read_csv(data_path + '/' + data_list[2])\n",
        "my_car.head()"
      ],
      "execution_count": 635,
      "outputs": [
        {
          "output_type": "execute_result",
          "data": {
            "text/html": [
              "<div>\n",
              "<style scoped>\n",
              "    .dataframe tbody tr th:only-of-type {\n",
              "        vertical-align: middle;\n",
              "    }\n",
              "\n",
              "    .dataframe tbody tr th {\n",
              "        vertical-align: top;\n",
              "    }\n",
              "\n",
              "    .dataframe thead th {\n",
              "        text-align: right;\n",
              "    }\n",
              "</style>\n",
              "<table border=\"1\" class=\"dataframe\">\n",
              "  <thead>\n",
              "    <tr style=\"text-align: right;\">\n",
              "      <th></th>\n",
              "      <th>Year</th>\n",
              "      <th>Kilometers_Driven</th>\n",
              "      <th>Fuel_Type</th>\n",
              "      <th>Owner_Type</th>\n",
              "      <th>Mileage</th>\n",
              "      <th>Engine</th>\n",
              "      <th>Power</th>\n",
              "      <th>Seats</th>\n",
              "      <th>New_Price</th>\n",
              "      <th>Maker</th>\n",
              "    </tr>\n",
              "  </thead>\n",
              "  <tbody>\n",
              "    <tr>\n",
              "      <th>0</th>\n",
              "      <td>2013</td>\n",
              "      <td>85000</td>\n",
              "      <td>Diesel</td>\n",
              "      <td>First</td>\n",
              "      <td>17.68</td>\n",
              "      <td>1968</td>\n",
              "      <td>174.33</td>\n",
              "      <td>5</td>\n",
              "      <td>NaN</td>\n",
              "      <td>Audi</td>\n",
              "    </tr>\n",
              "    <tr>\n",
              "      <th>1</th>\n",
              "      <td>2017</td>\n",
              "      <td>27000</td>\n",
              "      <td>Petrol</td>\n",
              "      <td>First</td>\n",
              "      <td>21.40</td>\n",
              "      <td>1197</td>\n",
              "      <td>83.10</td>\n",
              "      <td>5</td>\n",
              "      <td>NaN</td>\n",
              "      <td>Maruti</td>\n",
              "    </tr>\n",
              "    <tr>\n",
              "      <th>2</th>\n",
              "      <td>2016</td>\n",
              "      <td>45794</td>\n",
              "      <td>Diesel</td>\n",
              "      <td>First</td>\n",
              "      <td>13.01</td>\n",
              "      <td>2199</td>\n",
              "      <td>194.30</td>\n",
              "      <td>7</td>\n",
              "      <td>NaN</td>\n",
              "      <td>Hyundai</td>\n",
              "    </tr>\n",
              "    <tr>\n",
              "      <th>3</th>\n",
              "      <td>2013</td>\n",
              "      <td>57352</td>\n",
              "      <td>Diesel</td>\n",
              "      <td>First</td>\n",
              "      <td>14.39</td>\n",
              "      <td>1998</td>\n",
              "      <td>163.70</td>\n",
              "      <td>5</td>\n",
              "      <td>NaN</td>\n",
              "      <td>Chevrolet</td>\n",
              "    </tr>\n",
              "    <tr>\n",
              "      <th>4</th>\n",
              "      <td>2018</td>\n",
              "      <td>41467</td>\n",
              "      <td>Diesel</td>\n",
              "      <td>First</td>\n",
              "      <td>15.00</td>\n",
              "      <td>2143</td>\n",
              "      <td>204.00</td>\n",
              "      <td>5</td>\n",
              "      <td>NaN</td>\n",
              "      <td>Mercedes-Benz</td>\n",
              "    </tr>\n",
              "  </tbody>\n",
              "</table>\n",
              "</div>"
            ],
            "text/plain": [
              "   Year  Kilometers_Driven Fuel_Type  ... Seats  New_Price          Maker\n",
              "0  2013              85000    Diesel  ...     5        NaN           Audi\n",
              "1  2017              27000    Petrol  ...     5        NaN         Maruti\n",
              "2  2016              45794    Diesel  ...     7        NaN        Hyundai\n",
              "3  2013              57352    Diesel  ...     5        NaN      Chevrolet\n",
              "4  2018              41467    Diesel  ...     5        NaN  Mercedes-Benz\n",
              "\n",
              "[5 rows x 10 columns]"
            ]
          },
          "metadata": {},
          "execution_count": 635
        }
      ]
    },
    {
      "cell_type": "code",
      "metadata": {
        "colab": {
          "base_uri": "https://localhost:8080/"
        },
        "id": "fjjbjT7HDuWc",
        "outputId": "e11b0fbe-06f4-434b-c32b-7d4cb4fda7fc"
      },
      "source": [
        "my_car['Maker'].value_counts().index"
      ],
      "execution_count": 636,
      "outputs": [
        {
          "output_type": "execute_result",
          "data": {
            "text/plain": [
              "Index(['Maruti', 'Hyundai', 'Toyota', 'Mercedes-Benz', 'Ford', 'Honda',\n",
              "       'Renault', 'Volkswagen', 'Tata', 'Mahindra', 'Skoda', 'Audi', 'Nissan',\n",
              "       'BMW', 'Chevrolet', 'Jaguar', 'Lamborghini', 'ISUZU', 'Volvo',\n",
              "       'Mitsubishi'],\n",
              "      dtype='object')"
            ]
          },
          "metadata": {},
          "execution_count": 636
        }
      ]
    },
    {
      "cell_type": "code",
      "metadata": {
        "colab": {
          "base_uri": "https://localhost:8080/"
        },
        "id": "BncWMnc4BpnA",
        "outputId": "85f89236-8b41-47da-8239-6bb66358f7c4"
      },
      "source": [
        "train_car.info()"
      ],
      "execution_count": 637,
      "outputs": [
        {
          "output_type": "stream",
          "name": "stdout",
          "text": [
            "<class 'pandas.core.frame.DataFrame'>\n",
            "RangeIndex: 5558 entries, 0 to 5557\n",
            "Data columns (total 11 columns):\n",
            " #   Column             Non-Null Count  Dtype  \n",
            "---  ------             --------------  -----  \n",
            " 0   Year               5558 non-null   int64  \n",
            " 1   Kilometers_Driven  5558 non-null   int64  \n",
            " 2   Fuel_Type          5558 non-null   object \n",
            " 3   Owner_Type         5558 non-null   object \n",
            " 4   Mileage            5558 non-null   float64\n",
            " 5   Engine             5558 non-null   int64  \n",
            " 6   Power              5558 non-null   float64\n",
            " 7   Seats              5556 non-null   float64\n",
            " 8   New_Price          773 non-null    object \n",
            " 9   Maker              5558 non-null   object \n",
            " 10  Price              5558 non-null   float64\n",
            "dtypes: float64(4), int64(3), object(4)\n",
            "memory usage: 477.8+ KB\n"
          ]
        }
      ]
    },
    {
      "cell_type": "code",
      "metadata": {
        "colab": {
          "base_uri": "https://localhost:8080/"
        },
        "id": "CpUQLc5Fjifa",
        "outputId": "bffd1a6a-9a51-4f64-e79c-5e47f22ca672"
      },
      "source": [
        "my_car.info() "
      ],
      "execution_count": 638,
      "outputs": [
        {
          "output_type": "stream",
          "name": "stdout",
          "text": [
            "<class 'pandas.core.frame.DataFrame'>\n",
            "RangeIndex: 250 entries, 0 to 249\n",
            "Data columns (total 10 columns):\n",
            " #   Column             Non-Null Count  Dtype  \n",
            "---  ------             --------------  -----  \n",
            " 0   Year               250 non-null    int64  \n",
            " 1   Kilometers_Driven  250 non-null    int64  \n",
            " 2   Fuel_Type          250 non-null    object \n",
            " 3   Owner_Type         250 non-null    object \n",
            " 4   Mileage            250 non-null    float64\n",
            " 5   Engine             250 non-null    int64  \n",
            " 6   Power              250 non-null    float64\n",
            " 7   Seats              250 non-null    int64  \n",
            " 8   New_Price          41 non-null     float64\n",
            " 9   Maker              250 non-null    object \n",
            "dtypes: float64(3), int64(4), object(3)\n",
            "memory usage: 19.7+ KB\n"
          ]
        }
      ]
    },
    {
      "cell_type": "markdown",
      "metadata": {
        "id": "rULTcgJUl4vq"
      },
      "source": [
        "# 데이터 전처리"
      ]
    },
    {
      "cell_type": "code",
      "metadata": {
        "id": "gIlk_mQIj3lu"
      },
      "source": [
        "my_car = my_car.drop('New_Price',axis=1)#250개의 행 중 New_Price는 41개만 값이 있으므로 제거함"
      ],
      "execution_count": 639,
      "outputs": []
    },
    {
      "cell_type": "code",
      "metadata": {
        "colab": {
          "base_uri": "https://localhost:8080/"
        },
        "id": "Pfrx-xPDj7a8",
        "outputId": "2bc5fb12-7b32-4dea-ed4a-c92281c92b9d"
      },
      "source": [
        "my_car.info()"
      ],
      "execution_count": 640,
      "outputs": [
        {
          "output_type": "stream",
          "name": "stdout",
          "text": [
            "<class 'pandas.core.frame.DataFrame'>\n",
            "RangeIndex: 250 entries, 0 to 249\n",
            "Data columns (total 9 columns):\n",
            " #   Column             Non-Null Count  Dtype  \n",
            "---  ------             --------------  -----  \n",
            " 0   Year               250 non-null    int64  \n",
            " 1   Kilometers_Driven  250 non-null    int64  \n",
            " 2   Fuel_Type          250 non-null    object \n",
            " 3   Owner_Type         250 non-null    object \n",
            " 4   Mileage            250 non-null    float64\n",
            " 5   Engine             250 non-null    int64  \n",
            " 6   Power              250 non-null    float64\n",
            " 7   Seats              250 non-null    int64  \n",
            " 8   Maker              250 non-null    object \n",
            "dtypes: float64(2), int64(4), object(3)\n",
            "memory usage: 17.7+ KB\n"
          ]
        }
      ]
    },
    {
      "cell_type": "code",
      "metadata": {
        "id": "9aSSJLKkkIup"
      },
      "source": [
        "#연속형 데이터끼리의 상관 분석\n",
        "col =['Mileage','Engine', 'Power','Kilometers_Driven']"
      ],
      "execution_count": 641,
      "outputs": []
    },
    {
      "cell_type": "markdown",
      "metadata": {
        "id": "SmJdgQoNl6x-"
      },
      "source": [
        "## 변수 선택"
      ]
    },
    {
      "cell_type": "code",
      "metadata": {
        "colab": {
          "base_uri": "https://localhost:8080/",
          "height": 175
        },
        "id": "BwganNhYknQ2",
        "outputId": "5f54369f-0022-4f44-b504-ca15bc3f31b3"
      },
      "source": [
        "#power와 engine은 높은 상관관계를 보임\n",
        "#사람들은 차를 구매 할 때 Power 즉 마력을 주로 보므로 engine은 제외하고 Power만 사용\n",
        "corr =my_car[col].corr(method='pearson')\n",
        "corr"
      ],
      "execution_count": 642,
      "outputs": [
        {
          "output_type": "execute_result",
          "data": {
            "text/html": [
              "<div>\n",
              "<style scoped>\n",
              "    .dataframe tbody tr th:only-of-type {\n",
              "        vertical-align: middle;\n",
              "    }\n",
              "\n",
              "    .dataframe tbody tr th {\n",
              "        vertical-align: top;\n",
              "    }\n",
              "\n",
              "    .dataframe thead th {\n",
              "        text-align: right;\n",
              "    }\n",
              "</style>\n",
              "<table border=\"1\" class=\"dataframe\">\n",
              "  <thead>\n",
              "    <tr style=\"text-align: right;\">\n",
              "      <th></th>\n",
              "      <th>Mileage</th>\n",
              "      <th>Engine</th>\n",
              "      <th>Power</th>\n",
              "      <th>Kilometers_Driven</th>\n",
              "    </tr>\n",
              "  </thead>\n",
              "  <tbody>\n",
              "    <tr>\n",
              "      <th>Mileage</th>\n",
              "      <td>1.000000</td>\n",
              "      <td>-0.585390</td>\n",
              "      <td>-0.486514</td>\n",
              "      <td>-0.188562</td>\n",
              "    </tr>\n",
              "    <tr>\n",
              "      <th>Engine</th>\n",
              "      <td>-0.585390</td>\n",
              "      <td>1.000000</td>\n",
              "      <td>0.868486</td>\n",
              "      <td>0.167900</td>\n",
              "    </tr>\n",
              "    <tr>\n",
              "      <th>Power</th>\n",
              "      <td>-0.486514</td>\n",
              "      <td>0.868486</td>\n",
              "      <td>1.000000</td>\n",
              "      <td>-0.078993</td>\n",
              "    </tr>\n",
              "    <tr>\n",
              "      <th>Kilometers_Driven</th>\n",
              "      <td>-0.188562</td>\n",
              "      <td>0.167900</td>\n",
              "      <td>-0.078993</td>\n",
              "      <td>1.000000</td>\n",
              "    </tr>\n",
              "  </tbody>\n",
              "</table>\n",
              "</div>"
            ],
            "text/plain": [
              "                    Mileage    Engine     Power  Kilometers_Driven\n",
              "Mileage            1.000000 -0.585390 -0.486514          -0.188562\n",
              "Engine            -0.585390  1.000000  0.868486           0.167900\n",
              "Power             -0.486514  0.868486  1.000000          -0.078993\n",
              "Kilometers_Driven -0.188562  0.167900 -0.078993           1.000000"
            ]
          },
          "metadata": {},
          "execution_count": 642
        }
      ]
    },
    {
      "cell_type": "code",
      "metadata": {
        "id": "kJFuS_eZl9--"
      },
      "source": [
        "#주관적인 생각으로 좌석수는 중고차 시장에서 크게 중요하지 않다고 생각되므로 생략\n",
        "my_car = my_car.drop(['Engine','Seats','Owner_Type','Fuel_Type'],axis=1)"
      ],
      "execution_count": 643,
      "outputs": []
    },
    {
      "cell_type": "code",
      "metadata": {
        "colab": {
          "base_uri": "https://localhost:8080/",
          "height": 206
        },
        "id": "k8UfT2zVmYKg",
        "outputId": "f052fbce-89a7-4e1e-c929-30db909510ee"
      },
      "source": [
        "#data의 최종 형태\n",
        "my_car.head()"
      ],
      "execution_count": 644,
      "outputs": [
        {
          "output_type": "execute_result",
          "data": {
            "text/html": [
              "<div>\n",
              "<style scoped>\n",
              "    .dataframe tbody tr th:only-of-type {\n",
              "        vertical-align: middle;\n",
              "    }\n",
              "\n",
              "    .dataframe tbody tr th {\n",
              "        vertical-align: top;\n",
              "    }\n",
              "\n",
              "    .dataframe thead th {\n",
              "        text-align: right;\n",
              "    }\n",
              "</style>\n",
              "<table border=\"1\" class=\"dataframe\">\n",
              "  <thead>\n",
              "    <tr style=\"text-align: right;\">\n",
              "      <th></th>\n",
              "      <th>Year</th>\n",
              "      <th>Kilometers_Driven</th>\n",
              "      <th>Mileage</th>\n",
              "      <th>Power</th>\n",
              "      <th>Maker</th>\n",
              "    </tr>\n",
              "  </thead>\n",
              "  <tbody>\n",
              "    <tr>\n",
              "      <th>0</th>\n",
              "      <td>2013</td>\n",
              "      <td>85000</td>\n",
              "      <td>17.68</td>\n",
              "      <td>174.33</td>\n",
              "      <td>Audi</td>\n",
              "    </tr>\n",
              "    <tr>\n",
              "      <th>1</th>\n",
              "      <td>2017</td>\n",
              "      <td>27000</td>\n",
              "      <td>21.40</td>\n",
              "      <td>83.10</td>\n",
              "      <td>Maruti</td>\n",
              "    </tr>\n",
              "    <tr>\n",
              "      <th>2</th>\n",
              "      <td>2016</td>\n",
              "      <td>45794</td>\n",
              "      <td>13.01</td>\n",
              "      <td>194.30</td>\n",
              "      <td>Hyundai</td>\n",
              "    </tr>\n",
              "    <tr>\n",
              "      <th>3</th>\n",
              "      <td>2013</td>\n",
              "      <td>57352</td>\n",
              "      <td>14.39</td>\n",
              "      <td>163.70</td>\n",
              "      <td>Chevrolet</td>\n",
              "    </tr>\n",
              "    <tr>\n",
              "      <th>4</th>\n",
              "      <td>2018</td>\n",
              "      <td>41467</td>\n",
              "      <td>15.00</td>\n",
              "      <td>204.00</td>\n",
              "      <td>Mercedes-Benz</td>\n",
              "    </tr>\n",
              "  </tbody>\n",
              "</table>\n",
              "</div>"
            ],
            "text/plain": [
              "   Year  Kilometers_Driven  Mileage   Power          Maker\n",
              "0  2013              85000    17.68  174.33           Audi\n",
              "1  2017              27000    21.40   83.10         Maruti\n",
              "2  2016              45794    13.01  194.30        Hyundai\n",
              "3  2013              57352    14.39  163.70      Chevrolet\n",
              "4  2018              41467    15.00  204.00  Mercedes-Benz"
            ]
          },
          "metadata": {},
          "execution_count": 644
        }
      ]
    },
    {
      "cell_type": "code",
      "metadata": {
        "colab": {
          "base_uri": "https://localhost:8080/",
          "height": 206
        },
        "id": "45XJg2kzm-1Z",
        "outputId": "cdd35759-5e0b-4845-ddbf-715a14880779"
      },
      "source": [
        "col = list(my_car.columns)\n",
        "col.append('Price')\n",
        "train_car=train_car[col]\n",
        "train_car.head()"
      ],
      "execution_count": 645,
      "outputs": [
        {
          "output_type": "execute_result",
          "data": {
            "text/html": [
              "<div>\n",
              "<style scoped>\n",
              "    .dataframe tbody tr th:only-of-type {\n",
              "        vertical-align: middle;\n",
              "    }\n",
              "\n",
              "    .dataframe tbody tr th {\n",
              "        vertical-align: top;\n",
              "    }\n",
              "\n",
              "    .dataframe thead th {\n",
              "        text-align: right;\n",
              "    }\n",
              "</style>\n",
              "<table border=\"1\" class=\"dataframe\">\n",
              "  <thead>\n",
              "    <tr style=\"text-align: right;\">\n",
              "      <th></th>\n",
              "      <th>Year</th>\n",
              "      <th>Kilometers_Driven</th>\n",
              "      <th>Mileage</th>\n",
              "      <th>Power</th>\n",
              "      <th>Maker</th>\n",
              "      <th>Price</th>\n",
              "    </tr>\n",
              "  </thead>\n",
              "  <tbody>\n",
              "    <tr>\n",
              "      <th>0</th>\n",
              "      <td>2015</td>\n",
              "      <td>41000</td>\n",
              "      <td>19.67</td>\n",
              "      <td>126.20</td>\n",
              "      <td>Hyundai</td>\n",
              "      <td>12.50</td>\n",
              "    </tr>\n",
              "    <tr>\n",
              "      <th>1</th>\n",
              "      <td>2011</td>\n",
              "      <td>46000</td>\n",
              "      <td>18.20</td>\n",
              "      <td>88.70</td>\n",
              "      <td>Honda</td>\n",
              "      <td>4.50</td>\n",
              "    </tr>\n",
              "    <tr>\n",
              "      <th>2</th>\n",
              "      <td>2012</td>\n",
              "      <td>87000</td>\n",
              "      <td>20.77</td>\n",
              "      <td>88.76</td>\n",
              "      <td>Maruti</td>\n",
              "      <td>6.00</td>\n",
              "    </tr>\n",
              "    <tr>\n",
              "      <th>3</th>\n",
              "      <td>2013</td>\n",
              "      <td>40670</td>\n",
              "      <td>15.20</td>\n",
              "      <td>140.80</td>\n",
              "      <td>Audi</td>\n",
              "      <td>17.74</td>\n",
              "    </tr>\n",
              "    <tr>\n",
              "      <th>4</th>\n",
              "      <td>2013</td>\n",
              "      <td>86999</td>\n",
              "      <td>23.08</td>\n",
              "      <td>63.10</td>\n",
              "      <td>Nissan</td>\n",
              "      <td>3.50</td>\n",
              "    </tr>\n",
              "  </tbody>\n",
              "</table>\n",
              "</div>"
            ],
            "text/plain": [
              "   Year  Kilometers_Driven  Mileage   Power    Maker  Price\n",
              "0  2015              41000    19.67  126.20  Hyundai  12.50\n",
              "1  2011              46000    18.20   88.70    Honda   4.50\n",
              "2  2012              87000    20.77   88.76   Maruti   6.00\n",
              "3  2013              40670    15.20  140.80     Audi  17.74\n",
              "4  2013              86999    23.08   63.10   Nissan   3.50"
            ]
          },
          "metadata": {},
          "execution_count": 645
        }
      ]
    },
    {
      "cell_type": "markdown",
      "metadata": {
        "id": "OtQh0Ib1nZsz"
      },
      "source": [
        "## 범주형 변환"
      ]
    },
    {
      "cell_type": "code",
      "metadata": {
        "id": "avXcXD6snZY7"
      },
      "source": [
        "train_car['Year'] = train_car['Year'].astype('object')\n",
        "my_car['Year'] = my_car['Year'].astype('object')\n",
        "# train_car['Seats'] = train_car['Seats'].astype('object')\n",
        "# my_car['Seats'] = my_car['Seats'].astype('object')"
      ],
      "execution_count": 646,
      "outputs": []
    },
    {
      "cell_type": "code",
      "metadata": {
        "id": "4gjnex9dom1i"
      },
      "source": [
        "train_car_1 = pd.get_dummies(train_car,drop_first=True)\n",
        "my_car_1 = pd.get_dummies(my_car,drop_first=True)"
      ],
      "execution_count": 647,
      "outputs": []
    },
    {
      "cell_type": "code",
      "metadata": {
        "colab": {
          "base_uri": "https://localhost:8080/"
        },
        "id": "n54Bln2yxfOb",
        "outputId": "43409d62-2080-4614-8d35-8e29a2fb5a07"
      },
      "source": [
        "print(train_car_1.columns)\n",
        "print(my_car_1.columns)"
      ],
      "execution_count": 648,
      "outputs": [
        {
          "output_type": "stream",
          "name": "stdout",
          "text": [
            "Index(['Kilometers_Driven', 'Mileage', 'Power', 'Price', 'Year_1999',\n",
            "       'Year_2000', 'Year_2001', 'Year_2002', 'Year_2003', 'Year_2004',\n",
            "       'Year_2005', 'Year_2006', 'Year_2007', 'Year_2008', 'Year_2009',\n",
            "       'Year_2010', 'Year_2011', 'Year_2012', 'Year_2013', 'Year_2014',\n",
            "       'Year_2015', 'Year_2016', 'Year_2017', 'Year_2018', 'Year_2019',\n",
            "       'Maker_Audi', 'Maker_BMW', 'Maker_Bentley', 'Maker_Chevrolet',\n",
            "       'Maker_Datsun', 'Maker_Fiat', 'Maker_Force', 'Maker_Ford',\n",
            "       'Maker_Honda', 'Maker_Hyundai', 'Maker_ISUZU', 'Maker_Isuzu',\n",
            "       'Maker_Jaguar', 'Maker_Jeep', 'Maker_LandRover', 'Maker_Mahindra',\n",
            "       'Maker_Maruti', 'Maker_Mercedes-Benz', 'Maker_Mini', 'Maker_Mitsubishi',\n",
            "       'Maker_Nissan', 'Maker_Porsche', 'Maker_Renault', 'Maker_Skoda',\n",
            "       'Maker_Tata', 'Maker_Toyota', 'Maker_Volkswagen', 'Maker_Volvo'],\n",
            "      dtype='object')\n",
            "Index(['Kilometers_Driven', 'Mileage', 'Power', 'Year_2003', 'Year_2004',\n",
            "       'Year_2005', 'Year_2006', 'Year_2007', 'Year_2008', 'Year_2009',\n",
            "       'Year_2010', 'Year_2011', 'Year_2012', 'Year_2013', 'Year_2014',\n",
            "       'Year_2015', 'Year_2016', 'Year_2017', 'Year_2018', 'Year_2019',\n",
            "       'Maker_BMW', 'Maker_Chevrolet', 'Maker_Ford', 'Maker_Honda',\n",
            "       'Maker_Hyundai', 'Maker_ISUZU', 'Maker_Jaguar', 'Maker_Lamborghini',\n",
            "       'Maker_Mahindra', 'Maker_Maruti', 'Maker_Mercedes-Benz',\n",
            "       'Maker_Mitsubishi', 'Maker_Nissan', 'Maker_Renault', 'Maker_Skoda',\n",
            "       'Maker_Tata', 'Maker_Toyota', 'Maker_Volkswagen', 'Maker_Volvo'],\n",
            "      dtype='object')\n"
          ]
        }
      ]
    },
    {
      "cell_type": "code",
      "metadata": {
        "colab": {
          "base_uri": "https://localhost:8080/"
        },
        "id": "8TKB3lyxoxuo",
        "outputId": "4d6f4c08-2af6-46e1-d5ba-1f98bd3b9f97"
      },
      "source": [
        "print(train_car.columns)\n",
        "print(my_car.columns)"
      ],
      "execution_count": 649,
      "outputs": [
        {
          "output_type": "stream",
          "name": "stdout",
          "text": [
            "Index(['Year', 'Kilometers_Driven', 'Mileage', 'Power', 'Maker', 'Price'], dtype='object')\n",
            "Index(['Year', 'Kilometers_Driven', 'Mileage', 'Power', 'Maker'], dtype='object')\n"
          ]
        }
      ]
    },
    {
      "cell_type": "code",
      "metadata": {
        "id": "0xR8840ZqXjN"
      },
      "source": [
        "#보면 학습을 위한 data의 범주형 데이터엔 있는 값들이 test를 위한 data에는 존재하지 않기에\n",
        "#열의 수가 다른 현상이 발생 어쩔 수 없이 year와 Maker변수는 삭제\n",
        "# my_car = my_car.drop(['Year','Maker'],axis=1)\n",
        "# train_car = train_car.drop(['Year','Maker'],axis=1)\n",
        "## 원래는 저 두 열을 지우려고 했으나 R^2값이 음수가 나오는 관계로 데이터를 조작하기로 결정"
      ],
      "execution_count": 650,
      "outputs": []
    },
    {
      "cell_type": "markdown",
      "metadata": {
        "id": "GVRXX70M68bR"
      },
      "source": [
        "### 데이터 조작\n",
        "* year data 2000년부터 5년 단위로 나누기로 결정\n",
        "* 자동차 제조사는 국가로 결정"
      ]
    },
    {
      "cell_type": "code",
      "metadata": {
        "colab": {
          "base_uri": "https://localhost:8080/"
        },
        "id": "Ha2FYDWc9unk",
        "outputId": "6d3e43cf-c7c5-4f1c-e286-e1d1cab9ed71"
      },
      "source": [
        "new_year_train = []\n",
        "new_year_my = []\n",
        "for i in train_car['Year']:\n",
        "  if i < 2005:\n",
        "    new_year_train.append('first')\n",
        "  elif 2005<=i <2010:\n",
        "    new_year_train.append('second')\n",
        "  elif 2010<=i <2015:\n",
        "    new_year_train.append('third')\n",
        "  elif 2015<=i <2020:\n",
        "    new_year_train.append('fourth')\n",
        "\n",
        "for i in my_car['Year']:\n",
        "  if i < 2005:\n",
        "    new_year_my.append('first')\n",
        "    print(i)\n",
        "  elif 2005<=i <2010:\n",
        "    new_year_my.append('second')\n",
        "  elif 2010<=i <2015:\n",
        "    new_year_my.append('third')\n",
        "  elif 2015<=i <2020:\n",
        "    new_year_my.append('fourth')"
      ],
      "execution_count": 651,
      "outputs": [
        {
          "output_type": "stream",
          "name": "stdout",
          "text": [
            "2004\n",
            "2004\n",
            "2003\n",
            "2000\n",
            "2004\n"
          ]
        }
      ]
    },
    {
      "cell_type": "code",
      "metadata": {
        "id": "gxQ6KHSs_sVO"
      },
      "source": [
        "new_maker_train=[]\n",
        "new_maker_my = []\n",
        "japan = ['Audi', 'Datsun', 'Isuzu', 'Mitsubishi', 'Nissan', 'Toyota','Honda','ISUZU']\n",
        "ger = ['BMW', 'Mercedes-Benz', 'Porsche', 'Skoda', 'Volkswagen']\n",
        "eng = ['Bentley', 'Jaguar', 'LandRover', 'Mini']\n",
        "am = ['Chevrolet', 'Jeep','Ford']\n",
        "ity = ['Fiat','Lamborghini']\n",
        "indi = ['Force', 'Mahindra' ,'Maruti', 'Tata','Ambassador']\n",
        "fra = ['Renault']\n",
        "swa = ['Volvo']\n",
        "kor = ['Hyundai']\n",
        "for i in train_car['Maker']:\n",
        "  if i in japan:\n",
        "    new_maker_train.append('jap')\n",
        "  elif i in ger:\n",
        "    new_maker_train.append('ger')\n",
        "  elif i in eng:\n",
        "    new_maker_train.append('eng')\n",
        "  elif i in am:\n",
        "    new_maker_train.append('am')\n",
        "  elif i in ity:\n",
        "    new_maker_train.append('ity')\n",
        "  elif i in indi:\n",
        "    new_maker_train.append('indi')\n",
        "  elif i in fra:\n",
        "    new_maker_train.append('fra')\n",
        "  elif i in swa:\n",
        "    new_maker_train.append('swa')\n",
        "  elif i in kor:\n",
        "    new_maker_train.append('kor')\n",
        "\n",
        "for i in my_car['Maker']:\n",
        "  if i in japan:\n",
        "    new_maker_my.append('jap')\n",
        "  elif i in ger:\n",
        "    new_maker_my.append('ger')\n",
        "  elif i in eng:\n",
        "    new_maker_my.append('eng')\n",
        "  elif i in am:\n",
        "    new_maker_my.append('am')\n",
        "  elif i in ity:\n",
        "    new_maker_my.append('ity')\n",
        "  elif i in indi:\n",
        "    new_maker_my.append('indi')\n",
        "  elif i in fra:\n",
        "    new_maker_my.append('fra')\n",
        "  elif i in swa:\n",
        "    new_maker_my.append('swa')\n",
        "  elif i in kor:\n",
        "    new_maker_my.append('kor')"
      ],
      "execution_count": 652,
      "outputs": []
    },
    {
      "cell_type": "code",
      "metadata": {
        "id": "wfxvv6kuEcAJ"
      },
      "source": [
        "train_car['Year'] = new_year_train\n",
        "my_car['Year'] = new_year_my"
      ],
      "execution_count": 653,
      "outputs": []
    },
    {
      "cell_type": "code",
      "metadata": {
        "id": "Ngued3ENEpAP"
      },
      "source": [
        "train_car['Maker'] = new_maker_train\n",
        "my_car['Maker'] = new_maker_my"
      ],
      "execution_count": 654,
      "outputs": []
    },
    {
      "cell_type": "code",
      "metadata": {
        "id": "oXKW25aTHAx9"
      },
      "source": [
        "# train_car=train_car.drop(['Year'],axis=1)"
      ],
      "execution_count": 655,
      "outputs": []
    },
    {
      "cell_type": "code",
      "metadata": {
        "id": "q8xo5PjpvLmD"
      },
      "source": [
        "train_car = pd.get_dummies(train_car,drop_first=True)\n",
        "my_car = pd.get_dummies(my_car,drop_first=True)"
      ],
      "execution_count": 656,
      "outputs": []
    },
    {
      "cell_type": "code",
      "metadata": {
        "colab": {
          "base_uri": "https://localhost:8080/"
        },
        "id": "nBgNQukMF9-N",
        "outputId": "e609d36e-4d39-464b-ad90-2ead52fd7d59"
      },
      "source": [
        "print(train_car.columns)\n",
        "print(my_car.columns)"
      ],
      "execution_count": 657,
      "outputs": [
        {
          "output_type": "stream",
          "name": "stdout",
          "text": [
            "Index(['Kilometers_Driven', 'Mileage', 'Power', 'Price', 'Year_fourth',\n",
            "       'Year_second', 'Year_third', 'Maker_eng', 'Maker_fra', 'Maker_ger',\n",
            "       'Maker_indi', 'Maker_ity', 'Maker_jap', 'Maker_kor', 'Maker_swa'],\n",
            "      dtype='object')\n",
            "Index(['Kilometers_Driven', 'Mileage', 'Power', 'Year_fourth', 'Year_second',\n",
            "       'Year_third', 'Maker_eng', 'Maker_fra', 'Maker_ger', 'Maker_indi',\n",
            "       'Maker_ity', 'Maker_jap', 'Maker_kor', 'Maker_swa'],\n",
            "      dtype='object')\n"
          ]
        }
      ]
    },
    {
      "cell_type": "markdown",
      "metadata": {
        "id": "UHF7WirMt4_-"
      },
      "source": [
        "## 데이터 분리"
      ]
    },
    {
      "cell_type": "code",
      "metadata": {
        "colab": {
          "base_uri": "https://localhost:8080/"
        },
        "id": "jTDBfZGnt6is",
        "outputId": "35ef93aa-8354-4a5b-fe45-2f8543dc8a53"
      },
      "source": [
        "from sklearn.model_selection import train_test_split\n",
        "\n",
        "train,test = train_test_split(train_car,train_size=0.8)\n",
        "train = train.reset_index(drop=True)\n",
        "test = test.reset_index(drop=True)\n",
        "print(len(train))\n",
        "print(len(test))"
      ],
      "execution_count": 658,
      "outputs": [
        {
          "output_type": "stream",
          "name": "stdout",
          "text": [
            "4446\n",
            "1112\n"
          ]
        }
      ]
    },
    {
      "cell_type": "code",
      "metadata": {
        "id": "YCnB1WZcrZkC"
      },
      "source": [
        "train_y = train['Price'].to_numpy()\n",
        "train_x = train.drop(['Price'],axis=1).to_numpy()\n",
        "test_y = test['Price'].to_numpy()\n",
        "test_x = test.drop('Price',axis=1).to_numpy()\n",
        "my_x = my_car.to_numpy()"
      ],
      "execution_count": 659,
      "outputs": []
    },
    {
      "cell_type": "markdown",
      "metadata": {
        "id": "j7DUtIjPu-fP"
      },
      "source": [
        "## scale 조정\n",
        "* 안하는게 훨씬 나음"
      ]
    },
    {
      "cell_type": "code",
      "metadata": {
        "id": "Q4iNZmmptypG"
      },
      "source": [
        "# import sklearn.preprocessing\n",
        "# scaler = sklearn.preprocessing.MinMaxScaler()\n",
        "# train_X = scaler.fit_transform(train_x)\n",
        "# test_X = scaler.fit_transform(test_x)"
      ],
      "execution_count": 660,
      "outputs": []
    },
    {
      "cell_type": "code",
      "metadata": {
        "colab": {
          "base_uri": "https://localhost:8080/"
        },
        "id": "dC9PUdzAwSyI",
        "outputId": "fbc13153-c7d3-4014-b774-29fac04d9aa0"
      },
      "source": [
        "train_x"
      ],
      "execution_count": 661,
      "outputs": [
        {
          "output_type": "execute_result",
          "data": {
            "text/plain": [
              "array([[5.4308e+04, 1.7100e+01, 1.2130e+02, ..., 0.0000e+00, 1.0000e+00,\n",
              "        0.0000e+00],\n",
              "       [5.7000e+04, 2.0770e+01, 8.8800e+01, ..., 0.0000e+00, 0.0000e+00,\n",
              "        0.0000e+00],\n",
              "       [7.6752e+04, 1.7400e+01, 1.1730e+02, ..., 1.0000e+00, 0.0000e+00,\n",
              "        0.0000e+00],\n",
              "       ...,\n",
              "       [1.7585e+04, 1.6020e+01, 9.3700e+01, ..., 0.0000e+00, 0.0000e+00,\n",
              "        0.0000e+00],\n",
              "       [4.1290e+04, 1.6000e+01, 1.4000e+02, ..., 0.0000e+00, 0.0000e+00,\n",
              "        0.0000e+00],\n",
              "       [3.7873e+04, 2.2320e+01, 1.2632e+02, ..., 0.0000e+00, 1.0000e+00,\n",
              "        0.0000e+00]])"
            ]
          },
          "metadata": {},
          "execution_count": 661
        }
      ]
    },
    {
      "cell_type": "markdown",
      "metadata": {
        "id": "cz6lP3LPmgAC"
      },
      "source": [
        "# 모델링"
      ]
    },
    {
      "cell_type": "code",
      "metadata": {
        "id": "uLlAqUlgmiaf"
      },
      "source": [
        "model = LinearRegression(fit_intercept=False,normalize=True,copy_X=True)"
      ],
      "execution_count": 662,
      "outputs": []
    },
    {
      "cell_type": "code",
      "metadata": {
        "colab": {
          "base_uri": "https://localhost:8080/"
        },
        "id": "QvqFzlBkrUdH",
        "outputId": "40b963e2-606f-40f4-c05c-a6708231ffa1"
      },
      "source": [
        "model.fit(train_x,train_y)"
      ],
      "execution_count": 663,
      "outputs": [
        {
          "output_type": "execute_result",
          "data": {
            "text/plain": [
              "LinearRegression(copy_X=True, fit_intercept=False, n_jobs=None, normalize=True)"
            ]
          },
          "metadata": {},
          "execution_count": 663
        }
      ]
    },
    {
      "cell_type": "code",
      "metadata": {
        "colab": {
          "base_uri": "https://localhost:8080/"
        },
        "id": "V1wBAuTNvgbd",
        "outputId": "3f39341f-409a-4a35-d69a-e7eded240815"
      },
      "source": [
        "print('R-Square:{}'.format(model.score(train_x,train_y)))\n",
        "print('R-Square:{}'.format(model.score(test_x,test_y)))"
      ],
      "execution_count": 664,
      "outputs": [
        {
          "output_type": "stream",
          "name": "stdout",
          "text": [
            "R-Square:0.7032250064793385\n",
            "R-Square:0.6668194528977337\n"
          ]
        }
      ]
    },
    {
      "cell_type": "markdown",
      "metadata": {
        "id": "nVRFzL1DHxQw"
      },
      "source": [
        "# 모델평가"
      ]
    },
    {
      "cell_type": "code",
      "metadata": {
        "colab": {
          "base_uri": "https://localhost:8080/",
          "height": 423
        },
        "id": "tO8afF70Hw2J",
        "outputId": "8671d079-faaa-406c-d19d-9f98ec6feac4"
      },
      "source": [
        "train_predict = model.predict(train_x)\n",
        "compare = pd.concat([pd.DataFrame(abs(train_predict)),pd.DataFrame(train_y)],axis=1)\n",
        "compare"
      ],
      "execution_count": 665,
      "outputs": [
        {
          "output_type": "execute_result",
          "data": {
            "text/html": [
              "<div>\n",
              "<style scoped>\n",
              "    .dataframe tbody tr th:only-of-type {\n",
              "        vertical-align: middle;\n",
              "    }\n",
              "\n",
              "    .dataframe tbody tr th {\n",
              "        vertical-align: top;\n",
              "    }\n",
              "\n",
              "    .dataframe thead th {\n",
              "        text-align: right;\n",
              "    }\n",
              "</style>\n",
              "<table border=\"1\" class=\"dataframe\">\n",
              "  <thead>\n",
              "    <tr style=\"text-align: right;\">\n",
              "      <th></th>\n",
              "      <th>0</th>\n",
              "      <th>0</th>\n",
              "    </tr>\n",
              "  </thead>\n",
              "  <tbody>\n",
              "    <tr>\n",
              "      <th>0</th>\n",
              "      <td>7.543317</td>\n",
              "      <td>4.28</td>\n",
              "    </tr>\n",
              "    <tr>\n",
              "      <th>1</th>\n",
              "      <td>3.650049</td>\n",
              "      <td>7.00</td>\n",
              "    </tr>\n",
              "    <tr>\n",
              "      <th>2</th>\n",
              "      <td>7.539555</td>\n",
              "      <td>3.57</td>\n",
              "    </tr>\n",
              "    <tr>\n",
              "      <th>3</th>\n",
              "      <td>9.083631</td>\n",
              "      <td>8.90</td>\n",
              "    </tr>\n",
              "    <tr>\n",
              "      <th>4</th>\n",
              "      <td>3.067372</td>\n",
              "      <td>4.25</td>\n",
              "    </tr>\n",
              "    <tr>\n",
              "      <th>...</th>\n",
              "      <td>...</td>\n",
              "      <td>...</td>\n",
              "    </tr>\n",
              "    <tr>\n",
              "      <th>4441</th>\n",
              "      <td>5.250727</td>\n",
              "      <td>4.75</td>\n",
              "    </tr>\n",
              "    <tr>\n",
              "      <th>4442</th>\n",
              "      <td>42.139006</td>\n",
              "      <td>19.00</td>\n",
              "    </tr>\n",
              "    <tr>\n",
              "      <th>4443</th>\n",
              "      <td>5.510461</td>\n",
              "      <td>6.35</td>\n",
              "    </tr>\n",
              "    <tr>\n",
              "      <th>4444</th>\n",
              "      <td>16.551941</td>\n",
              "      <td>10.94</td>\n",
              "    </tr>\n",
              "    <tr>\n",
              "      <th>4445</th>\n",
              "      <td>8.196922</td>\n",
              "      <td>4.80</td>\n",
              "    </tr>\n",
              "  </tbody>\n",
              "</table>\n",
              "<p>4446 rows × 2 columns</p>\n",
              "</div>"
            ],
            "text/plain": [
              "              0      0\n",
              "0      7.543317   4.28\n",
              "1      3.650049   7.00\n",
              "2      7.539555   3.57\n",
              "3      9.083631   8.90\n",
              "4      3.067372   4.25\n",
              "...         ...    ...\n",
              "4441   5.250727   4.75\n",
              "4442  42.139006  19.00\n",
              "4443   5.510461   6.35\n",
              "4444  16.551941  10.94\n",
              "4445   8.196922   4.80\n",
              "\n",
              "[4446 rows x 2 columns]"
            ]
          },
          "metadata": {},
          "execution_count": 665
        }
      ]
    },
    {
      "cell_type": "code",
      "metadata": {
        "colab": {
          "base_uri": "https://localhost:8080/"
        },
        "id": "aHCbRALyH360",
        "outputId": "87e15f58-1bd1-400f-d942-dbf0118c0e39"
      },
      "source": [
        "mean_squared_error(train_predict,train_y)"
      ],
      "execution_count": 666,
      "outputs": [
        {
          "output_type": "execute_result",
          "data": {
            "text/plain": [
              "37.683037348187085"
            ]
          },
          "metadata": {},
          "execution_count": 666
        }
      ]
    },
    {
      "cell_type": "code",
      "metadata": {
        "colab": {
          "base_uri": "https://localhost:8080/",
          "height": 423
        },
        "id": "CVl4Bn-IIBfA",
        "outputId": "70831060-d0c3-44fd-fee5-cb648a294077"
      },
      "source": [
        "test_predict = model.predict(test_x)\n",
        "compare = pd.concat([pd.DataFrame(abs(test_predict)),pd.DataFrame(test_y)],axis=1)\n",
        "compare"
      ],
      "execution_count": 667,
      "outputs": [
        {
          "output_type": "execute_result",
          "data": {
            "text/html": [
              "<div>\n",
              "<style scoped>\n",
              "    .dataframe tbody tr th:only-of-type {\n",
              "        vertical-align: middle;\n",
              "    }\n",
              "\n",
              "    .dataframe tbody tr th {\n",
              "        vertical-align: top;\n",
              "    }\n",
              "\n",
              "    .dataframe thead th {\n",
              "        text-align: right;\n",
              "    }\n",
              "</style>\n",
              "<table border=\"1\" class=\"dataframe\">\n",
              "  <thead>\n",
              "    <tr style=\"text-align: right;\">\n",
              "      <th></th>\n",
              "      <th>0</th>\n",
              "      <th>0</th>\n",
              "    </tr>\n",
              "  </thead>\n",
              "  <tbody>\n",
              "    <tr>\n",
              "      <th>0</th>\n",
              "      <td>0.851800</td>\n",
              "      <td>2.35</td>\n",
              "    </tr>\n",
              "    <tr>\n",
              "      <th>1</th>\n",
              "      <td>7.239580</td>\n",
              "      <td>5.77</td>\n",
              "    </tr>\n",
              "    <tr>\n",
              "      <th>2</th>\n",
              "      <td>3.242520</td>\n",
              "      <td>5.00</td>\n",
              "    </tr>\n",
              "    <tr>\n",
              "      <th>3</th>\n",
              "      <td>19.480461</td>\n",
              "      <td>19.50</td>\n",
              "    </tr>\n",
              "    <tr>\n",
              "      <th>4</th>\n",
              "      <td>16.294561</td>\n",
              "      <td>25.64</td>\n",
              "    </tr>\n",
              "    <tr>\n",
              "      <th>...</th>\n",
              "      <td>...</td>\n",
              "      <td>...</td>\n",
              "    </tr>\n",
              "    <tr>\n",
              "      <th>1107</th>\n",
              "      <td>7.756863</td>\n",
              "      <td>5.45</td>\n",
              "    </tr>\n",
              "    <tr>\n",
              "      <th>1108</th>\n",
              "      <td>3.172462</td>\n",
              "      <td>5.35</td>\n",
              "    </tr>\n",
              "    <tr>\n",
              "      <th>1109</th>\n",
              "      <td>19.585315</td>\n",
              "      <td>9.75</td>\n",
              "    </tr>\n",
              "    <tr>\n",
              "      <th>1110</th>\n",
              "      <td>33.011394</td>\n",
              "      <td>21.50</td>\n",
              "    </tr>\n",
              "    <tr>\n",
              "      <th>1111</th>\n",
              "      <td>6.944514</td>\n",
              "      <td>6.50</td>\n",
              "    </tr>\n",
              "  </tbody>\n",
              "</table>\n",
              "<p>1112 rows × 2 columns</p>\n",
              "</div>"
            ],
            "text/plain": [
              "              0      0\n",
              "0      0.851800   2.35\n",
              "1      7.239580   5.77\n",
              "2      3.242520   5.00\n",
              "3     19.480461  19.50\n",
              "4     16.294561  25.64\n",
              "...         ...    ...\n",
              "1107   7.756863   5.45\n",
              "1108   3.172462   5.35\n",
              "1109  19.585315   9.75\n",
              "1110  33.011394  21.50\n",
              "1111   6.944514   6.50\n",
              "\n",
              "[1112 rows x 2 columns]"
            ]
          },
          "metadata": {},
          "execution_count": 667
        }
      ]
    },
    {
      "cell_type": "code",
      "metadata": {
        "colab": {
          "base_uri": "https://localhost:8080/"
        },
        "id": "ulKNUJKVIDdQ",
        "outputId": "17ba432b-9452-41c0-db71-1bf06e5e51be"
      },
      "source": [
        "mean_squared_error(test_predict,test_y)"
      ],
      "execution_count": 668,
      "outputs": [
        {
          "output_type": "execute_result",
          "data": {
            "text/plain": [
              "39.25202013417122"
            ]
          },
          "metadata": {},
          "execution_count": 668
        }
      ]
    },
    {
      "cell_type": "code",
      "metadata": {
        "colab": {
          "base_uri": "https://localhost:8080/",
          "height": 284
        },
        "id": "sDE3dZK7IFSg",
        "outputId": "061e4b58-fd25-4049-ae27-2ed63d4c8d05"
      },
      "source": [
        "compare.columns = ['pred','real']\n",
        "plt.scatter(compare['pred'],compare.real)"
      ],
      "execution_count": 669,
      "outputs": [
        {
          "output_type": "execute_result",
          "data": {
            "text/plain": [
              "<matplotlib.collections.PathCollection at 0x7fea3d499e90>"
            ]
          },
          "metadata": {},
          "execution_count": 669
        },
        {
          "output_type": "display_data",
          "data": {
            "image/png": "[encoded data removed]",
            "text/plain": [
              "<Figure size 432x288 with 1 Axes>"
            ]
          },
          "metadata": {
            "needs_background": "light"
          }
        }
      ]
    },
    {
      "cell_type": "code",
      "metadata": {
        "id": "Ss8mLIaMIaRK"
      },
      "source": [
        "my_predict = model.predict(my_car)\n",
        "result = pd.DataFrame(abs(my_predict)).to_csv(data_path+'/+result.csv')"
      ],
      "execution_count": 670,
      "outputs": []
    }
  ]
}